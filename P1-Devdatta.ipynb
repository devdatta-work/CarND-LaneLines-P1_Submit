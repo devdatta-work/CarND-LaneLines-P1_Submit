{
 "cells": [
  {
   "cell_type": "markdown",
   "metadata": {
    "deletable": true,
    "editable": true
   },
   "source": [
    "# Self-Driving Car Engineer Nanodegree\n",
    "\n",
    "\n",
    "## Project: **Finding Lane Lines on the Road** \n",
    "***\n",
    "In this project, you will use the tools you learned about in the lesson to identify lane lines on the road.  You can develop your pipeline on a series of individual images, and later apply the result to a video stream (really just a series of images). Check out the video clip \"raw-lines-example.mp4\" (also contained in this repository) to see what the output should look like after using the helper functions below. \n",
    "\n",
    "Once you have a result that looks roughly like \"raw-lines-example.mp4\", you'll need to get creative and try to average and/or extrapolate the line segments you've detected to map out the full extent of the lane lines.  You can see an example of the result you're going for in the video \"P1_example.mp4\".  Ultimately, you would like to draw just one line for the left side of the lane, and one for the right.\n",
    "\n",
    "In addition to implementing code, there is a brief writeup to complete. The writeup should be completed in a separate file, which can be either a markdown file or a pdf document. There is a [write up template](https://github.com/udacity/CarND-LaneLines-P1/blob/master/writeup_template.md) that can be used to guide the writing process. Completing both the code in the Ipython notebook and the writeup template will cover all of the [rubric points](https://review.udacity.com/#!/rubrics/322/view) for this project.\n",
    "\n",
    "---\n",
    "Let's have a look at our first image called 'test_images/solidWhiteRight.jpg'.  Run the 2 cells below (hit Shift-Enter or the \"play\" button above) to display the image.\n",
    "\n",
    "**Note: If, at any point, you encounter frozen display windows or other confounding issues, you can always start again with a clean slate by going to the \"Kernel\" menu above and selecting \"Restart & Clear Output\".**\n",
    "\n",
    "---"
   ]
  },
  {
   "cell_type": "markdown",
   "metadata": {
    "deletable": true,
    "editable": true
   },
   "source": [
    "**The tools you have are color selection, region of interest selection, grayscaling, Gaussian smoothing, Canny Edge Detection and Hough Tranform line detection.  You  are also free to explore and try other techniques that were not presented in the lesson.  Your goal is piece together a pipeline to detect the line segments in the image, then average/extrapolate them and draw them onto the image for display (as below).  Once you have a working pipeline, try it out on the video stream below.**\n",
    "\n",
    "---\n",
    "\n",
    "<figure>\n",
    " <img src=\"examples/line-segments-example.jpg\" width=\"380\" alt=\"Combined Image\" />\n",
    " <figcaption>\n",
    " <p></p> \n",
    " <p style=\"text-align: center;\"> Your output should look something like this (above) after detecting line segments using the helper functions below </p> \n",
    " </figcaption>\n",
    "</figure>\n",
    " <p></p> \n",
    "<figure>\n",
    " <img src=\"examples/laneLines_thirdPass.jpg\" width=\"380\" alt=\"Combined Image\" />\n",
    " <figcaption>\n",
    " <p></p> \n",
    " <p style=\"text-align: center;\"> Your goal is to connect/average/extrapolate line segments to get output like this</p> \n",
    " </figcaption>\n",
    "</figure>"
   ]
  },
  {
   "cell_type": "markdown",
   "metadata": {
    "deletable": true,
    "editable": true
   },
   "source": [
    "**Run the cell below to import some packages.  If you get an `import error` for a package you've already installed, try changing your kernel (select the Kernel menu above --> Change Kernel).  Still have problems?  Try relaunching Jupyter Notebook from the terminal prompt.  Also, see [this forum post](https://carnd-forums.udacity.com/cq/viewquestion.action?spaceKey=CAR&id=29496372&questionTitle=finding-lanes---import-cv2-fails-even-though-python-in-the-terminal-window-has-no-problem-with-import-cv2) for more troubleshooting tips.**  "
   ]
  },
  {
   "cell_type": "markdown",
   "metadata": {
    "deletable": true,
    "editable": true
   },
   "source": [
    "## Import Packages"
   ]
  },
  {
   "cell_type": "code",
   "execution_count": 1,
   "metadata": {
    "collapsed": false,
    "deletable": true,
    "editable": true
   },
   "outputs": [],
   "source": [
    "#importing some useful packages\n",
    "import matplotlib.pyplot as plt\n",
    "import matplotlib.image as mpimg\n",
    "import numpy as np\n",
    "import cv2\n",
    "%matplotlib inline"
   ]
  },
  {
   "cell_type": "markdown",
   "metadata": {
    "deletable": true,
    "editable": true
   },
   "source": [
    "## Read in an Image"
   ]
  },
  {
   "cell_type": "code",
   "execution_count": null,
   "metadata": {
    "collapsed": false,
    "deletable": true,
    "editable": true
   },
   "outputs": [],
   "source": [
    "#reading in an image\n",
    "image = mpimg.imread('test_images/solidWhiteCurve.jpg')\n",
    "\n",
    "#printing out some stats and plotting\n",
    "print('This image is:', type(image), 'with dimensions:', image.shape)\n",
    "plt.imshow(image)  # if you wanted to show a single color channel image called 'gray', for example, call as plt.imshow(gray, cmap='gray')\n"
   ]
  },
  {
   "cell_type": "markdown",
   "metadata": {
    "deletable": true,
    "editable": true
   },
   "source": [
    "## Ideas for Lane Detection Pipeline"
   ]
  },
  {
   "cell_type": "markdown",
   "metadata": {
    "deletable": true,
    "editable": true
   },
   "source": [
    "**Some OpenCV functions (beyond those introduced in the lesson) that might be useful for this project are:**\n",
    "\n",
    "`cv2.inRange()` for color selection  \n",
    "`cv2.fillPoly()` for regions selection  \n",
    "`cv2.line()` to draw lines on an image given endpoints  \n",
    "`cv2.addWeighted()` to coadd / overlay two images\n",
    "`cv2.cvtColor()` to grayscale or change color\n",
    "`cv2.imwrite()` to output images to file  \n",
    "`cv2.bitwise_and()` to apply a mask to an image\n",
    "\n",
    "**Check out the OpenCV documentation to learn about these and discover even more awesome functionality!**"
   ]
  },
  {
   "cell_type": "markdown",
   "metadata": {
    "deletable": true,
    "editable": true
   },
   "source": [
    "## Helper Functions"
   ]
  },
  {
   "cell_type": "markdown",
   "metadata": {
    "deletable": true,
    "editable": true
   },
   "source": [
    "Below are some helper functions to help get you started. They should look familiar from the lesson!"
   ]
  },
  {
   "cell_type": "code",
   "execution_count": 17,
   "metadata": {
    "collapsed": false,
    "deletable": true,
    "editable": true
   },
   "outputs": [],
   "source": [
    "import math\n",
    "\n",
    "def grayscale(img):\n",
    "    \"\"\"Applies the Grayscale transform\n",
    "    This will return an image with only one color channel\n",
    "    but NOTE: to see the returned image as grayscale\n",
    "    (assuming your grayscaled image is called 'gray')\n",
    "    you should call plt.imshow(gray, cmap='gray')\"\"\"\n",
    "    return cv2.cvtColor(img, cv2.COLOR_RGB2GRAY)\n",
    "    # Or use BGR2GRAY if you read an image with cv2.imread()\n",
    "    # return cv2.cvtColor(img, cv2.COLOR_BGR2GRAY)\n",
    "    \n",
    "def canny(img, low_threshold, high_threshold):\n",
    "    \"\"\"Applies the Canny transform\"\"\"\n",
    "    return cv2.Canny(img, low_threshold, high_threshold)\n",
    "\n",
    "def gaussian_blur(img, kernel_size):\n",
    "    \"\"\"Applies a Gaussian Noise kernel\"\"\"\n",
    "    return cv2.GaussianBlur(img, (kernel_size, kernel_size), 0)\n",
    "\n",
    "def region_of_interest(img, vertices):\n",
    "    \"\"\"\n",
    "    Applies an image mask.\n",
    "    \n",
    "    Only keeps the region of the image defined by the polygon\n",
    "    formed from `vertices`. The rest of the image is set to black.\n",
    "    \"\"\"\n",
    "    #defining a blank mask to start with\n",
    "    mask = np.zeros_like(img)   \n",
    "    \n",
    "    #defining a 3 channel or 1 channel color to fill the mask with depending on the input image\n",
    "    if len(img.shape) > 2:\n",
    "        channel_count = img.shape[2]  # i.e. 3 or 4 depending on your image\n",
    "        ignore_mask_color = (255,) * channel_count\n",
    "    else:\n",
    "        ignore_mask_color = 255\n",
    "        \n",
    "    #filling pixels inside the polygon defined by \"vertices\" with the fill color    \n",
    "    cv2.fillPoly(mask, vertices, ignore_mask_color)\n",
    "    \n",
    "    #returning the image only where mask pixels are nonzero\n",
    "    masked_image = cv2.bitwise_and(img, mask)\n",
    "    return masked_image\n",
    "\n",
    "def x_point(y,m,c):\n",
    "    print('y,m,c values and isnan(y,c,m) and are:',y,m,c,math.isnan(y), math.isnan(c), math.isnan(m))\n",
    "    if (m < 0.1 and m > -0.1) or math.isnan(y) or math.isnan(c) or math.isnan(m):\n",
    "        x = 1000\n",
    "    else:\n",
    "        x = (y-c)/m\n",
    "        \n",
    "    if(math.isnan(x)):\n",
    "        x=1000\n",
    "    return int(x);\n",
    "\n",
    "def draw_lines(img, lines, thickness, color=[255, 0, 0]):\n",
    "    image1=img\n",
    "    image2=img\n",
    "    m_left_sum = -5\n",
    "    c_left_sum = 5\n",
    "    left_weight = 5\n",
    "    m_right_sum = 5\n",
    "    c_right_sum = 5\n",
    "    right_weight = 5\n",
    "    min_y_left = img.shape[1];\n",
    "    min_y_right = img.shape[1];\n",
    "    color2=[0,0,225]\n",
    "    \n",
    "    for line in lines:\n",
    "        for x1,y1,x2,y2 in line:\n",
    "            slope = (y2-y1)/(x2-x1)\n",
    "            weight = (y2-y1)^2 + (x2-x1)^2\n",
    "            intercept = y1 - slope*x1\n",
    "            if slope < -0.5:\n",
    "                m_left_sum = m_left_sum + weight*slope\n",
    "                c_left_sum = c_left_sum + weight*intercept\n",
    "                left_weight = weight + left_weight\n",
    "                min_y_left = min(y1,y2,min_y_left);\n",
    "            if slope > 0.5:\n",
    "                m_right_sum = m_right_sum + weight*slope\n",
    "                c_right_sum = c_right_sum + weight*intercept\n",
    "                right_weight = weight + right_weight \n",
    "                min_y_right = min(y1,y2,min_y_right);\n",
    "            cv2.line(image1, (x1, y1), (x2, y2), color2, thickness)\n",
    "    m_left = m_left_sum/left_weight\n",
    "    c_left = c_left_sum/left_weight\n",
    "    m_right = m_right_sum/right_weight\n",
    "    c_right = c_right_sum/right_weight\n",
    "    #left lane\n",
    "    if m_left < -0.5 and math.isnan(m_left)==0:\n",
    "        cv2.line(image1, (x_point(img.shape[1],m_left,c_left), img.shape[1]), (x_point(min_y_left,m_left,c_left), min_y_left), color, thickness*5)\n",
    "    #right lane\n",
    "    if m_right > 0.5 and math.isnan(m_left)==0:\n",
    "        cv2.line(image1, (x_point(img.shape[1],m_right,c_right), img.shape[1]), (x_point(min_y_right,m_right,c_right), min_y_right), color, thickness*5)\n",
    "    \n",
    "    for line in lines:\n",
    "        for x1,y1,x2,y2 in line:\n",
    "            cv2.line(image1, (x1, y1), (x2, y2), color2, thickness)\n",
    "    return image1   \n",
    "\n",
    "def hough_lines(img, rho, theta, threshold, min_line_len, max_line_gap, thickness):\n",
    "    \"\"\"\n",
    "    `img` should be the output of a Canny transform.\n",
    "        \n",
    "    Returns an image with hough lines drawn.\n",
    "    \"\"\"\n",
    "    lines = cv2.HoughLinesP(img, rho, theta, threshold, np.array([]), minLineLength=min_line_len, maxLineGap=max_line_gap)\n",
    "    line_img = np.zeros((img.shape[0], img.shape[1], 3), dtype=np.uint8)\n",
    "    draw_lines(line_img, lines, thickness)\n",
    "    return line_img\n",
    "\n",
    "\n",
    "\n",
    "# Python 3 has support for cool math symbols.\n",
    "\n",
    "def weighted_img(img, initial_img, α=0.8, β=1., λ=0.):\n",
    "    \"\"\"\n",
    "    `img` is the output of the hough_lines(), An image with lines drawn on it.\n",
    "    Should be a blank image (all black) with lines drawn on it.\n",
    "    \n",
    "    `initial_img` should be the image before any processing.\n",
    "    \n",
    "    The result image is computed as follows:\n",
    "    \n",
    "    initial_img * α + img * β + λ\n",
    "    NOTE: initial_img and img must be the same shape!\n",
    "    \"\"\"\n",
    "    return cv2.addWeighted(initial_img, α, img, β, λ)"
   ]
  },
  {
   "cell_type": "code",
   "execution_count": 8,
   "metadata": {
    "collapsed": false
   },
   "outputs": [],
   "source": [
    "def draw_lanes(input_image):\n",
    "    #grayscale the image\n",
    "    gray=grayscale(input_image) \n",
    "    \n",
    "    #gaussian blur with \n",
    "    kernel_size =3\n",
    "    blur_gray=gaussian_blur(gray,kernel_size)\n",
    "    \n",
    "    #canny the image with \n",
    "    low_threshold = 50 \n",
    "    high_threshold = 150\n",
    "    canny_gray=canny(blur_gray,low_threshold,high_threshold)\n",
    "\n",
    "    #mask the vertices\n",
    "    # This time we are defining a four sided polygon to mask\n",
    "    imshape = input_image.shape\n",
    "    vertices = np.array([[(0.05*imshape[1],imshape[0]),\n",
    "                          (0.40*imshape[1], imshape[0]*0.6), \n",
    "                          (0.6*imshape[1], imshape[0]*0.6), \n",
    "                          (0.95*imshape[1],imshape[0])]], dtype=np.int32)\n",
    "    masked_canny=region_of_interest(canny_gray,vertices)\n",
    "\n",
    "    #get hough_lines with rho=2, theta=np.pi/180, threshold = 20, \n",
    "    #min_line_len = 40, max_line_gap=10\n",
    "    theta = np.pi/180\n",
    "    line_image = hough_lines(masked_canny, 2, theta, 20, 40, 10,5)\n",
    "\n",
    "\n",
    "    # Paint the lines with a 0.8 weight\n",
    "    painted_image = weighted_img(line_image,input_image)\n",
    "    return painted_image\n",
    "\n",
    "\n",
    "    "
   ]
  },
  {
   "cell_type": "markdown",
   "metadata": {
    "deletable": true,
    "editable": true
   },
   "source": [
    "## Test Images\n",
    "\n",
    "Build your pipeline to work on the images in the directory \"test_images\"  \n",
    "**You should make sure your pipeline works well on these images before you try the videos.**"
   ]
  },
  {
   "cell_type": "markdown",
   "metadata": {
    "deletable": true,
    "editable": true
   },
   "source": [
    "## Build a Lane Finding Pipeline\n",
    "\n"
   ]
  },
  {
   "cell_type": "markdown",
   "metadata": {
    "deletable": true,
    "editable": true
   },
   "source": [
    "Build the pipeline and run your solution on all test_images. Make copies into the `test_images_output` directory, and you can use the images in your writeup report.\n",
    "\n",
    "Try tuning the various parameters, especially the low and high Canny thresholds as well as the Hough lines parameters."
   ]
  },
  {
   "cell_type": "code",
   "execution_count": null,
   "metadata": {
    "collapsed": false,
    "deletable": true,
    "editable": true
   },
   "outputs": [],
   "source": [
    "from PIL import Image\n",
    "import os\n",
    "os.listdir(\"test_images/\")\n",
    "# TODO: Build your pipeline that will draw lane lines on the test_images\n",
    "# then save them to the test_images directory.\n",
    "\n",
    "inpath = \"test_images/\"\n",
    "outpath = \"output_test_images/\"\n",
    "valid_images = [\".jpg\",\".gif\",\".png\"]#,\".tga\"]\n",
    "for filename in os.listdir(\"test_images/\"):\n",
    "    ext = os.path.splitext(filename)[1]\n",
    "    if ext.lower() not in valid_images:\n",
    "        continue\n",
    "    #imgs.append(Image.open(os.path.join(path,f))\n",
    "    image = mpimg.imread(os.path.join(inpath,filename))\n",
    "    im = Image.fromarray(draw_lanes(image))\n",
    "    im.save(os.path.join(outpath,'out_'+filename))\n",
    "\n",
    "\n",
    "\n"
   ]
  },
  {
   "cell_type": "markdown",
   "metadata": {
    "deletable": true,
    "editable": true
   },
   "source": [
    "## Test on Videos\n",
    "\n",
    "You know what's cooler than drawing lanes over images? Drawing lanes over video!\n",
    "\n",
    "We can test our solution on two provided videos:\n",
    "\n",
    "`solidWhiteRight.mp4`\n",
    "\n",
    "`solidYellowLeft.mp4`\n",
    "\n",
    "**Note: if you get an `import error` when you run the next cell, try changing your kernel (select the Kernel menu above --> Change Kernel).  Still have problems?  Try relaunching Jupyter Notebook from the terminal prompt. Also, check out [this forum post](https://carnd-forums.udacity.com/questions/22677062/answers/22677109) for more troubleshooting tips.**\n",
    "\n",
    "**If you get an error that looks like this:**\n",
    "```\n",
    "NeedDownloadError: Need ffmpeg exe. \n",
    "You can download it by calling: \n",
    "imageio.plugins.ffmpeg.download()\n",
    "```\n",
    "**Follow the instructions in the error message and check out [this forum post](https://carnd-forums.udacity.com/display/CAR/questions/26218840/import-videofileclip-error) for more troubleshooting tips across operating systems.**"
   ]
  },
  {
   "cell_type": "code",
   "execution_count": 5,
   "metadata": {
    "collapsed": true,
    "deletable": true,
    "editable": true
   },
   "outputs": [],
   "source": [
    "# Import everything needed to edit/save/watch video clips\n",
    "from moviepy.editor import VideoFileClip\n",
    "from IPython.display import HTML"
   ]
  },
  {
   "cell_type": "code",
   "execution_count": 4,
   "metadata": {
    "collapsed": true,
    "deletable": true,
    "editable": true
   },
   "outputs": [],
   "source": [
    "def process_image(image):\n",
    "    # NOTE: The output you return should be a color image (3 channel) for processing video below\n",
    "    # TODO: put your pipeline here,\n",
    "    # you should return the final output (image where lines are drawn on lanes)\n",
    "    result=draw_lanes(image)\n",
    "\n",
    "    return result"
   ]
  },
  {
   "cell_type": "markdown",
   "metadata": {
    "deletable": true,
    "editable": true
   },
   "source": [
    "Let's try the one with the solid white lane on the right first ..."
   ]
  },
  {
   "cell_type": "code",
   "execution_count": null,
   "metadata": {
    "collapsed": false,
    "deletable": true,
    "editable": true
   },
   "outputs": [],
   "source": [
    "white_output = 'test_videos_output/solidWhiteRight.mp4'\n",
    "clip1 = VideoFileClip(\"test_videos/solidWhiteRight.mp4\")\n",
    "white_clip = clip1.fl_image(process_image) #NOTE: this function expects color images!!\n",
    "%time white_clip.write_videofile(white_output, audio=False)"
   ]
  },
  {
   "cell_type": "markdown",
   "metadata": {
    "deletable": true,
    "editable": true
   },
   "source": [
    "Play the video inline, or if you prefer find the video in your filesystem (should be in the same directory) and play it in your video player of choice."
   ]
  },
  {
   "cell_type": "code",
   "execution_count": null,
   "metadata": {
    "collapsed": false,
    "deletable": true,
    "editable": true
   },
   "outputs": [],
   "source": [
    "HTML(\"\"\"\n",
    "<video width=\"960\" height=\"540\" controls>\n",
    "  <source src=\"{0}\">\n",
    "</video>\n",
    "\"\"\".format(white_output))"
   ]
  },
  {
   "cell_type": "markdown",
   "metadata": {
    "deletable": true,
    "editable": true
   },
   "source": [
    "## Improve the draw_lines() function\n",
    "\n",
    "**At this point, if you were successful with making the pipeline and tuning parameters, you probably have the Hough line segments drawn onto the road, but what about identifying the full extent of the lane and marking it clearly as in the example video (P1_example.mp4)?  Think about defining a line to run the full length of the visible lane based on the line segments you identified with the Hough Transform. As mentioned previously, try to average and/or extrapolate the line segments you've detected to map out the full extent of the lane lines. You can see an example of the result you're going for in the video \"P1_example.mp4\".**\n",
    "\n",
    "**Go back and modify your draw_lines function accordingly and try re-running your pipeline. The new output should draw a single, solid line over the left lane line and a single, solid line over the right lane line. The lines should start from the bottom of the image and extend out to the top of the region of interest.**"
   ]
  },
  {
   "cell_type": "markdown",
   "metadata": {
    "deletable": true,
    "editable": true
   },
   "source": [
    "Now for the one with the solid yellow lane on the left. This one's more tricky!"
   ]
  },
  {
   "cell_type": "code",
   "execution_count": null,
   "metadata": {
    "collapsed": false,
    "deletable": true,
    "editable": true
   },
   "outputs": [],
   "source": [
    "yellow_output = 'test_videos_output/solidYellowLeft.mp4'\n",
    "clip2 = VideoFileClip('test_videos/solidYellowLeft.mp4')\n",
    "yellow_clip = clip2.fl_image(process_image)\n",
    "%time yellow_clip.write_videofile(yellow_output, audio=False)"
   ]
  },
  {
   "cell_type": "code",
   "execution_count": null,
   "metadata": {
    "collapsed": false,
    "deletable": true,
    "editable": true
   },
   "outputs": [],
   "source": [
    "HTML(\"\"\"\n",
    "<video width=\"960\" height=\"540\" controls>\n",
    "  <source src=\"{0}\">\n",
    "</video>\n",
    "\"\"\".format(yellow_output))"
   ]
  },
  {
   "cell_type": "markdown",
   "metadata": {
    "deletable": true,
    "editable": true
   },
   "source": [
    "## Writeup and Submission\n",
    "\n",
    "If you're satisfied with your video outputs, it's time to make the report writeup in a pdf or markdown file. Once you have this Ipython notebook ready along with the writeup, it's time to submit for review! Here is a [link](https://github.com/udacity/CarND-LaneLines-P1/blob/master/writeup_template.md) to the writeup template file.\n"
   ]
  },
  {
   "cell_type": "markdown",
   "metadata": {
    "collapsed": true,
    "deletable": true,
    "editable": true
   },
   "source": [
    "## Optional Challenge\n",
    "\n",
    "Try your lane finding pipeline on the video below.  Does it still work?  Can you figure out a way to make it more robust?  If you're up for the challenge, modify your pipeline so it works with this video and submit it along with the rest of your project!"
   ]
  },
  {
   "cell_type": "code",
   "execution_count": 18,
   "metadata": {
    "collapsed": false,
    "deletable": true,
    "editable": true
   },
   "outputs": [
    {
     "name": "stdout",
     "output_type": "stream",
     "text": [
      "Left and Right weight, m_left,c_left,m_right,c_right is -671 426 -0.660046352682 860.130313658 0.607140480273 24.8477056386\n",
      "y,m,c values and isnan(y,c,m) and are: 1280 -0.660046352682 860.130313658 False False False\n",
      "y,m,c values and isnan(y,c,m) and are: 434 -0.660046352682 860.130313658 False False False\n",
      "y,m,c values and isnan(y,c,m) and are: 1280 0.607140480273 24.8477056386 False False False\n",
      "y,m,c values and isnan(y,c,m) and are: 578 0.607140480273 24.8477056386 False False False\n",
      "[MoviePy] >>>> Building video test_videos_output/challenge.mp4\n",
      "[MoviePy] Writing video test_videos_output/challenge.mp4\n"
     ]
    },
    {
     "name": "stderr",
     "output_type": "stream",
     "text": [
      "\n",
      "\n",
      "\n",
      "\n",
      "  0%|          | 0/251 [00:00<?, ?it/s]\u001b[A\u001b[A\u001b[A\u001b[A\n",
      "\n",
      "\n",
      "\n",
      "  1%|          | 3/251 [00:00<00:09, 26.71it/s]"
     ]
    },
    {
     "name": "stdout",
     "output_type": "stream",
     "text": [
      "Left and Right weight, m_left,c_left,m_right,c_right is -671 426 -0.660046352682 860.130313658 0.607140480273 24.8477056386\n",
      "y,m,c values and isnan(y,c,m) and are: 1280 -0.660046352682 860.130313658 False False False\n",
      "y,m,c values and isnan(y,c,m) and are: 434 -0.660046352682 860.130313658 False False False\n",
      "y,m,c values and isnan(y,c,m) and are: 1280 0.607140480273 24.8477056386 False False False\n",
      "y,m,c values and isnan(y,c,m) and are: 578 0.607140480273 24.8477056386 False False False\n",
      "Left and Right weight, m_left,c_left,m_right,c_right is -847 432 -0.657537376654 858.295534435 0.615222797287 13.0396194945\n",
      "y,m,c values and isnan(y,c,m) and are: 1280 -0.657537376654 858.295534435 False False False\n",
      "y,m,c values and isnan(y,c,m) and are: 433 -0.657537376654 858.295534435 False False False\n",
      "y,m,c values and isnan(y,c,m) and are: 1280 0.615222797287 13.0396194945 False False False\n",
      "y,m,c values and isnan(y,c,m) and are: 471 0.615222797287 13.0396194945 False False False\n",
      "Left and Right weight, m_left,c_left,m_right,c_right is -598 201 -0.643057953562 853.209432559 0.595521311411 38.7268889205\n",
      "y,m,c values and isnan(y,c,m) and are: 1280 -0.643057953562 853.209432559 False False False\n",
      "y,m,c values and isnan(y,c,m) and are: 435 -0.643057953562 853.209432559 False False False\n",
      "y,m,c values and isnan(y,c,m) and are: 1280 0.595521311411 38.7268889205 False False False\n",
      "y,m,c values and isnan(y,c,m) and are: 640 0.595521311411 38.7268889205 False False False\n",
      "Left and Right weight, m_left,c_left,m_right,c_right is -527 5 -0.668093826956 870.523741799 1.0 1.0\n",
      "y,m,c values and isnan(y,c,m) and are: 1280 -0.668093826956 870.523741799 False False False\n",
      "y,m,c values and isnan(y,c,m) and are: 457 -0.668093826956 870.523741799 False False False\n",
      "y,m,c values and isnan(y,c,m) and are: 1280 1.0 1.0 False False False\n",
      "y,m,c values and isnan(y,c,m) and are: 1280 1.0 1.0 False False False\n"
     ]
    },
    {
     "name": "stderr",
     "output_type": "stream",
     "text": [
      "\u001b[A\u001b[A\u001b[A\u001b[A\n",
      "\n",
      "\n",
      "\n",
      "  2%|▏         | 5/251 [00:00<00:10, 23.95it/s]"
     ]
    },
    {
     "name": "stdout",
     "output_type": "stream",
     "text": [
      "Left and Right weight, m_left,c_left,m_right,c_right is -1011 5 -0.670292855935 866.280793207 1.0 1.0\n",
      "y,m,c values and isnan(y,c,m) and are: 1280 -0.670292855935 866.280793207 False False False\n",
      "y,m,c values and isnan(y,c,m) and are: 437 -0.670292855935 866.280793207 False False False\n",
      "y,m,c values and isnan(y,c,m) and are: 1280 1.0 1.0 False False False\n",
      "y,m,c values and isnan(y,c,m) and are: 1280 1.0 1.0 False False False\n"
     ]
    },
    {
     "name": "stderr",
     "output_type": "stream",
     "text": [
      "\u001b[A\u001b[A\u001b[A\u001b[A\n",
      "\n",
      "\n",
      "\n",
      "  3%|▎         | 7/251 [00:00<00:11, 21.66it/s]"
     ]
    },
    {
     "name": "stdout",
     "output_type": "stream",
     "text": [
      "Left and Right weight, m_left,c_left,m_right,c_right is -703 104 -0.68261827472 875.577274852 0.655048076923 -3.84134615385\n",
      "y,m,c values and isnan(y,c,m) and are: 1280 -0.68261827472 875.577274852 False False False\n",
      "y,m,c values and isnan(y,c,m) and are: 449 -0.68261827472 875.577274852 False False False\n",
      "y,m,c values and isnan(y,c,m) and are: 1280 0.655048076923 -3.84134615385 False False False\n",
      "y,m,c values and isnan(y,c,m) and are: 500 0.655048076923 -3.84134615385 False False False\n",
      "Left and Right weight, m_left,c_left,m_right,c_right is -913 167 -0.672088971424 869.657405059 0.626665550019 11.9307315439\n",
      "y,m,c values and isnan(y,c,m) and are: 1280 -0.672088971424 869.657405059 False False False\n",
      "y,m,c values and isnan(y,c,m) and are: 451 -0.672088971424 869.657405059 False False False\n",
      "y,m,c values and isnan(y,c,m) and are: 1280 0.626665550019 11.9307315439 False False False\n",
      "y,m,c values and isnan(y,c,m) and are: 505 0.626665550019 11.9307315439 False False False\n",
      "Left and Right weight, m_left,c_left,m_right,c_right is -810 177 -0.681287371518 874.434866634 0.618361319897 19.2720030033\n",
      "y,m,c values and isnan(y,c,m) and are: 1280 -0.681287371518 874.434866634 False False False\n",
      "y,m,c values and isnan(y,c,m) and are: 435 -0.681287371518 874.434866634 False False False\n",
      "y,m,c values and isnan(y,c,m) and are: 1280 0.618361319897 19.2720030033 False False False\n",
      "y,m,c values and isnan(y,c,m) and are: 512 0.618361319897 19.2720030033 False False False\n",
      "Left and Right weight, m_left,c_left,m_right,c_right is"
     ]
    },
    {
     "name": "stderr",
     "output_type": "stream",
     "text": [
      "\u001b[A\u001b[A\u001b[A\u001b[A\n",
      "\n",
      "\n",
      "\n",
      "  4%|▍         | 10/251 [00:00<00:10, 22.19it/s]"
     ]
    },
    {
     "name": "stdout",
     "output_type": "stream",
     "text": [
      " -647 314 -0.701580580361 887.170819325 0.62443699103 9.05410009831\n",
      "y,m,c values and isnan(y,c,m) and are: 1280 -0.701580580361 887.170819325 False False False\n",
      "y,m,c values and isnan(y,c,m) and are: 449 -0.701580580361 887.170819325 False False False\n",
      "y,m,c values and isnan(y,c,m) and are: 1280 0.62443699103 9.05410009831 False False False\n",
      "y,m,c values and isnan(y,c,m) and are: 521 0.62443699103 9.05410009831 False False False\n",
      "Left and Right weight, m_left,c_left,m_right,c_right is -721 315 -0.697279553562 884.19822087 0.626910528864 7.83483928023\n",
      "y,m,c values and isnan(y,c,m) and are: 1280 -0.697279553562 884.19822087 False False False\n",
      "y,m,c values and isnan(y,c,m) and are: 439 -0.697279553562 884.19822087 False False False\n",
      "y,m,c values and isnan(y,c,m) and are: 1280 0.626910528864 7.83483928023 False False False\n",
      "y,m,c values and isnan(y,c,m) and are: 532 0.626910528864 7.83483928023 False False False\n"
     ]
    },
    {
     "name": "stderr",
     "output_type": "stream",
     "text": [
      "\u001b[A\u001b[A\u001b[A\u001b[A\n",
      "\n",
      "\n",
      "\n",
      "  5%|▌         | 13/251 [00:00<00:10, 22.32it/s]"
     ]
    },
    {
     "name": "stdout",
     "output_type": "stream",
     "text": [
      "Left and Right weight, m_left,c_left,m_right,c_right is -877 431 -0.718024864321 895.069736909 0.614101787971 18.461345288\n",
      "y,m,c values and isnan(y,c,m) and are: 1280 -0.718024864321 895.069736909 False False False\n",
      "y,m,c values and isnan(y,c,m) and are: 470 -0.718024864321 895.069736909 False False False\n",
      "y,m,c values and isnan(y,c,m) and are: 1280 0.614101787971 18.461345288 False False False\n",
      "y,m,c values and isnan(y,c,m) and are: 546 0.614101787971 18.461345288 False False False\n",
      "Left and Right weight, m_left,c_left,m_right,c_right is -631 531 -0.696232512974 882.427913257 0.623442989733 10.7975395102\n",
      "y,m,c values and isnan(y,c,m) and are: 1280 -0.696232512974 882.427913257 False False False\n",
      "y,m,c values and isnan(y,c,m) and are: 436 -0.696232512974 882.427913257 False False False\n",
      "y,m,c values and isnan(y,c,m) and are: 1280 0.623442989733 10.7975395102 False False False\n",
      "y,m,c values and isnan(y,c,m) and are: 443 0.623442989733 10.7975395102 False False False\n",
      "Left and Right weight, m_left,c_left,m_right,c_right is -1559 588 -0.69995614749 880.720379303 0.61512671203 14.3602782772\n",
      "y,m,c values and isnan(y,c,m) and are: 1280 -0.69995614749 880.720379303 False False False\n",
      "y,m,c values and isnan(y,c,m) and are: 440 -0.69995614749 880.720379303 False False False\n",
      "y,m,c values and isnan(y,c,m) and are: 1280 0.61512671203 14.3602782772 False False False\n",
      "y,m,c values and isnan(y,c,m) and are: 583 0.61512671203 14.3602782772 False False False\n"
     ]
    },
    {
     "name": "stderr",
     "output_type": "stream",
     "text": [
      "\u001b[A\u001b[A\u001b[A\u001b[A"
     ]
    },
    {
     "name": "stdout",
     "output_type": "stream",
     "text": [
      "Left and Right weight, m_left,c_left,m_right,c_right is -1251 271 -0.699551173222 880.147067846 0.593948921666 34.971053593\n",
      "y,m,c values and isnan(y,c,m) and are: 1280 -0.699551173222 880.147067846 False False False\n",
      "y,m,c values and isnan(y,c,m) and are: 445 -0.699551173222 880.147067846 False False False\n",
      "y,m,c values and isnan(y,c,m) and are: 1280 0.593948921666 34.971053593 False False False\n",
      "y,m,c values and isnan(y,c,m) and are: 609 0.593948921666 34.971053593 False False False\n",
      "Left and Right weight, m_left,c_left,m_right,c_right is -811 146 -0.711993058558 889.951059823 0.618411374874 19.7949922951\n",
      "y,m,c values and isnan(y,c,m) and are: 1280 -0.711993058558 889.951059823 False False False\n",
      "y,m,c values and isnan(y,c,m) and are: 464 -0.711993058558 889.951059823 False False False\n",
      "y,m,c values and isnan(y,c,m) and are: 1280 0.618411374874 19.7949922951 False False False\n",
      "y,m,c values and isnan(y,c,m) and are: 648 0.618411374874 19.7949922951 False False False\n"
     ]
    },
    {
     "name": "stderr",
     "output_type": "stream",
     "text": [
      "\n",
      "\n",
      "\n",
      "\n",
      "  6%|▋         | 16/251 [00:00<00:10, 22.93it/s]\u001b[A\u001b[A\u001b[A\u001b[A"
     ]
    },
    {
     "name": "stdout",
     "output_type": "stream",
     "text": [
      "Left and Right weight, m_left,c_left,m_right,c_right is -1250 5 -0.719964989758 892.949531192 1.0 1.0\n",
      "y,m,c values and isnan(y,c,m) and are: 1280 -0.719964989758 892.949531192 False False False\n",
      "y,m,c values and isnan(y,c,m) and are: 439 -0.719964989758 892.949531192 False False False\n",
      "y,m,c values and isnan(y,c,m) and are: 1280 1.0 1.0 False False False\n",
      "y,m,c values and isnan(y,c,m) and are: 1280 1.0 1.0 False False False\n",
      "Left and Right weight, m_left,c_left,m_right,c_right is -1019 54 -0.7258933855 895.833454924 0.659722222222 3.04166666667\n",
      "y,m,c values and isnan(y,c,m) and are: 1280 -0.7258933855 895.833454924 False False False\n",
      "y,m,c values and isnan(y,c,m) and are: 477 -0.7258933855 895.833454924 False False False\n",
      "y,m,c values and isnan(y,c,m) and are: 1280 0.659722222222 3.04166666667 False False False\n",
      "y,m,c values and isnan(y,c,m) and are: 492 0.659722222222 3.04166666667 False False False\n",
      "Left and Right weight, m_left,c_left,m_right,c_right is -889 96 -0.726708281095 897.689169959 0.64618432971 4.85872961957\n",
      "y,m,c values and isnan(y,c,m) and are: 1280 -0.726708281095 897.689169959 False False False\n",
      "y,m,c values and isnan(y,c,m) and are: 464 -0.726708281095 897.689169959 False False False\n",
      "y,m,c values and isnan(y,c,m) and are: 1280 0.64618432971 4.85872961957 False False False\n",
      "y,m,c values and isnan(y,c,m) and are: 499 0.64618432971 4.85872961957 False False False\n",
      "Left and Right weight, m_left,c_left,m_right,c_right is -554 87 -0.696467596444 884.388028822 0.627274373018 20.2044054503\n",
      "y,m,c values and isnan(y,c,m) and are: 1280 -0.696467596444 884.388028822 False False False\n",
      "y,m,c values and isnan(y,c,m) and are: 460 -0.696467596444 884.388028822 False False False\n",
      "y,m,c values and isnan(y,c,m) and are: 1280 0.627274373018 20.2044054503 False False False"
     ]
    },
    {
     "name": "stderr",
     "output_type": "stream",
     "text": [
      "\n",
      "\n",
      "\n",
      "\n",
      "\r",
      "  8%|▊         | 19/251 [00:00<00:09, 24.01it/s]"
     ]
    },
    {
     "name": "stdout",
     "output_type": "stream",
     "text": [
      "\n",
      "y,m,c values and isnan(y,c,m) and are: 506 0.627274373018 20.2044054503 False False False\n",
      "Left and Right weight, m_left,c_left,m_right,c_right is -416 207 -0.733158186807 907.392453246 0.597818585531 36.0328412398\n",
      "y,m,c values and isnan(y,c,m) and are: 1280 -0.733158186807 907.392453246 False False False\n",
      "y,m,c values and isnan(y,c,m) and are: 478 -0.733158186807 907.392453246 False False False\n",
      "y,m,c values and isnan(y,c,m) and are: 1280 0.597818585531 36.0328412398 False False False\n",
      "y,m,c values and isnan(y,c,m) and are: 514 0.597818585531 36.0328412398 False False False\n",
      "Left and Right weight, m_left,c_left,m_right,c_right is -649 254 -0.684719467105 874.160472635 0.598761301228 33.7608711344\n",
      "y,m,c values and isnan(y,c,m) and are: 1280 -0.684719467105 874.160472635 False False False\n",
      "y,m,c values and isnan(y,c,m) and are:"
     ]
    },
    {
     "name": "stderr",
     "output_type": "stream",
     "text": [
      "\u001b[A\u001b[A\u001b[A\u001b[A\n",
      "\n",
      "\n",
      "\n",
      "  9%|▉         | 22/251 [00:00<00:09, 24.25it/s]\u001b[A\u001b[A\u001b[A\u001b[A"
     ]
    },
    {
     "name": "stdout",
     "output_type": "stream",
     "text": [
      " 439 -0.684719467105 874.160472635 False False False\n",
      "y,m,c values and isnan(y,c,m) and are: 1280 0.598761301228 33.7608711344 False False False\n",
      "y,m,c values and isnan(y,c,m) and are: 523 0.598761301228 33.7608711344 False False False\n",
      "Left and Right weight, m_left,c_left,m_right,c_right is -1055 146 -0.71314738471 888.254231069 0.602411520396 34.4822862541\n",
      "y,m,c values and isnan(y,c,m) and are: 1280 -0.71314738471 888.254231069 False False False\n",
      "y,m,c values and isnan(y,c,m) and are: 472 -0.71314738471 888.254231069 False False False\n",
      "y,m,c values and isnan(y,c,m) and are: 1280 0.602411520396 34.4822862541 False False False\n",
      "y,m,c values and isnan(y,c,m) and are: 533 0.602411520396 34.4822862541 False False False\n",
      "Left and Right weight, m_left,c_left,m_right,c_right is -814 390 -0.721845213211 895.865598037 0.618821742557 17.9942521666\n",
      "y,m,c values and isnan(y,c,m) and are: 1280 -0.721845213211 895.865598037 False False False\n",
      "y,m,c values and isnan(y,c,m) and are: 447 -0.721845213211 895.865598037 False False False\n",
      "y,m,c values and isnan(y,c,m) and are: 1280 0.618821742557 17.9942521666 False False False\n",
      "y,m,c values and isnan(y,c,m) and are: 445 0.618821742557 17.9942521666 False False False\n",
      "Left and Right weight, m_left,c_left,m_right,c_right is -872 446 -0.738432939062 903.531697763 0.601987854346 29.4917766209\n",
      "y,m,c values and isnan(y,c,m) and are: 1280 -0.738432939062 903.531697763 False False False\n",
      "y,m,c values and isnan(y,c,m) and are: 482 -0.738432939062 903.531697763 False False False\n",
      "y,m,c values and isnan(y,c,m) and are: 1280 0.601987854346 29.4917766209 False False False\n",
      "y,m,c values and isnan(y,c,m) and are: 445 0.601987854346 29.4917766209 False False False\n",
      "Left and Right weight, m_left,c_left,m_right,c_right is -527 517 -0.676432558292 871.865656371 "
     ]
    },
    {
     "name": "stderr",
     "output_type": "stream",
     "text": [
      "\n",
      "\n",
      "\n",
      "\n",
      "\r",
      " 10%|▉         | 25/251 [00:01<00:09, 24.59it/s]"
     ]
    },
    {
     "name": "stdout",
     "output_type": "stream",
     "text": [
      "0.590627994442 41.6215362236\n",
      "y,m,c values and isnan(y,c,m) and are: 1280 -0.676432558292 871.865656371 False False False\n",
      "y,m,c values and isnan(y,c,m) and are: 454 -0.676432558292 871.865656371 False False False\n",
      "y,m,c values and isnan(y,c,m) and are: 1280 0.590627994442 41.6215362236 False False False\n",
      "y,m,c values and isnan(y,c,m) and are: 586 0.590627994442 41.6215362236 False False False\n",
      "Left and Right weight, m_left,c_left,m_right,c_right is -876 275 -0.73829186055 902.20908642 0.615900004757 18.3828561914\n",
      "y,m,c values and isnan(y,c,m) and are: 1280 -0.73829186055 902.20908642 False False False\n",
      "y,m,c values and isnan(y,c,m) and are: 477 -0.73829186055 902.20908642 False False False\n",
      "y,m,c values and isnan(y,c,m) and are: 1280 0.615900004757 18.3828561914 False False False\n",
      "y,m,c values and isnan(y,c,m) and are: 615 0.615900004757 18.3828561914 False False False\n"
     ]
    },
    {
     "name": "stderr",
     "output_type": "stream",
     "text": [
      "\u001b[A\u001b[A\u001b[A\u001b[A\n",
      "\n",
      "\n",
      "\n",
      " 11%|█         | 28/251 [00:01<00:09, 23.92it/s]\u001b[A\u001b[A\u001b[A\u001b[A"
     ]
    },
    {
     "name": "stdout",
     "output_type": "stream",
     "text": [
      "Left and Right weight, m_left,c_left,m_right,c_right is -621 49 -0.727658205236 899.567875075 0.568979591837 95.4293877551\n",
      "y,m,c values and isnan(y,c,m) and are: 1280 -0.727658205236 899.567875075 False False False\n",
      "y,m,c values and isnan(y,c,m) and are: 482 -0.727658205236 899.567875075 False False False\n",
      "y,m,c values and isnan(y,c,m) and are: 1280 0.568979591837 95.4293877551 False False False\n",
      "y,m,c values and isnan(y,c,m) and are: 648 0.568979591837 95.4293877551 False False False\n",
      "Left and Right weight, m_left,c_left,m_right,c_right is -623 5 -0.724392622613 897.94847631 1.0 1.0\n",
      "y,m,c values and isnan(y,c,m) and are: 1280 -0.724392622613 897.94847631 False False False\n",
      "y,m,c values and isnan(y,c,m) and are: 457 -0.724392622613 897.94847631 False False False\n",
      "y,m,c values and isnan(y,c,m) and are: 1280 1.0 1.0 False False False\n",
      "y,m,c values and isnan(y,c,m) and are: 1280 1.0 1.0 False False False\n",
      "Left and Right weight, m_left,c_left,m_right,c_right is -795 53 -0.719950574873 892.443210654 0.637735849057 22.3735849057\n",
      "y,m,c values and isnan(y,c,m) and are: 1280 -0.719950574873 892.443210654 False False False\n",
      "y,m,c values and isnan(y,c,m) and are: 446 -0.719950574873 892.443210654 False False False\n",
      "y,m,c values and isnan(y,c,m) and are: 1280 0.637735849057 22.3735849057 False False False\n",
      "y,m,c values and isnan(y,c,m) and are: 495 0.637735849057 22.3735849057 False False False\n",
      "Left and Right weight, m_left,c_left,m_right,c_right is -732 106 -0.680124504974 872.483868241 0.659873748454 -6.2037127528\n",
      "y,m,c values and isnan(y,c,m) and are: 1280 -0.680124504974 872.483868241 False False False\n",
      "y,m,c values and isnan(y,c,m) and are: 452 -0.680124504974 872.483868241 False False False\n",
      "y,m,c values and isnan(y,c,m) and are: 1280 0.659873748454 -6.2037127528 False False False\n",
      "y,m,c values and isnan(y,c,m) and are: 502 0.659873748454 -6.2037127528 False False False\n"
     ]
    },
    {
     "name": "stderr",
     "output_type": "stream",
     "text": [
      "\n",
      "\n",
      "\n",
      "\n",
      "\r",
      " 12%|█▏        | 31/251 [00:01<00:09, 23.80it/s]"
     ]
    },
    {
     "name": "stdout",
     "output_type": "stream",
     "text": [
      "Left and Right weight, m_left,c_left,m_right,c_right is -586 79 -0.649636841412 857.580757542 0.689629990263 -24.7147030185\n",
      "y,m,c values and isnan(y,c,m) and are: 1280 -0.649636841412 857.580757542 False False False\n",
      "y,m,c values and isnan(y,c,m) and are: 437 -0.649636841412 857.580757542 False False False\n",
      "y,m,c values and isnan(y,c,m) and are: 1280 0.689629990263 -24.7147030185 False False False\n",
      "y,m,c values and isnan(y,c,m) and are: 509 0.689629990263 -24.7147030185 False False False\n"
     ]
    },
    {
     "name": "stderr",
     "output_type": "stream",
     "text": [
      "\u001b[A\u001b[A\u001b[A\u001b[A\n",
      "\n",
      "\n",
      "\n",
      " 14%|█▎        | 34/251 [00:01<00:09, 23.19it/s]"
     ]
    },
    {
     "name": "stdout",
     "output_type": "stream",
     "text": [
      "Left and Right weight, m_left,c_left,m_right,c_right is -749 272 -0.67138108946 863.250469339 0.607296494471 28.2095957112\n",
      "y,m,c values and isnan(y,c,m) and are: 1280 -0.67138108946 863.250469339 False False False\n",
      "y,m,c values and isnan(y,c,m) and are: 446 -0.67138108946 863.250469339 False False False\n",
      "y,m,c values and isnan(y,c,m) and are: 1280 0.607296494471 28.2095957112 False False False\n",
      "y,m,c values and isnan(y,c,m) and are: 516 0.607296494471 28.2095957112 False False False\n",
      "Left and Right weight, m_left,c_left,m_right,c_right is -672 369 -0.666085245899 864.84734332 0.611216264008 25.2982580789\n",
      "y,m,c values and isnan(y,c,m) and are: 1280 -0.666085245899 864.84734332 False False False\n",
      "y,m,c values and isnan(y,c,m) and are: 433 -0.666085245899 864.84734332 False False False\n",
      "y,m,c values and isnan(y,c,m) and are: 1280 0.611216264008 25.2982580789 False False False\n",
      "y,m,c values and isnan(y,c,m) and are: 526 0.611216264008 25.2982580789 False False False\n",
      "Left and Right weight, m_left,c_left,m_right,c_right is -839 207 -0.650095992085 853.818232556 0.634174579377 7.68159253706\n",
      "y,m,c values and isnan(y,c,m) and are: 1280 -0.650095992085 853.818232556 False False False\n",
      "y,m,c values and isnan(y,c,m) and are: 439 -0.650095992085 853.818232556 False False False\n",
      "y,m,c values and isnan(y,c,m) and are: 1280 0.634174579377 7.68159253706 False False False\n",
      "y,m,c values and isnan(y,c,m) and are: 537 0.634174579377 7.68159253706 False False False\n",
      "Left and Right weight, m_left,c_left,m_right,c_right is -771 453 -0.705909729907 886.865910629 0.628299791515 8.62996014096\n",
      "y,m,c values and isnan(y,c,m) and are: 1280 -0.705909729907 886.865910629 False False False\n",
      "y,m,c values and isnan(y,c,m) and are: "
     ]
    },
    {
     "name": "stderr",
     "output_type": "stream",
     "text": [
      "\u001b[A\u001b[A\u001b[A\u001b[A"
     ]
    },
    {
     "name": "stdout",
     "output_type": "stream",
     "text": [
      "466 -0.705909729907 886.865910629 False False False\n",
      "y,m,c values and isnan(y,c,m) and are: 1280 0.628299791515 8.62996014096 False False False\n",
      "y,m,c values and isnan(y,c,m) and are: 553 0.628299791515 8.62996014096 False False False\n",
      "Left and Right weight, m_left,c_left,m_right,c_right is "
     ]
    },
    {
     "name": "stderr",
     "output_type": "stream",
     "text": [
      "\n",
      "\n",
      "\n",
      "\n",
      " 15%|█▍        | 37/251 [00:01<00:10, 20.98it/s]\u001b[A\u001b[A\u001b[A\u001b[A"
     ]
    },
    {
     "name": "stdout",
     "output_type": "stream",
     "text": [
      "-706 709 -0.680728495509 871.880223509 0.606394453642 27.9404730261\n",
      "y,m,c values and isnan(y,c,m) and are: 1280 -0.680728495509 871.880223509 False False False\n",
      "y,m,c values and isnan(y,c,m) and are: 447 -0.680728495509 871.880223509 False False False\n",
      "y,m,c values and isnan(y,c,m) and are: 1280 0.606394453642 27.9404730261 False False False\n",
      "y,m,c values and isnan(y,c,m) and are: 570 0.606394453642 27.9404730261 False False False\n",
      "Left and Right weight, m_left,c_left,m_right,c_right is -1110 506 -0.64952184255 851.249330434 0.592288771187 40.4269042338\n",
      "y,m,c values and isnan(y,c,m) and are: 1280 -0.64952184255 851.249330434 False False False\n",
      "y,m,c values and isnan(y,c,m) and are: 434 -0.64952184255 851.249330434 False False False\n",
      "y,m,c values and isnan(y,c,m) and are: 1280 0.592288771187 40.4269042338 False False False\n",
      "y,m,c values and isnan(y,c,m) and are: 592 0.592288771187 40.4269042338 False False False\n",
      "Left and Right weight, m_left,c_left,m_right,c_right is -1568 319 -0.664744301672 857.93824284 0.60430693744 29.7906773886\n",
      "y,m,c values and isnan(y,c,m) and are: 1280 -0.664744301672 857.93824284 False False False\n",
      "y,m,c values and isnan(y,c,m) and are: 433 -0.664744301672 857.93824284 False False False\n",
      "y,m,c values and isnan(y,c,m) and are: 1280 0.60430693744 29.7906773886 False False False\n",
      "y,m,c values and isnan(y,c,m) and are: 616 0.60430693744 29.7906773886 False False False\n",
      "Left and Right weight, m_left,c_left,m_right,c_right is -777 5 -0.665048475352 863.082273051 1.0 1.0\n",
      "y,m,c values and isnan(y,c,m) and are: 1280 -0.665048475352 863.082273051 False False False\n",
      "y,m,c values and isnan(y,c,m) and are: 449 -0.665048475352 863.082273051 False False False\n",
      "y,m,c values and isnan(y,c,m) and are: 1280 1.0 1.0 False False False\n",
      "y,m,c values and isnan(y,c,m) and are: 1280 1.0 1.0 False False False\n",
      "Left and Right weight, m_left,c_left,m_right,c_right is -935 5 -0.668218250037 862.904409515 1.0 1.0\n",
      "y,m,c values and isnan(y,c,m) and are: 1280 -0.668218250037 862.904409515 False False False\n",
      "y,m,c values and isnan(y,c,m) and are: 447 -0.668218250037 862.904409515 False False False\n",
      "y,m,c values and isnan(y,c,m) and are: 1280 1.0 1.0 False False "
     ]
    },
    {
     "name": "stderr",
     "output_type": "stream",
     "text": [
      "\n",
      "\n",
      "\n",
      "\n",
      " 16%|█▌        | 40/251 [00:01<00:10, 20.87it/s]\u001b[A\u001b[A\u001b[A\u001b[A\n",
      "\n",
      "\n",
      "\n",
      " 17%|█▋        | 43/251 [00:01<00:10, 20.18it/s]"
     ]
    },
    {
     "name": "stdout",
     "output_type": "stream",
     "text": [
      "False\n",
      "y,m,c values and isnan(y,c,m) and are: 1280 1.0 1.0 False False False\n",
      "Left and Right weight, m_left,c_left,m_right,c_right is -949 53 -0.645395091118 851.474178509 0.637735849057 22.3735849057\n",
      "y,m,c values and isnan(y,c,m) and are: 1280 -0.645395091118 851.474178509 False False False\n",
      "y,m,c values and isnan(y,c,m) and are: 445 -0.645395091118 851.474178509 False False False\n",
      "y,m,c values and isnan(y,c,m) and are: 1280 0.637735849057 22.3735849057 False False False\n",
      "y,m,c values and isnan(y,c,m) and are: 498 0.637735849057 22.3735849057 False False False\n",
      "Left and Right weight, m_left,c_left,m_right,c_right is -478 139 -0.66039541215 864.61258114 0.615183300168 27.5741393694\n",
      "y,m,c values and isnan(y,c,m) and are: 1280 -0.66039541215 864.61258114 False False False\n",
      "y,m,c values and isnan(y,c,m) and are: 432 -0.66039541215 864.61258114 False False False\n",
      "y,m,c values and isnan(y,c,m) and are: 1280 0.615183300168 27.5741393694 False False False\n",
      "y,m,c values and isnan(y,c,m) and are: 504 0.615183300168 27.5741393694 False False False\n",
      "Left and Right weight, m_left,c_left,m_right,c_right is -579 106 -0.652571971423 861.19335272 0.625027210966 23.3284298049\n",
      "y,m,c values and isnan(y,c,m) and are: 1280 -0.652571971423 861.19335272 False False False\n",
      "y,m,c values and isnan(y,c,m) and are: 432 -0.652571971423 861.19335272 False False False\n",
      "y,m,c values and isnan(y,c,m) and are: 1280 0.625027210966 23.3284298049 False False False\n",
      "y,m,c values and isnan(y,c,m) and are: 511 0.625027210966 23.3284298049 False False False\n"
     ]
    },
    {
     "name": "stderr",
     "output_type": "stream",
     "text": [
      "\u001b[A\u001b[A\u001b[A\u001b[A"
     ]
    },
    {
     "name": "stdout",
     "output_type": "stream",
     "text": [
      "Left and Right weight, m_left,c_left,m_right,c_right is -863 154 -0.656731635751 860.152463501 0.621297625598 18.7375580775\n",
      "y,m,c values and isnan(y,c,m) and are: 1280 -0.656731635751 860.152463501 False False False\n",
      "y,m,c values and isnan(y,c,m) and are: 462 -0.656731635751 860.152463501 False False False\n",
      "y,m,c values and isnan(y,c,m) and are:"
     ]
    },
    {
     "name": "stderr",
     "output_type": "stream",
     "text": [
      "\n",
      "\n",
      "\n",
      "\n",
      "\r",
      " 18%|█▊        | 46/251 [00:02<00:11, 17.29it/s]"
     ]
    },
    {
     "name": "stdout",
     "output_type": "stream",
     "text": [
      " 1280 0.621297625598 18.7375580775 False False False\n",
      "y,m,c values and isnan(y,c,m) and are: 519 0.621297625598 18.7375580775 False False False\n",
      "Left and Right weight, m_left,c_left,m_right,c_right is -1050 355 -0.681227465691 874.923722268 0.605452919491 29.0702582518\n",
      "y,m,c values and isnan(y,c,m) and are: 1280 -0.681227465691 874.923722268 False False False\n",
      "y,m,c values and isnan(y,c,m) and are: 466 -0.681227465691 874.923722268 False False False\n",
      "y,m,c values and isnan(y,c,m) and are: 1280 0.605452919491 29.0702582518 False False False\n",
      "y,m,c values and isnan(y,c,m) and are: 529 0.605452919491 29.0702582518 False False False\n",
      "Left and Right weight, m_left,c_left,m_right,c_right is -847 440 -0.673723377462 870.299164993 0.601618426017 31.1478408317\n",
      "y,m,c values and isnan(y,c,m) and are: 1280 -0.673723377462 870.299164993 False False False\n",
      "y,m,c values and isnan(y,c,m) and are: 464 -0.673723377462 870.299164993 False False False\n",
      "y,m,c values and isnan(y,c,m) and are: 1280 0.601618426017 31.1478408317 False False False\n",
      "y,m,c values and isnan(y,c,m) and are: 450 0.601618426017 31.1478408317 False False False\n",
      "Left and Right weight, m_left,c_left,m_right,c_right is -1159 566 -0.670514864291 865.950378344 0.586723034296 42.2147117417\n",
      "y,m,c values and isnan(y,c,m) and are: 1280 -0.670514864291 865.950378344 False False False\n",
      "y,m,c values and isnan(y,c,m) and are: 446 -0.670514864291 865.950378344 False False False\n",
      "y,m,c values and isnan(y,c,m) and are: 1280 0.586723034296 42.2147117417 False False False\n",
      "y,m,c values and isnan(y,c,m) and are: 555 0.586723034296 42.2147117417 False False False\n"
     ]
    },
    {
     "name": "stderr",
     "output_type": "stream",
     "text": [
      "\u001b[A\u001b[A\u001b[A\u001b[A\n",
      "\n",
      "\n",
      "\n",
      " 19%|█▉        | 48/251 [00:02<00:12, 15.77it/s]\u001b[A\u001b[A\u001b[A\u001b[A"
     ]
    },
    {
     "name": "stdout",
     "output_type": "stream",
     "text": [
      "Left and Right weight, m_left,c_left,m_right,c_right is -965 487 -0.672319618917 868.211654869 0.591613518318 38.1746041093\n",
      "y,m,c values and isnan(y,c,m) and are: 1280 -0.672319618917 868.211654869 False False False\n",
      "y,m,c values and isnan(y,c,m) and are: 449 -0.672319618917 868.211654869 False False False\n",
      "y,m,c values and isnan(y,c,m) and are: 1280 0.591613518318 38.1746041093 False False False\n",
      "y,m,c values and isnan(y,c,m) and are: 575 0.591613518318 38.1746041093 False False False\n",
      "Left and Right weight, m_left,c_left,m_right,c_right is -836 559 -0.681505050059 877.339313713 0.584540430213 44.5951868685\n",
      "y,m,c values and isnan(y,c,m) and are: 1280 -0.681505050059 877.339313713 False False False\n",
      "y,m,c values and isnan(y,c,m) and are: 432 -0.681505050059 877.339313713 False False False\n",
      "y,m,c values and isnan(y,c,m) and are: 1280 0.584540430213 44.5951868685 False False False\n",
      "y,m,c values and isnan(y,c,m) and are: 599 0.584540430213 44.5951868685 False False False\n"
     ]
    },
    {
     "name": "stderr",
     "output_type": "stream",
     "text": [
      "\n",
      "\n",
      "\n",
      "\n",
      "\r",
      " 20%|█▉        | 50/251 [00:02<00:13, 14.38it/s]"
     ]
    },
    {
     "name": "stdout",
     "output_type": "stream",
     "text": [
      "Left and Right weight, m_left,c_left,m_right,c_right is -895 146 -0.693153770703 882.272413766 0.610877594333 32.6230740608\n",
      "y,m,c values and isnan(y,c,m) and are: 1280 -0.693153770703 882.272413766 False False False\n",
      "y,m,c values and isnan(y,c,m) and are: 449 -0.693153770703 882.272413766 False False False\n",
      "y,m,c values and isnan(y,c,m) and are: 1280 0.610877594333 32.6230740608 False False False\n",
      "y,m,c values and isnan(y,c,m) and are: 633 0.610877594333 32.6230740608 False False False\n"
     ]
    },
    {
     "name": "stderr",
     "output_type": "stream",
     "text": [
      "\u001b[A\u001b[A\u001b[A\u001b[A\n",
      "\n",
      "\n",
      "\n",
      " 21%|██        | 52/251 [00:02<00:14, 13.77it/s]"
     ]
    },
    {
     "name": "stdout",
     "output_type": "stream",
     "text": [
      "Left and Right weight, m_left,c_left,m_right,c_right is -707 5 -0.693310046952 884.525575207 1.0 1.0\n",
      "y,m,c values and isnan(y,c,m) and are: 1280 -0.693310046952 884.525575207 False False False\n",
      "y,m,c values and isnan(y,c,m) and are: 451 -0.693310046952 884.525575207 False False False\n",
      "y,m,c values and isnan(y,c,m) and are: 1280 1.0 1.0 False False False\n",
      "y,m,c values and isnan(y,c,m) and are: 1280 1.0 1.0 False False False\n",
      "Left and Right weight, m_left,c_left,m_right,c_right is -628 5 -0.68754221144 879.960119878 1.0 1.0\n",
      "y,m,c values and isnan(y,c,m) and are: 1280 -0.68754221144 879.960119878 False False False\n",
      "y,m,c values and isnan(y,c,m) and are: 448 -0.68754221144 879.960119878 False False False\n",
      "y,m,c values and isnan(y,c,m) and are: 1280 1.0 1.0 False False False\n",
      "y,m,c values and isnan(y,c,m) and are: 1280 1.0 1.0 False False False\n"
     ]
    },
    {
     "name": "stderr",
     "output_type": "stream",
     "text": [
      "\u001b[A\u001b[A\u001b[A\u001b[A"
     ]
    },
    {
     "name": "stdout",
     "output_type": "stream",
     "text": [
      "Left and Right weight, m_left,c_left,m_right,c_right is -403 54 -0.695448276289 887.621246054 0.659722222222 10.4143518519\n",
      "y,m,c values and isnan(y,c,m) and are: 1280 -0.695448276289 887.621246054 False False False\n",
      "y,m,c values and isnan(y,c,m) and are: 459 -0.695448276289 887.621246054 False False False\n",
      "y,m,c values and isnan(y,c,m) and are: 1280 0.659722222222 10.4143518519 False False False\n",
      "y,m,c values and isnan(y,c,m) and are: 502 0.659722222222 10.4143518519 False False False\n"
     ]
    },
    {
     "name": "stderr",
     "output_type": "stream",
     "text": [
      "\n",
      "\n",
      "\n",
      "\n",
      " 22%|██▏       | 54/251 [00:02<00:15, 12.89it/s]\u001b[A\u001b[A\u001b[A\u001b[A"
     ]
    },
    {
     "name": "stdout",
     "output_type": "stream",
     "text": [
      "Left and Right weight, m_left,c_left,m_right,c_right is -854 100 -0.658408384094 859.092143782 0.616125493638 30.3252654673\n",
      "y,m,c values and isnan(y,c,m) and are: 1280 -0.658408384094 859.092143782 False False False\n",
      "y,m,c values and isnan(y,c,m) and are: 447 -0.658408384094 859.092143782 False False False\n",
      "y,m,c values and isnan(y,c,m) and are: 1280 0.616125493638 30.3252654673 False False False\n",
      "y,m,c values and isnan(y,c,m) and are: 505 0.616125493638 30.3252654673 False False False\n",
      "Left and Right weight, m_left,c_left,m_right,c_right is -649 76 -0.719433128765 899.877255216 0.639245951417 17.7111336032\n",
      "y,m,c values and isnan(y,c,m) and are: 1280 -0.719433128765 899.877255216 False False False\n",
      "y,m,c values and isnan(y,c,m) and are: 481 -0.719433128765 899.877255216 False False False\n",
      "y,m,c values and isnan(y,c,m) and are: 1280 0.639245951417 17.7111336032 False False False\n",
      "y,m,c values and isnan(y,c,m) and are: 513 0.639245951417 17.7111336032 False False False\n"
     ]
    },
    {
     "name": "stderr",
     "output_type": "stream",
     "text": [
      "\n",
      "\n",
      "\n",
      "\n",
      "\r",
      " 22%|██▏       | 56/251 [00:03<00:15, 12.24it/s]"
     ]
    },
    {
     "name": "stdout",
     "output_type": "stream",
     "text": [
      "Left and Right weight, m_left,c_left,m_right,c_right is -911 247 -0.699746129243 883.75864288 0.602042432375 31.6032086316\n",
      "y,m,c values and isnan(y,c,m) and are: 1280 -0.699746129243 883.75864288 False False False\n",
      "y,m,c values and isnan(y,c,m) and are: 448 -0.699746129243 883.75864288 False False False\n",
      "y,m,c values and isnan(y,c,m) and are: 1280 0.602042432375 31.6032086316 False False False\n",
      "y,m,c values and isnan(y,c,m) and are: 521 0.602042432375 31.6032086316 False False False\n"
     ]
    },
    {
     "name": "stderr",
     "output_type": "stream",
     "text": [
      "\u001b[A\u001b[A\u001b[A\u001b[A\n",
      "\n",
      "\n",
      "\n",
      " 23%|██▎       | 58/251 [00:03<00:15, 12.34it/s]"
     ]
    },
    {
     "name": "stdout",
     "output_type": "stream",
     "text": [
      "Left and Right weight, m_left,c_left,m_right,c_right is -887 196 -0.690715152338 876.863582553 0.634811883937 6.42013050118\n",
      "y,m,c values and isnan(y,c,m) and are: 1280 -0.690715152338 876.863582553 False False False\n",
      "y,m,c values and isnan(y,c,m) and are: 447 -0.690715152338 876.863582553 False False False\n",
      "y,m,c values and isnan(y,c,m) and are: 1280 0.634811883937 6.42013050118 False False False\n",
      "y,m,c values and isnan(y,c,m) and are: 531 0.634811883937 6.42013050118 False False False\n",
      "Left and Right weight, m_left,c_left,m_right,c_right is -852 336 -0.688183585651 875.366628305 0.623520431564 14.0927883142\n",
      "y,m,c values and isnan(y,c,m) and are: 1280 -0.688183585651 875.366628305 False False False\n",
      "y,m,c values and isnan(y,c,m) and are: 450 -0.688183585651 875.366628305 False False False\n",
      "y,m,c values and isnan(y,c,m) and are: 1280 0.623520431564 14.0927883142 False False False\n",
      "y,m,c values and isnan(y,c,m) and are: 545 0.623520431564 14.0927883142 False False False\n"
     ]
    },
    {
     "name": "stderr",
     "output_type": "stream",
     "text": [
      "\u001b[A\u001b[A\u001b[A\u001b[A"
     ]
    },
    {
     "name": "stdout",
     "output_type": "stream",
     "text": [
      "Left and Right weight, m_left,c_left,m_right,c_right is -1032 444 -0.682482904001 870.056645503 0.599534258909 34.6478333885\n",
      "y,m,c values and isnan(y,c,m) and are: 1280 -0.682482904001 870.056645503 False False False\n",
      "y,m,c values and isnan(y,c,m) and are: 443 -0.682482904001 870.056645503 False False False\n",
      "y,m,c values and isnan(y,c,m) and are: 1280 0.599534258909 34.6478333885 False False False\n",
      "y,m,c values and isnan(y,c,m) and are: 440 0.599534258909 34.6478333885 False False False\n",
      "Left and Right weight, m_left,c_left,m_right,c_right is -332 504 -0.6308070211 854.87942043 0.591866116599 40.6419768265\n",
      "y,m,c values and isnan(y,c,m) and are: 1280 -0.6308070211 854.87942043 False False False\n"
     ]
    },
    {
     "name": "stderr",
     "output_type": "stream",
     "text": [
      "\n",
      "\n",
      "\n",
      "\n",
      " 24%|██▍       | 60/251 [00:03<00:15, 12.45it/s]\u001b[A\u001b[A\u001b[A\u001b[A"
     ]
    },
    {
     "name": "stdout",
     "output_type": "stream",
     "text": [
      "y,m,c values and isnan(y,c,m) and are: 446 -0.6308070211 854.87942043 False False False\n",
      "y,m,c values and isnan(y,c,m) and are: 1280 0.591866116599 40.6419768265 False False False\n",
      "y,m,c values and isnan(y,c,m) and are: 580 0.591866116599 40.6419768265 False False False\n",
      "Left and Right weight, m_left,c_left,m_right,c_right is -557 113 -0.67656099706 873.030692979 0.607619882204 37.3833172203\n",
      "y,m,c values and isnan(y,c,m) and are: 1280 -0.67656099706 873.030692979 False False False\n",
      "y,m,c values and isnan(y,c,m) and are: 442 -0.67656099706 873.030692979 False False False\n",
      "y,m,c values and isnan(y,c,m) and are: 1280 0.607619882204 37.3833172203 False False False\n",
      "y,m,c values and isnan(y,c,m) and are: 607 0.607619882204 37.3833172203 False False False\n"
     ]
    },
    {
     "name": "stderr",
     "output_type": "stream",
     "text": [
      "\n",
      "\n",
      "\n",
      "\n",
      " 25%|██▍       | 62/251 [00:03<00:15, 11.86it/s]\u001b[A\u001b[A\u001b[A\u001b[A"
     ]
    },
    {
     "name": "stdout",
     "output_type": "stream",
     "text": [
      "Left and Right weight, m_left,c_left,m_right,c_right is -593 72 -0.665784688675 865.220500366 0.635690853327 14.6712671791\n",
      "y,m,c values and isnan(y,c,m) and are: 1280 -0.665784688675 865.220500366 False False False\n",
      "y,m,c values and isnan(y,c,m) and are: 449 -0.665784688675 865.220500366 False False False\n",
      "y,m,c values and isnan(y,c,m) and are: 1280 0.635690853327 14.6712671791 False False False\n",
      "y,m,c values and isnan(y,c,m) and are: 640 0.635690853327 14.6712671791 False False False\n",
      "Left and Right weight, m_left,c_left,m_right,c_right is -851 5 -0.699644940884 883.965666035 1.0 1.0\n",
      "y,m,c values and isnan(y,c,m) and are: 1280 -0.699644940884 883.965666035 False False False\n",
      "y,m,c values and isnan(y,c,m) and are: 442 -0.699644940884 883.965666035 False False False\n",
      "y,m,c values and isnan(y,c,m) and are: 1280 1.0 1.0 False False False\n",
      "y,m,c values and isnan(y,c,m) and are: 1280 1.0 1.0 False False False\n",
      "Left and Right weight, m_left,c_left,m_right,c_right is -1069 5 -0.679999749952 871.697518497 1.0 1.0\n",
      "y,m,c values and isnan(y,c,m) and are: 1280 -0.679999749952 871.697518497 False False False\n",
      "y,m,c values and isnan(y,c,m) and are: 464 -0.679999749952"
     ]
    },
    {
     "name": "stderr",
     "output_type": "stream",
     "text": [
      "\n",
      "\n",
      "\n",
      "\n",
      " 25%|██▌       | 64/251 [00:03<00:16, 11.59it/s]\u001b[A\u001b[A\u001b[A\u001b[A"
     ]
    },
    {
     "name": "stdout",
     "output_type": "stream",
     "text": [
      " 871.697518497 False False False\n",
      "y,m,c values and isnan(y,c,m) and are: 1280 1.0 1.0 False False False\n",
      "y,m,c values and isnan(y,c,m) and are: 1280 1.0 1.0 False False False\n",
      "Left and Right weight, m_left,c_left,m_right,c_right is -921 102 -0.673140460268 870.22716597 0.640602582496 2.64538498326\n",
      "y,m,c values and isnan(y,c,m) and are: 1280 -0.673140460268 870.22716597 False False False\n",
      "y,m,c values and isnan(y,c,m) and are: 442 -0.673140460268 870.22716597 False False False\n",
      "y,m,c values and isnan(y,c,m) and are: 1280 0.640602582496 2.64538498326 False False False\n",
      "y,m,c values and isnan(y,c,m) and are: 499 0.640602582496 2.64538498326 False False False\n",
      "Left and Right weight, m_left,c_left,m_right,c_right is -954 31 -0.676794042639 870.848156417 0.658303464755 23.3034647551\n",
      "y,m,c values and isnan(y,c,m) and are: 1280 -0.676794042639 870.848156417 False False False\n",
      "y,m,c values and isnan(y,c,m) and are: 462 -0.676794042639 870.848156417 False False False\n",
      "y,m,c values and isnan(y,c,m) and are: 1280 0.658303464755 23.3034647551 False False False\n",
      "y,m,c values and isnan(y,c,m) and are: 507 0.658303464755"
     ]
    },
    {
     "name": "stderr",
     "output_type": "stream",
     "text": [
      "\n",
      "\n",
      "\n",
      "\n",
      " 26%|██▋       | 66/251 [00:03<00:16, 11.37it/s]\u001b[A\u001b[A\u001b[A\u001b[A"
     ]
    },
    {
     "name": "stdout",
     "output_type": "stream",
     "text": [
      " 23.3034647551 False False False\n",
      "Left and Right weight, m_left,c_left,m_right,c_right is -1006 155 -0.674515723879 870.049275038 0.658020370195 -16.3050799357\n",
      "y,m,c values and isnan(y,c,m) and are: 1280 -0.674515723879 870.049275038"
     ]
    },
    {
     "name": "stderr",
     "output_type": "stream",
     "text": [
      "\n",
      "\n",
      "\n",
      "\n",
      " 27%|██▋       | 68/251 [00:04<00:17, 10.73it/s]"
     ]
    },
    {
     "name": "stdout",
     "output_type": "stream",
     "text": [
      " False False False\n",
      "y,m,c values and isnan(y,c,m) and are: 444 -0.674515723879 870.049275038 False False False\n",
      "y,m,c values and isnan(y,c,m) and are: 1280 0.658020370195 -16.3050799357 False False False\n",
      "y,m,c values and isnan(y,c,m) and are: 515 0.658020370195 -16.3050799357 False False False\n",
      "Left and Right weight, m_left,c_left,m_right,c_right is -865 211 -0.6901099428 880.236158497 0.62920884456 6.65031292832\n",
      "y,m,c values and isnan(y,c,m) and are: 1280 -0.6901099428 880.236158497 False False False\n",
      "y,m,c values and isnan(y,c,m) and are: 487 -0.6901099428 880.236158497 False False False\n",
      "y,m,c values and isnan(y,c,m) and are: 1280 0.62920884456 6.65031292832 False False False\n",
      "y,m,c values and isnan(y,c,m) and are: 524 0.62920884456 6.65031292832 False False False\n",
      "Left and Right weight, m_left,c_left,m_right,c_right is -1377 345 -0.680785376318 873.974903096 0.605929051235 20.5983347125\n",
      "y,m,c values and isnan(y,c,m) and are: 1280 -0.680785376318 873.974903096 False False False\n",
      "y,m,c values and isnan(y,c,m) and are: 449 -0.680785376318 873.974903096 False False False\n",
      "y,m,c values and isnan(y,c,m) and are: 1280 0.605929051235 20.5983347125 False False False\n",
      "y,m,c values and isnan(y,c,m) and are: 535 0.605929051235 20.5983347125 False False False\n"
     ]
    },
    {
     "name": "stderr",
     "output_type": "stream",
     "text": [
      "\u001b[A\u001b[A\u001b[A\u001b[A\n",
      "\n",
      "\n",
      "\n",
      " 28%|██▊       | 70/251 [00:04<00:18,  9.96it/s]"
     ]
    },
    {
     "name": "stdout",
     "output_type": "stream",
     "text": [
      "Left and Right weight, m_left,c_left,m_right,c_right is -986 463 -0.692382390784 885.245085866 0.600511141203 26.3578171442\n",
      "y,m,c values and isnan(y,c,m) and are: 1280 -0.692382390784 885.245085866 False False False\n",
      "y,m,c values and isnan(y,c,m) and are: 458 -0.692382390784 885.245085866 False False False\n",
      "y,m,c values and isnan(y,c,m) and are: 1280 0.600511141203 26.3578171442 False False False\n",
      "y,m,c values and isnan(y,c,m) and are: 549 0.600511141203 26.3578171442 False False False\n",
      "Left and Right weight, m_left,c_left,m_right,c_right is -880 710 -0.688349201407 882.928052049 0.585999483473 36.1415672572\n",
      "y,m,c values and isnan(y,c,m) and are: 1280 -0.688349201407 882.928052049 False False False\n",
      "y,m,c values and isnan(y,c,m) and are: 448 -0.688349201407 882.928052049 False False False\n",
      "y,m,c values and isnan(y,c,m) and are: 1280 0.585999483473 36.1415672572 False False False\n",
      "y,m,c values and isnan(y,c,m) and are: 566 0.585999483473 36.1415672572 False False False\n",
      "Left and Right weight, m_left,c_left,m_right,c_right is"
     ]
    },
    {
     "name": "stderr",
     "output_type": "stream",
     "text": [
      "\u001b[A\u001b[A\u001b[A\u001b[A\n",
      "\n",
      "\n",
      "\n",
      " 29%|██▊       | 72/251 [00:04<00:17, 10.09it/s]\u001b[A\u001b[A\u001b[A\u001b[A"
     ]
    },
    {
     "name": "stdout",
     "output_type": "stream",
     "text": [
      " -386 459 -0.668854247234 877.520381428 0.572846822149 49.6790363169\n",
      "y,m,c values and isnan(y,c,m) and are: 1280 -0.668854247234 877.520381428 False False False\n",
      "y,m,c values and isnan(y,c,m) and are: 449 -0.668854247234 877.520381428 False False False\n",
      "y,m,c values and isnan(y,c,m) and are: 1280 0.572846822149 49.6790363169 False False False\n",
      "y,m,c values and isnan(y,c,m) and are: 586 0.572846822149 49.6790363169 False False False\n"
     ]
    },
    {
     "name": "stderr",
     "output_type": "stream",
     "text": [
      "\n",
      "\n",
      "\n",
      "\n",
      "\r",
      " 29%|██▉       | 74/251 [00:04<00:18,  9.63it/s]"
     ]
    },
    {
     "name": "stdout",
     "output_type": "stream",
     "text": [
      "Left and Right weight, m_left,c_left,m_right,c_right is -825 395 -0.704832061064 890.125050855 0.573704029299 49.3993549482\n",
      "y,m,c values and isnan(y,c,m) and are: 1280 -0.704832061064 890.125050855 False False False\n",
      "y,m,c values and isnan(y,c,m) and are: 505 -0.704832061064 890.125050855 False False False\n",
      "y,m,c values and isnan(y,c,m) and are: 1280 0.573704029299 49.3993549482 False False False\n",
      "y,m,c values and isnan(y,c,m) and are: 608 0.573704029299 49.3993549482 False False False\n",
      "Left and Right weight, m_left,c_left,m_right,c_right is -591 5 -0.685605403735 883.235492641 1.0 1.0\n",
      "y,m,c values and isnan(y,c,m) and are: 1280 -0.685605403735 883.235492641 False False False\n",
      "y,m,c values and isnan(y,c,m) and are: 453 -0.685605403735 883.235492641 False False False\n",
      "y,m,c values and isnan(y,c,m) and are: 1280 1.0 1.0 False False False\n",
      "y,m,c values and isnan(y,c,m) and are: 1280 1.0 1.0 False False False\n",
      "Left and Right weight, m_left,c_left,m_right,c_right is"
     ]
    },
    {
     "name": "stderr",
     "output_type": "stream",
     "text": [
      "\u001b[A\u001b[A\u001b[A\u001b[A\n",
      "\n",
      "\n",
      "\n",
      " 30%|██▉       | 75/251 [00:04<00:18,  9.32it/s]\u001b[A\u001b[A\u001b[A\u001b[A\n",
      "\n",
      "\n",
      "\n",
      " 30%|███       | 76/251 [00:04<00:19,  8.94it/s]\u001b[A\u001b[A\u001b[A\u001b[A"
     ]
    },
    {
     "name": "stdout",
     "output_type": "stream",
     "text": [
      " -415 5 -0.713823641091 905.136631852 1.0 1.0\n",
      "y,m,c values and isnan(y,c,m) and are: 1280 -0.713823641091 905.136631852 False False False\n",
      "y,m,c values and isnan(y,c,m) and are: 452 -0.713823641091 905.136631852 False False False\n",
      "y,m,c values and isnan(y,c,m) and are: 1280 1.0 1.0 False False False\n",
      "y,m,c values and isnan(y,c,m) and are: 1280 1.0 1.0 False False False\n",
      "Left and Right weight, m_left,c_left,m_right,c_right is -829 60 -0.71863213667 901.208824978 0.59496124031 47.8992248062\n",
      "y,m,c values and isnan(y,c,m) and are: 1280 -0.71863213667 901.208824978 False False False\n",
      "y,m,c values and isnan(y,c,m) and are: 453 -0.71863213667 901.208824978 False False False\n",
      "y,m,c values and isnan(y,c,m) and are: 1280 0.59496124031 47.8992248062 False False False\n",
      "y,m,c values and isnan(y,c,m) and are: 497 0.59496124031 47.8992248062 False False False\n",
      "Left and Right weight, m_left,c_left,m_right,c_right is -656 100 -0.73910558914 918.163750849 0.614652173913 24.6970869565\n",
      "y,m,c values and isnan(y,c,m) and are: 1280 -0.73910558914 918.163750849 False False False\n",
      "y,m,c values and isnan(y,c,m) and are: 480 -0.73910558914 918.163750849 False False False\n",
      "y,m,c values and isnan(y,c,m) and are: 1280 0.614652173913 24.6970869565 False False False\n",
      "y,m,c values and isnan(y,c,m) and are: 504 0.614652173913 24.6970869565 False False False\n"
     ]
    },
    {
     "name": "stderr",
     "output_type": "stream",
     "text": [
      "\n",
      "\n",
      "\n",
      "\n",
      " 31%|███       | 78/251 [00:05<00:18,  9.29it/s]\u001b[A\u001b[A\u001b[A\u001b[A"
     ]
    },
    {
     "name": "stdout",
     "output_type": "stream",
     "text": [
      "Left and Right weight, m_left,c_left,m_right,c_right is -467 157 -0.710735614645 903.577359916 0.587318278762 40.8506541263\n",
      "y,m,c values and isnan(y,c,m) and are: 1280 -0.710735614645 903.577359916 False False False\n",
      "y,m,c values and isnan(y,c,m) and are: 457 -0.710735614645 903.577359916 False False False\n",
      "y,m,c values and isnan(y,c,m) and are: 1280 0.587318278762 40.8506541263 False False False\n",
      "y,m,c values and isnan(y,c,m) and are: 510 0.587318278762 40.8506541263 False False False\n",
      "Left and Right weight, m_left,c_left,m_right,c_right is -506 172 -0.74115226065 919.990611298 0.59100465906 35.2429225727\n",
      "y,m,c values and isnan(y,c,m) and are: 1280 -0.74115226065 919.990611298 False False False\n",
      "y,m,c values and isnan(y,c,m) and are: 456 -0.74115226065 919.990611298 False False False\n",
      "y,m,c values and isnan(y,c,m) and are: 1280 0.59100465906 35.2429225727 False False False\n",
      "y,m,c values and isnan(y,c,m) and are: 519 0.59100465906 35.2429225727 False False False\n",
      "Left and Right weight, m_left,c_left,m_right,c_right is -770 245 -0.720479569408 903.381866915 0.58250728863 39.910787172\n",
      "y,m,c values and isnan(y,c,m) and are: 1280 -0.720479569408 903.381866915 False False False\n",
      "y,m,c values and isnan(y,c,m) and are: 457 -0.720479569408 903.381866915 False False False\n",
      "y,m,c values and isnan(y,c,m) and are: 1280 0.58250728863 39.910787172 False False "
     ]
    },
    {
     "name": "stderr",
     "output_type": "stream",
     "text": [
      "\n",
      "\n",
      "\n",
      "\n",
      " 32%|███▏      | 80/251 [00:05<00:17,  9.54it/s]\u001b[A\u001b[A\u001b[A\u001b[A\n",
      "\n",
      "\n",
      "\n",
      " 32%|███▏      | 81/251 [00:05<00:17,  9.59it/s]\u001b[A\u001b[A\u001b[A\u001b[A\n",
      "\n",
      "\n",
      "\n",
      " 33%|███▎      | 82/251 [00:05<00:17,  9.62it/s]"
     ]
    },
    {
     "name": "stdout",
     "output_type": "stream",
     "text": [
      "False\n",
      "y,m,c values and isnan(y,c,m) and are: 527 0.58250728863 39.910787172 False False False\n",
      "Left and Right weight, m_left,c_left,m_right,c_right is -848 228 -0.737094316514 912.059407873 0.563482081429 57.8744671114\n",
      "y,m,c values and isnan(y,c,m) and are: 1280 -0.737094316514 912.059407873 False False False\n",
      "y,m,c values and isnan(y,c,m) and are: 478 -0.737094316514 912.059407873 False False False\n",
      "y,m,c values and isnan(y,c,m) and are: 1280 0.563482081429 57.8744671114 False False False\n",
      "y,m,c values and isnan(y,c,m) and are: 539 0.563482081429 57.8744671114 False False False\n",
      "Left and Right weight, m_left,c_left,m_right,c_right is -715 451 -0.737430941302 911.856350039 0.575969992055 43.2205465749\n",
      "y,m,c values and isnan(y,c,m) and are: 1280 -0.737430941302 911.856350039 False False False\n",
      "y,m,c values and isnan(y,c,m) and are: 487 -0.737430941302 911.856350039 False False False\n",
      "y,m,c values and isnan(y,c,m) and are: 1280 0.575969992055 43.2205465749 False False False\n",
      "y,m,c values and isnan(y,c,m) and are: 552 0.575969992055 43.2205465749 False False False\n",
      "Left and Right weight, m_left,c_left,m_right,c_right is"
     ]
    },
    {
     "name": "stderr",
     "output_type": "stream",
     "text": [
      "\u001b[A\u001b[A\u001b[A\u001b[A\n",
      "\n",
      "\n",
      "\n",
      " 33%|███▎      | 83/251 [00:05<00:18,  9.25it/s]\u001b[A\u001b[A\u001b[A\u001b[A\n",
      "\n",
      "\n",
      "\n",
      " 33%|███▎      | 84/251 [00:05<00:17,  9.34it/s]\u001b[A\u001b[A\u001b[A\u001b[A\n",
      "\n",
      "\n",
      "\n",
      " 34%|███▍      | 85/251 [00:05<00:18,  9.20it/s]"
     ]
    },
    {
     "name": "stdout",
     "output_type": "stream",
     "text": [
      " -813 417 -0.745898349953 917.999699473 0.564164577754 54.2609263082\n",
      "y,m,c values and isnan(y,c,m) and are: 1280 -0.745898349953 917.999699473 False False False\n",
      "y,m,c values and isnan(y,c,m) and are: 486 -0.745898349953 917.999699473 False False False\n",
      "y,m,c values and isnan(y,c,m) and are: 1280 0.564164577754 54.2609263082 False False False\n",
      "y,m,c values and isnan(y,c,m) and are: 570 0.564164577754 54.2609263082 False False False\n",
      "Left and Right weight, m_left,c_left,m_right,c_right is -610 422 -0.730296843371 909.080859098 0.560797209363 56.5305104613\n",
      "y,m,c values and isnan(y,c,m) and are: 1280 -0.730296843371 909.080859098 False False False\n",
      "y,m,c values and isnan(y,c,m) and are: 461 -0.730296843371 909.080859098 False False False\n",
      "y,m,c values and isnan(y,c,m) and are: 1280 0.560797209363 56.5305104613 False False False\n",
      "y,m,c values and isnan(y,c,m) and are: 593 0.560797209363 56.5305104613 False False False\n",
      "Left and Right weight, m_left,c_left,m_right,c_right is -468 328 -0.750182975711 919.794084164 0.555009663681 64.0611361007\n",
      "y,m,c values and isnan(y,c,m) and are: 1280 -0.750182975711 919.794084164 False False False\n",
      "y,m,c values and isnan(y,c,m) and are: 463 -0.750182975711 919.794084164 False False False\n",
      "y,m,c values and isnan(y,c,m) and are: 1280 0.555009663681 64.0611361007 False False False\n",
      "y,m,c values and isnan(y,c,m) and are: 624 0.555009663681 64.0611361007 False False False\n"
     ]
    },
    {
     "name": "stderr",
     "output_type": "stream",
     "text": [
      "\u001b[A\u001b[A\u001b[A\u001b[A\n",
      "\n",
      "\n",
      "\n",
      " 34%|███▍      | 86/251 [00:06<00:18,  8.73it/s]\u001b[A\u001b[A\u001b[A\u001b[A\n",
      "\n",
      "\n",
      "\n",
      " 35%|███▌      | 88/251 [00:06<00:16,  9.61it/s]"
     ]
    },
    {
     "name": "stdout",
     "output_type": "stream",
     "text": [
      "Left and Right weight, m_left,c_left,m_right,c_right is -768 5 -0.741749427071 914.575557974 1.0 1.0\n",
      "y,m,c values and isnan(y,c,m) and are: 1280 -0.741749427071 914.575557974 False False False\n",
      "y,m,c values and isnan(y,c,m) and are: 471 -0.741749427071 914.575557974 False False False\n",
      "y,m,c values and isnan(y,c,m) and are: 1280 1.0 1.0 False False False\n",
      "y,m,c values and isnan(y,c,m) and are: 1280 1.0 1.0 False False False\n",
      "Left and Right weight, m_left,c_left,m_right,c_right is -309 112 -0.766046678896 937.502880271 0.624362244898 14.9030612245\n",
      "y,m,c values and isnan(y,c,m) and are: 1280 -0.766046678896 937.502880271 False False False\n",
      "y,m,c values and isnan(y,c,m) and are: 466 -0.766046678896 937.502880271 False False False\n",
      "y,m,c values and isnan(y,c,m) and are: 1280 0.624362244898 14.9030612245 False False False\n",
      "y,m,c values and isnan(y,c,m) and are: 489 0.624362244898 14.9030612245 False False False\n",
      "Left and Right weight, m_left,c_left,m_right,c_right is -1003 47 -0.772620919951 926.290355955 0.614518147685 44.8397997497\n",
      "y,m,c values and isnan(y,c,m) and are: 1280 -0.772620919951 926.290355955 False False False\n",
      "y,m,c values and isnan(y,c,m) and are: 488 -0.772620919951 926.290355955 False False False\n",
      "y,m,c values and isnan(y,c,m) and are: 1280 0.614518147685 44.8397997497 False False False\n",
      "y,m,c values and isnan(y,c,m) and are: 497 0.614518147685 44.8397997497 False False False\n"
     ]
    },
    {
     "name": "stderr",
     "output_type": "stream",
     "text": [
      "\u001b[A\u001b[A\u001b[A\u001b[A\n",
      "\n",
      "\n",
      "\n",
      " 35%|███▌      | 89/251 [00:06<00:17,  9.42it/s]\u001b[A\u001b[A\u001b[A\u001b[A\n",
      "\n",
      "\n",
      "\n",
      " 36%|███▌      | 90/251 [00:06<00:17,  9.09it/s]"
     ]
    },
    {
     "name": "stdout",
     "output_type": "stream",
     "text": [
      "Left and Right weight, m_left,c_left,m_right,c_right is -552 87 -0.762698410984 930.127504075 0.608296693674 31.849367217\n",
      "y,m,c values and isnan(y,c,m) and are: 1280 -0.762698410984 930.127504075 False False False\n",
      "y,m,c values and isnan(y,c,m) and are: 472 -0.762698410984 930.127504075 False False False\n",
      "y,m,c values and isnan(y,c,m) and are: 1280 0.608296693674 31.849367217 False False False\n",
      "y,m,c values and isnan(y,c,m) and are: 500 0.608296693674 31.849367217 False False False\n",
      "Left and Right weight, m_left,c_left,m_right,c_right is -667 152 -0.788878893298 936.526424423 0.571371610845 55.504984051\n",
      "y,m,c values and isnan(y,c,m) and are: 1280 -0.788878893298 936.526424423 False False False\n",
      "y,m,c values and isnan(y,c,m) and are: 476 -0.788878893298 936.526424423 False False False\n",
      "y,m,c values and isnan(y,c,m) and are: 1280 0.571371610845 55.504984051 False False False\n",
      "y,m,c values and isnan(y,c,m) and are: 506 0.571371610845 55.504984051 False False False\n"
     ]
    },
    {
     "name": "stderr",
     "output_type": "stream",
     "text": [
      "\u001b[A\u001b[A\u001b[A\u001b[A\n",
      "\n",
      "\n",
      "\n",
      " 36%|███▋      | 91/251 [00:06<00:17,  9.06it/s]\u001b[A\u001b[A\u001b[A\u001b[A\n",
      "\n",
      "\n",
      "\n",
      " 37%|███▋      | 92/251 [00:06<00:17,  9.15it/s]"
     ]
    },
    {
     "name": "stdout",
     "output_type": "stream",
     "text": [
      "Left and Right weight, m_left,c_left,m_right,c_right is -406 202 -0.773052584743 931.518071967 0.565047294203 59.561166643\n",
      "y,m,c values and isnan(y,c,m) and are: 1280 -0.773052584743 931.518071967 False False False\n",
      "y,m,c values and isnan(y,c,m) and are: 496 -0.773052584743 931.518071967 False False False\n",
      "y,m,c values and isnan(y,c,m) and are: 1280 0.565047294203 59.561166643 False False False\n",
      "y,m,c values and isnan(y,c,m) and are: 513 0.565047294203 59.561166643 False False False\n",
      "Left and Right weight, m_left,c_left,m_right,c_right is -1161 199 -0.618782468804 797.211715618 0.591309373378 36.6460861814\n",
      "y,m,c values and isnan(y,c,m) and are: 1280 -0.618782468804 797.211715618 False False False\n",
      "y,m,c values and isnan(y,c,m) and are: 485 -0.618782468804 797.211715618 False False False\n",
      "y,m,c values and isnan(y,c,m) and are: 1280 0.591309373378 36.6460861814 False False False\n",
      "y,m,c values and isnan(y,c,m) and are: 531 0.591309373378 36.6460861814 False False False\n"
     ]
    },
    {
     "name": "stderr",
     "output_type": "stream",
     "text": [
      "\u001b[A\u001b[A\u001b[A\u001b[A\n",
      "\n",
      "\n",
      "\n",
      " 37%|███▋      | 93/251 [00:06<00:17,  9.10it/s]\u001b[A\u001b[A\u001b[A\u001b[A"
     ]
    },
    {
     "name": "stdout",
     "output_type": "stream",
     "text": [
      "Left and Right weight, m_left,c_left,m_right,c_right is -1220 206 -0.72618133528 880.01277356 0.559732413166 62.6500531296\n",
      "y,m,c values and isnan(y,c,m) and are: 1280 -0.72618133528 880.01277356 False False False\n",
      "y,m,c values and isnan(y,c,m) and are: 482 -0.72618133528 880.01277356 False False False\n",
      "y,m,c values and isnan(y,c,m) and are: 1280 0.559732413166 62.6500531296 False False False\n",
      "y,m,c values and isnan(y,c,m) and are: 543 0.559732413166 62.6500531296 False False False\n",
      "Left and Right weight, m_left,c_left,m_right,c_right is -815 589 -0.654930812472 810.691376608 0.569952002648 48.3166314295\n",
      "y,m,c values and isnan(y,c,m) and are: 1280 -0.654930812472 810.691376608 False False False\n",
      "y,m,c values and isnan(y,c,m) and are: 478 -0.654930812472 810.691376608 False False False\n",
      "y,m,c values and isnan(y,c,m) and are: 1280 0.569952002648 48.3166314295 False False False\n",
      "y,m,c values and isnan(y,c,m) and are: 557 0.569952002648 48.3166314295 False False False\n",
      "Left and Right weight, m_left,c_left,m_right,c_right is"
     ]
    },
    {
     "name": "stderr",
     "output_type": "stream",
     "text": [
      "\n",
      "\n",
      "\n",
      "\n",
      " 38%|███▊      | 95/251 [00:06<00:17,  9.14it/s]\u001b[A\u001b[A\u001b[A\u001b[A\n",
      "\n",
      "\n",
      "\n",
      " 38%|███▊      | 96/251 [00:07<00:16,  9.19it/s]"
     ]
    },
    {
     "name": "stdout",
     "output_type": "stream",
     "text": [
      " -400 663 -0.761480274949 917.432674344 0.562880059666 64.0001361107\n",
      "y,m,c values and isnan(y,c,m) and are: 1280 -0.761480274949 917.432674344 False False False\n",
      "y,m,c values and isnan(y,c,m) and are: 491 -0.761480274949 917.432674344 False False False\n",
      "y,m,c values and isnan(y,c,m) and are: 1280 0.562880059666 64.0001361107 False False False\n",
      "y,m,c values and isnan(y,c,m) and are: 509 0.562880059666 64.0001361107 False False False\n",
      "Left and Right weight, m_left,c_left,m_right,c_right is -550 532 -0.807065226308 947.757731961 0.544462545106 72.2957597903\n",
      "y,m,c values and isnan(y,c,m) and are: 1280 -0.807065226308 947.757731961 False False False\n",
      "y,m,c values and isnan(y,c,m) and are: 493 -0.807065226308 947.757731961 False False False\n",
      "y,m,c values and isnan(y,c,m) and are: 1280 0.544462545106 72.2957597903 False False False\n",
      "y,m,c values and isnan(y,c,m) and are: 594 0.544462545106 72.2957597903 False False False\n",
      "Left and Right weight, m_left,c_left,m_right,c_right is -575 284 -0.755634029036 899.232577197 0.551883432532 67.5599540665\n",
      "y,m,c values and isnan(y,c,m) and are: 1280 -0.755634029036 899.232577197 False False False\n",
      "y,m,c values and isnan(y,c,m) and are: 508 -0.755634029036 "
     ]
    },
    {
     "name": "stderr",
     "output_type": "stream",
     "text": [
      "\u001b[A\u001b[A\u001b[A\u001b[A\n",
      "\n",
      "\n",
      "\n",
      " 39%|███▊      | 97/251 [00:07<00:16,  9.38it/s]\u001b[A\u001b[A\u001b[A\u001b[A\n",
      "\n",
      "\n",
      "\n",
      " 39%|███▉      | 99/251 [00:07<00:15,  9.51it/s]"
     ]
    },
    {
     "name": "stdout",
     "output_type": "stream",
     "text": [
      "899.232577197 False False False\n",
      "y,m,c values and isnan(y,c,m) and are: 1280 0.551883432532 67.5599540665 False False False\n",
      "y,m,c values and isnan(y,c,m) and are: 632 0.551883432532 67.5599540665 False False False\n",
      "Left and Right weight, m_left,c_left,m_right,c_right is -136 5 -0.817808644734 981.701827001 1.0 1.0\n",
      "y,m,c values and isnan(y,c,m) and are: 1280 -0.817808644734 981.701827001 False False False\n",
      "y,m,c values and isnan(y,c,m) and are: 505 -0.817808644734 981.701827001 False False False\n",
      "y,m,c values and isnan(y,c,m) and are: 1280 1.0 1.0 False False False\n",
      "y,m,c values and isnan(y,c,m) and are: 1280 1.0 1.0 False False False\n",
      "Left and Right weight, m_left,c_left,m_right,c_right is -273 5 -0.866751382705 984.296224471 1.0 1.0\n",
      "y,m,c values and isnan(y,c,m) and are: 1280 -0.866751382705 984.296224471 False False False\n",
      "y,m,c values and isnan(y,c,m) and are: 513 -0.866751382705 984.296224471 False False False\n",
      "y,m,c values and isnan(y,c,m) and are: 1280 1.0 1.0 False False False\n",
      "y,m,c values and isnan(y,c,m) and are: 1280 1.0 1.0 False False False\n",
      "Left and Right weight, m_left,c_left,m_right,c_right is -431 5 -0.792064228904 940.308155116 1.0 1.0\n",
      "y,m,c values and isnan(y,c,m) and are: 1280 -0.792064228904 940.308155116 False False False\n",
      "y,m,c values and isnan(y,c,m) and are: 519 -0.792064228904 940.308155116 False False False\n",
      "y,m,c values and isnan(y,c,m) and are: 1280 1.0 "
     ]
    },
    {
     "name": "stderr",
     "output_type": "stream",
     "text": [
      "\u001b[A\u001b[A\u001b[A\u001b[A\n",
      "\n",
      "\n",
      "\n",
      " 40%|████      | 101/251 [00:07<00:15,  9.99it/s]\u001b[A\u001b[A\u001b[A\u001b[A"
     ]
    },
    {
     "name": "stdout",
     "output_type": "stream",
     "text": [
      "1.0 False False False\n",
      "y,m,c values and isnan(y,c,m) and are: 1280 1.0 1.0 False False False\n",
      "Left and Right weight, m_left,c_left,m_right,c_right is -403 5 -0.776843311268 931.149162708 1.0 1.0\n",
      "y,m,c values and isnan(y,c,m) and are: 1280 -0.776843311268 931.149162708 False False False\n",
      "y,m,c values and isnan(y,c,m) and are: 529 -0.776843311268 931.149162708 False False False\n",
      "y,m,c values and isnan(y,c,m) and are: 1280 1.0 1.0 False False False\n",
      "y,m,c values and isnan(y,c,m) and are: 1280 1.0 1.0 False False False\n",
      "Left and Right weight, m_left,c_left,m_right,c_right is -91 109 -0.794976506515 982.857283742 0.556264615938 76.3661180068\n",
      "y,m,c values and isnan(y,c,m) and are: 1280 -0.794976506515 982.857283742 False False False\n",
      "y,m,c values and isnan(y,c,m) and are: 540 -0.794976506515 982.857283742 False False False\n",
      "y,m,c values and isnan(y,c,m) and are: 1280 0.556264615938 76.3661180068 False False False\n",
      "y,m,c values and isnan(y,c,m) and are: 506 0.556264615938 76.3661180068 False False False\n",
      "Left and Right weight, m_left,c_left,m_right,c_right is -307 92 -0.766761947004 932.995213508 0.549939613527 83.2787439614\n",
      "y,m,c values and isnan(y,c,m) and are: 1280 -0.766761947004 932.995213508"
     ]
    },
    {
     "name": "stderr",
     "output_type": "stream",
     "text": [
      "\n",
      "\n",
      "\n",
      "\n",
      " 41%|████      | 103/251 [00:07<00:14, 10.30it/s]\u001b[A\u001b[A\u001b[A\u001b[A\n",
      "\n",
      "\n",
      "\n",
      " 42%|████▏     | 105/251 [00:07<00:14, 10.14it/s]\u001b[A\u001b[A\u001b[A\u001b[A"
     ]
    },
    {
     "name": "stdout",
     "output_type": "stream",
     "text": [
      " False False False\n",
      "y,m,c values and isnan(y,c,m) and are: 555 -0.766761947004 932.995213508 False False False\n",
      "y,m,c values and isnan(y,c,m) and are: 1280 0.549939613527 83.2787439614 False False False\n",
      "y,m,c values and isnan(y,c,m) and are: 515 0.549939613527 83.2787439614 False False False\n",
      "Left and Right weight, m_left,c_left,m_right,c_right is -200 72 -0.786888863323 948.520574321 0.578009259259 65.5525462963\n",
      "y,m,c values and isnan(y,c,m) and are: 1280 -0.786888863323 948.520574321 False False False\n",
      "y,m,c values and isnan(y,c,m) and are: 589 -0.786888863323 948.520574321 False False False\n",
      "y,m,c values and isnan(y,c,m) and are: 1280 0.578009259259 65.5525462963 False False False\n",
      "y,m,c values and isnan(y,c,m) and are: 528 0.578009259259 65.5525462963 False False False\n",
      "Left and Right weight, m_left,c_left,m_right,c_right is -248 167 -0.736902070696 922.886664177 0.550050409385 79.2187385433\n",
      "y,m,c values and isnan(y,c,m) and are: 1280 -0.736902070696 922.886664177 False False False\n",
      "y,m,c values and isnan(y,c,m) and are: 599 -0.736902070696 922.886664177 False False False\n",
      "y,m,c values and isnan(y,c,m) and are: 1280 0.550050409385 79.2187385433 False False False\n",
      "y,m,c values and isnan(y,c,m) and are: 535 0.550050409385 79.2187385433 False False False\n",
      "Left and Right weight, m_left,c_left,m_right,c_right is"
     ]
    },
    {
     "name": "stderr",
     "output_type": "stream",
     "text": [
      "\n",
      "\n",
      "\n",
      "\n",
      " 43%|████▎     | 107/251 [00:08<00:14,  9.90it/s]\u001b[A\u001b[A\u001b[A\u001b[A\n",
      "\n",
      "\n",
      "\n",
      " 43%|████▎     | 109/251 [00:08<00:13, 10.75it/s]"
     ]
    },
    {
     "name": "stdout",
     "output_type": "stream",
     "text": [
      " -207 180 -0.716876006441 928.713977456 0.553765324986 77.1274942443\n",
      "y,m,c values and isnan(y,c,m) and are: 1280 -0.716876006441 928.713977456 False False False\n",
      "y,m,c values and isnan(y,c,m) and are: 631 -0.716876006441 928.713977456 False False False\n",
      "y,m,c values and isnan(y,c,m) and are: 1280 0.553765324986 77.1274942443 False False False\n",
      "y,m,c values and isnan(y,c,m) and are: 560 0.553765324986 77.1274942443 False False False\n",
      "Left and Right weight, m_left,c_left,m_right,c_right is -13 605 -0.698996655518 1263.10702341 0.52939122927 95.6156647758\n",
      "y,m,c values and isnan(y,c,m) and are: 1280 -0.698996655518 1263.10702341 False False False\n",
      "y,m,c values and isnan(y,c,m) and are: 522 -0.698996655518 1263.10702341 False False False\n",
      "y,m,c values and isnan(y,c,m) and are: 1280 0.52939122927 95.6156647758 False False False\n",
      "y,m,c values and isnan(y,c,m) and are: 522 0.52939122927 95.6156647758 False False False\n",
      "Left and Right weight, m_left,c_left,m_right,c_right is 5 510 -1.0 1.0 0.533224291789 93.6361629891\n",
      "y,m,c values and isnan(y,c,m) and are: 1280 -1.0 1.0 False False False\n",
      "y,m,c values and isnan(y,c,m) and are: 1280 -1.0 1.0 False False False\n",
      "y,m,c values and isnan(y,c,m) and are: 1280 0.533224291789 93.6361629891 False False False\n",
      "y,m,c values and isnan(y,c,m) and are: 581 0.533224291789 93.6361629891 False False False\n",
      "Left and Right weight, m_left,c_left,m_right,c_right is 5 65 -1.0 1.0 0.549718574109 98.8686679174\n",
      "y,m,c values and isnan(y,c,m) and are: 1280 -1.0 1.0 False False False\n",
      "y,m,c values and isnan(y,c,m) and are: 1280 -1.0 1.0 False False False\n",
      "y,m,c values and isnan(y,c,m) and are: 1280 0.549718574109 98.8686679174 False False False\n",
      "y,m,c values and isnan(y,c,m) and are: 652 0.549718574109 98.8686679174 False False False\n"
     ]
    },
    {
     "name": "stderr",
     "output_type": "stream",
     "text": [
      "\u001b[A\u001b[A\u001b[A\u001b[A\n",
      "\n",
      "\n",
      "\n",
      " 44%|████▍     | 111/251 [00:08<00:12, 10.98it/s]\u001b[A\u001b[A\u001b[A\u001b[A"
     ]
    },
    {
     "name": "stdout",
     "output_type": "stream",
     "text": [
      "Left and Right weight, m_left,c_left,m_right,c_right is -226 68 -3.69847670251 3099.74337869 0.570659971306 78.8461262554\n",
      "y,m,c values and isnan(y,c,m) and are: 1280 -3.69847670251 3099.74337869 False False False\n",
      "y,m,c values and isnan(y,c,m) and are: 536 -3.69847670251 3099.74337869 False False False\n",
      "y,m,c values and isnan(y,c,m) and are: 1280 0.570659971306 78.8461262554 False False False\n",
      "y,m,c values and isnan(y,c,m) and are: 642 0.570659971306 78.8461262554 False False False\n",
      "Left and Right weight, m_left,c_left,m_right,c_right is -226 5 -inf inf 1.0 1.0\n",
      "y,m,c values and isnan(y,c,m) and are: 1280 -inf inf False False False\n",
      "y,m,c values and isnan(y,c,m) and are: 553 -inf inf False False False\n",
      "y,m,c values and isnan(y,c,m) and are: 1280 1.0 1.0 False False False\n",
      "y,m,c values and isnan(y,c,m) and are: 1280 1.0 1.0 False False False\n",
      "Left and Right weight, m_left,c_left,m_right,c_right is -303 70 -0.876414487603 993.207930947 6.85275175644 -4582.26258782\n",
      "y,m,c values and isnan(y,c,m) and are: 1280 -0.876414487603 993.207930947 False False False\n",
      "y,m,c values and isnan(y,c,m) and are: 587 -0.876414487603 993.207930947 False False False\n",
      "y,m,c values and isnan(y,c,m) and are: 1280 6.85275175644 -4582.26258782 False False False\n",
      "y,m,c values and isnan(y,c,m) and are: 585 6.85275175644 -4582.26258782 False False False\n"
     ]
    },
    {
     "name": "stderr",
     "output_type": "stream",
     "text": [
      "\n",
      "\n",
      "\n",
      "\n",
      " 45%|████▌     | 113/251 [00:08<00:11, 11.58it/s]\u001b[A\u001b[A\u001b[A\u001b[A\n",
      "\n",
      "\n",
      "\n",
      " 46%|████▌     | 115/251 [00:08<00:11, 11.64it/s]"
     ]
    },
    {
     "name": "stdout",
     "output_type": "stream",
     "text": [
      "Left and Right weight, m_left,c_left,m_right,c_right is -247 110 -0.700533841353 887.81567491 0.681818181818 27.4090909091\n",
      "y,m,c values and isnan(y,c,m) and are: 1280 -0.700533841353 887.81567491 False False False\n",
      "y,m,c values and isnan(y,c,m) and are: 587 -0.700533841353 887.81567491 False False False\n",
      "y,m,c values and isnan(y,c,m) and are: 1280 0.681818181818 27.4090909091 False False False\n",
      "y,m,c values and isnan(y,c,m) and are: 612 0.681818181818 27.4090909091 False False False\n",
      "Left and Right weight, m_left,c_left,m_right,c_right is -396 5 -0.681042992501 862.37043805 1.0 1.0\n",
      "y,m,c values and isnan(y,c,m) and are: 1280 -0.681042992501 862.37043805 False False False\n",
      "y,m,c values and isnan(y,c,m) and are: 588 -0.681042992501 862.37043805 False False False\n",
      "y,m,c values and isnan(y,c,m) and are: 1280 1.0 1.0 False False False\n",
      "y,m,c values and isnan(y,c,m) and are: 1280 1.0 1.0 False False False\n",
      "Left and Right weight, m_left,c_left,m_right,c_right is -79 118 -0.674432793392 909.435388061 0.555488297014 68.3123486683\n",
      "y,m,c values and isnan(y,c,m) and are: 1280 -0.674432793392 909.435388061 False False False\n",
      "y,m,c values and isnan(y,c,m) and are: 578 -0.674432793392 909.435388061 False False False\n",
      "y,m,c values and isnan(y,c,m) and are: 1280 0.555488297014 68.3123486683 False False False\n",
      "y,m,c values and isnan(y,c,m) and are: 489 0.555488297014 68.3123486683 False False False\n"
     ]
    },
    {
     "name": "stderr",
     "output_type": "stream",
     "text": [
      "\u001b[A\u001b[A\u001b[A\u001b[A\n",
      "\n",
      "\n",
      "\n",
      " 47%|████▋     | 117/251 [00:09<00:13, 10.01it/s]"
     ]
    },
    {
     "name": "stdout",
     "output_type": "stream",
     "text": [
      "Left and Right weight, m_left,c_left,m_right,c_right is -180 149 -0.690085920177 883.385634393 0.602757561231 32.3508073303\n",
      "y,m,c values and isnan(y,c,m) and are: 1280 -0.690085920177 883.385634393 False False False\n",
      "y,m,c values and isnan(y,c,m) and are: 584 -0.690085920177 883.385634393 False False False\n",
      "y,m,c values and isnan(y,c,m) and are: 1280 0.602757561231 32.3508073303 False False False\n",
      "y,m,c values and isnan(y,c,m) and are: 500 0.602757561231 32.3508073303 False False False\n",
      "Left and Right weight, m_left,c_left,m_right,c_right is -142 200 -0.696695557963 897.630882498 0.590730783444 38.1429351441\n",
      "y,m,c values and isnan(y,c,m) and are: 1280 -0.696695557963 897.630882498 False False False\n",
      "y,m,c values and isnan(y,c,m) and are: 580 -0.696695557963 897.630882498 False False False\n",
      "y,m,c values and isnan(y,c,m) and are: 1280 0.590730783444 38.1429351441 False False False\n",
      "y,m,c values and isnan(y,c,m) and are: 506 0.590730783444 38.1429351441 False False False\n"
     ]
    },
    {
     "name": "stderr",
     "output_type": "stream",
     "text": [
      "\u001b[A\u001b[A\u001b[A\u001b[A\n",
      "\n",
      "\n",
      "\n",
      " 47%|████▋     | 119/251 [00:09<00:14,  9.41it/s]"
     ]
    },
    {
     "name": "stdout",
     "output_type": "stream",
     "text": [
      "Left and Right weight, m_left,c_left,m_right,c_right is -277 164 -0.635163325295 861.321726219 0.574731781564 57.3050395367\n",
      "y,m,c values and isnan(y,c,m) and are: 1280 -0.635163325295 861.321726219 False False False\n",
      "y,m,c values and isnan(y,c,m) and are: 608 -0.635163325295 861.321726219 False False False\n",
      "y,m,c values and isnan(y,c,m) and are: 1280 0.574731781564 57.3050395367 False False False\n",
      "y,m,c values and isnan(y,c,m) and are: 517 0.574731781564 57.3050395367 False False False\n",
      "Left and Right weight, m_left,c_left,m_right,c_right is -67 186 -0.717242988261 951.995766497 0.566794402501 62.7478075193\n",
      "y,m,c values and isnan(y,c,m) and are: 1280 -0.717242988261 951.995766497 False False False\n",
      "y,m,c values and isnan(y,c,m) and are: 642 -0.717242988261 951.995766497 False False False\n",
      "y,m,c values and isnan(y,c,m) and are: 1280 0.566794402501 62.7478075193 False False False\n",
      "y,m,c values and isnan(y,c,m) and are: 526 0.566794402501 62.7478075193 False False False\n"
     ]
    },
    {
     "name": "stderr",
     "output_type": "stream",
     "text": [
      "\u001b[A\u001b[A\u001b[A\u001b[A\n",
      "\n",
      "\n",
      "\n",
      " 48%|████▊     | 120/251 [00:09<00:15,  8.69it/s]\u001b[A\u001b[A\u001b[A\u001b[A"
     ]
    },
    {
     "name": "stdout",
     "output_type": "stream",
     "text": [
      "Left and Right weight, m_left,c_left,m_right,c_right is -43 265 -0.634006862371 946.488372093 0.57375677014 55.9847490251\n",
      "y,m,c values and isnan(y,c,m) and are: 1280 -0.634006862371 946.488372093 False False False\n",
      "y,m,c values and isnan(y,c,m) and are: 602 -0.634006862371 946.488372093 False False False\n",
      "y,m,c values and isnan(y,c,m) and are: 1280 0.57375677014 55.9847490251 False False False\n",
      "y,m,c values and isnan(y,c,m) and are: 537 0.57375677014 55.9847490251 False False False\n",
      "Left and Right weight, m_left,c_left,m_right,c_right is -253 536 -0.670283063297 864.819325765 0.59200390356 40.0470015885\n",
      "y,m,c values and isnan(y,c,m) and are: 1280 -0.670283063297 864.819325765 False False False\n",
      "y,m,c values and isnan(y,c,m) and are: 571 -0.670283063297 864.819325765 False False False\n",
      "y,m,c values and isnan(y,c,m) and are: 1280 0.59200390356 40.0470015885 False False False\n",
      "y,m,c values and isnan(y,c,m) and are: 553 0.59200390356 40.0470015885 False False False\n"
     ]
    },
    {
     "name": "stderr",
     "output_type": "stream",
     "text": [
      "\n",
      "\n",
      "\n",
      "\n",
      " 48%|████▊     | 121/251 [00:09<00:16,  7.93it/s]\u001b[A\u001b[A\u001b[A\u001b[A\n",
      "\n",
      "\n",
      "\n",
      " 49%|████▉     | 123/251 [00:09<00:14,  8.56it/s]\u001b[A\u001b[A\u001b[A\u001b[A"
     ]
    },
    {
     "name": "stdout",
     "output_type": "stream",
     "text": [
      "Left and Right weight, m_left,c_left,m_right,c_right is 5 591 -1.0 1.0 0.586760562358 43.5594049848\n",
      "y,m,c values and isnan(y,c,m) and are: 1280 -1.0 1.0 False False False\n",
      "y,m,c values and isnan(y,c,m) and are: 1280 -1.0 1.0 False False False\n",
      "y,m,c values and isnan(y,c,m) and are: 1280 0.586760562358 43.5594049848 False False False\n",
      "y,m,c values and isnan(y,c,m) and are: 567 0.586760562358 43.5594049848 False False False\n",
      "Left and Right weight, m_left,c_left,m_right,c_right is 5 634 -1.0 1.0 0.585424101434 43.9588172783\n",
      "y,m,c values and isnan(y,c,m) and are: 1280 -1.0 1.0 False False False\n",
      "y,m,c values and isnan(y,c,m) and are: 1280 -1.0 1.0 False False False\n",
      "y,m,c values and isnan(y,c,m) and are: 1280 0.585424101434 43.9588172783 False False False\n",
      "y,m,c values and isnan(y,c,m) and are: 591 0.585424101434 43.9588172783 False False False\n",
      "Left and Right weight, m_left,c_left,m_right,c_right is -103 223 -0.691604797259 904.721302113 0.594115178157 42.8183304248\n",
      "y,m,c values and isnan(y,c,m) and are: 1280 -0.691604797259 904.721302113 False False False\n",
      "y,m,c values and isnan(y,c,m) and are:"
     ]
    },
    {
     "name": "stderr",
     "output_type": "stream",
     "text": [
      "\n",
      "\n",
      "\n",
      "\n",
      " 50%|████▉     | 125/251 [00:09<00:13,  9.02it/s]\u001b[A\u001b[A\u001b[A\u001b[A\n",
      "\n",
      "\n",
      "\n",
      " 50%|█████     | 126/251 [00:10<00:14,  8.62it/s]"
     ]
    },
    {
     "name": "stdout",
     "output_type": "stream",
     "text": [
      " 637 -0.691604797259 904.721302113 False False False\n",
      "y,m,c values and isnan(y,c,m) and are: 1280 0.594115178157 42.8183304248 False False False\n",
      "y,m,c values and isnan(y,c,m) and are: 623 0.594115178157 42.8183304248 False False False\n",
      "Left and Right weight, m_left,c_left,m_right,c_right is -44 5 -0.71511627907 969.630549683 1.0 1.0\n",
      "y,m,c values and isnan(y,c,m) and are: 1280 -0.71511627907 969.630549683 False False False\n",
      "y,m,c values and isnan(y,c,m) and are: 652 -0.71511627907 969.630549683 False False False\n",
      "y,m,c values and isnan(y,c,m) and are: 1280 1.0 1.0 False False False\n",
      "y,m,c values and isnan(y,c,m) and are: 1280 1.0 1.0 False False False\n",
      "Left and Right weight, m_left,c_left,m_right,c_right is -145 5 -0.619517507593 860.334917171 1.0 1.0\n",
      "y,m,c values and isnan(y,c,m) and are: 1280 -0.619517507593 860.334917171 False False False\n",
      "y,m,c values and isnan(y,c,m) and are: 617 -0.619517507593 860.334917171 False False False\n",
      "y,m,c values and isnan(y,c,m) and are: 1280 1.0 1.0 False False False\n",
      "y,m,c values and isnan(y,c,m) and are: 1280 1.0 1.0 False False False\n"
     ]
    },
    {
     "name": "stderr",
     "output_type": "stream",
     "text": [
      "\u001b[A\u001b[A\u001b[A\u001b[A\n",
      "\n",
      "\n",
      "\n",
      " 51%|█████     | 127/251 [00:10<00:14,  8.78it/s]\u001b[A\u001b[A\u001b[A\u001b[A\n",
      "\n",
      "\n",
      "\n",
      " 51%|█████     | 128/251 [00:10<00:14,  8.44it/s]"
     ]
    },
    {
     "name": "stdout",
     "output_type": "stream",
     "text": [
      "Left and Right weight, m_left,c_left,m_right,c_right is -94 56 -0.608884870911 879.009187621 0.704017857143 -31.6946428571\n",
      "y,m,c values and isnan(y,c,m) and are: 1280 -0.608884870911 879.009187621 False False False\n",
      "y,m,c values and isnan(y,c,m) and are: 653 -0.608884870911 879.009187621 False False False\n",
      "y,m,c values and isnan(y,c,m) and are: 1280 0.704017857143 -31.6946428571 False False False\n",
      "y,m,c values and isnan(y,c,m) and are: 497 0.704017857143 -31.6946428571 False False False\n",
      "Left and Right weight, m_left,c_left,m_right,c_right is 5 21 -1.0 1.0 0.746031746032 -20.8412698413\n",
      "y,m,c values and isnan(y,c,m) and are: 1280 -1.0 1.0 False False False\n",
      "y,m,c values and isnan(y,c,m) and are: 1280 -1.0 1.0 False False False\n",
      "y,m,c values and isnan(y,c,m) and are: 1280 0.746031746032 -20.8412698413 False False False\n",
      "y,m,c values and isnan(y,c,m) and are: 505 0.746031746032 -20.8412698413 False False False\n"
     ]
    },
    {
     "name": "stderr",
     "output_type": "stream",
     "text": [
      "\u001b[A\u001b[A\u001b[A\u001b[A\n",
      "\n",
      "\n",
      "\n",
      " 51%|█████▏    | 129/251 [00:10<00:14,  8.38it/s]\u001b[A\u001b[A\u001b[A\u001b[A\n",
      "\n",
      "\n",
      "\n",
      " 52%|█████▏    | 130/251 [00:10<00:14,  8.30it/s]"
     ]
    },
    {
     "name": "stdout",
     "output_type": "stream",
     "text": [
      "Left and Right weight, m_left,c_left,m_right,c_right is -44 60 -0.628787878788 944.25 0.678757309942 -10.289619883\n",
      "y,m,c values and isnan(y,c,m) and are: 1280 -0.628787878788 944.25 False False False\n",
      "y,m,c values and isnan(y,c,m) and are: 526 -0.628787878788 944.25 False False False\n",
      "y,m,c values and isnan(y,c,m) and are: 1280 0.678757309942 -10.289619883 False False False\n",
      "y,m,c values and isnan(y,c,m) and are: 512 0.678757309942 -10.289619883 False False False\n",
      "Left and Right weight, m_left,c_left,m_right,c_right is -358 149 -0.657574253184 857.841165987 0.648003440971 -3.43157659382\n",
      "y,m,c values and isnan(y,c,m) and are: 1280 -0.657574253184 857.841165987 False False False\n",
      "y,m,c values and isnan(y,c,m) and are: 529 -0.657574253184 857.841165987 False False False\n",
      "y,m,c values and isnan(y,c,m) and are: 1280 0.648003440971 -3.43157659382 False False False\n",
      "y,m,c values and isnan(y,c,m) and are: 519 0.648003440971 -3.43157659382 False False False\n"
     ]
    },
    {
     "name": "stderr",
     "output_type": "stream",
     "text": [
      "\u001b[A\u001b[A\u001b[A\u001b[A\n",
      "\n",
      "\n",
      "\n",
      " 52%|█████▏    | 131/251 [00:10<00:14,  8.47it/s]\u001b[A\u001b[A\u001b[A\u001b[A"
     ]
    },
    {
     "name": "stdout",
     "output_type": "stream",
     "text": [
      "Left and Right weight, m_left,c_left,m_right,c_right is -326 117 -0.668483237741 865.21775416 0.679050436743 -46.251272659\n",
      "y,m,c values and isnan(y,c,m) and are: 1280 -0.668483237741 865.21775416 False False False\n",
      "y,m,c values and isnan(y,c,m) and are: 524 -0.668483237741 865.21775416 False False False\n",
      "y,m,c values and isnan(y,c,m) and are: 1280 0.679050436743 -46.251272659 False False False\n",
      "y,m,c values and isnan(y,c,m) and are: 459 0.679050436743 -46.251272659 False False False\n",
      "Left and Right weight, m_left,c_left,m_right,c_right is -113 285 -0.656716470283 887.172787435 0.641409065843 1.65836227301\n",
      "y,m,c values and isnan(y,c,m) and are: 1280 -0.656716470283 887.172787435 False False False\n",
      "y,m,c values and isnan(y,c,m) and are: 555 -0.656716470283 887.172787435 False False False\n",
      "y,m,c values and isnan(y,c,m) and are: 1280 0.641409065843 1.65836227301 False False False\n",
      "y,m,c values and isnan(y,c,m) and are: 543 0.641409065843 1.65836227301 False False False\n"
     ]
    },
    {
     "name": "stderr",
     "output_type": "stream",
     "text": [
      "\n",
      "\n",
      "\n",
      "\n",
      " 53%|█████▎    | 132/251 [00:10<00:16,  7.22it/s]\u001b[A\u001b[A\u001b[A\u001b[A\n",
      "\n",
      "\n",
      "\n",
      " 53%|█████▎    | 134/251 [00:11<00:15,  7.62it/s]"
     ]
    },
    {
     "name": "stdout",
     "output_type": "stream",
     "text": [
      "Left and Right weight, m_left,c_left,m_right,c_right is -336 574 -0.645928025298 852.088999436 0.628364994775 6.26588294984\n",
      "y,m,c values and isnan(y,c,m) and are: 1280 -0.645928025298 852.088999436 False False False\n",
      "y,m,c values and isnan(y,c,m) and are: 546 -0.645928025298 852.088999436 False False False\n",
      "y,m,c values and isnan(y,c,m) and are: 1280 0.628364994775 6.26588294984 False False False\n",
      "y,m,c values and isnan(y,c,m) and are: 559 0.628364994775 6.26588294984 False False False\n",
      "Left and Right weight, m_left,c_left,m_right,c_right is -273 485 -0.655307155974 855.396097948 0.630835244598 5.48439091271\n",
      "y,m,c values and isnan(y,c,m) and are: 1280 -0.655307155974 855.396097948 False False False\n",
      "y,m,c values and isnan(y,c,m) and are: 589 -0.655307155974 855.396097948 False False False\n",
      "y,m,c values and isnan(y,c,m) and are: 1280 0.630835244598 5.48439091271 False False False\n",
      "y,m,c values and isnan(y,c,m) and are: 579 0.630835244598 5.48439091271 False False False\n"
     ]
    },
    {
     "name": "stderr",
     "output_type": "stream",
     "text": [
      "\u001b[A\u001b[A\u001b[A\u001b[A\n",
      "\n",
      "\n",
      "\n",
      " 54%|█████▍    | 135/251 [00:11<00:15,  7.36it/s]\u001b[A\u001b[A\u001b[A\u001b[A\n",
      "\n",
      "\n",
      "\n",
      " 54%|█████▍    | 136/251 [00:11<00:15,  7.49it/s]"
     ]
    },
    {
     "name": "stdout",
     "output_type": "stream",
     "text": [
      "Left and Right weight, m_left,c_left,m_right,c_right is -215 206 -0.645070865627 854.115279742 0.626939364271 10.7306114295\n",
      "y,m,c values and isnan(y,c,m) and are: 1280 -0.645070865627 854.115279742 False False False\n",
      "y,m,c values and isnan(y,c,m) and are: 594 -0.645070865627 854.115279742 False False False\n",
      "y,m,c values and isnan(y,c,m) and are: 1280 0.626939364271 10.7306114295 False False False\n",
      "y,m,c values and isnan(y,c,m) and are: 602 0.626939364271 10.7306114295 False False False\n",
      "Left and Right weight, m_left,c_left,m_right,c_right is -414 149 -0.6404029719 842.791553383 0.635856910608 10.426004776\n",
      "y,m,c values and isnan(y,c,m) and are: 1280 -0.6404029719 842.791553383 False False False\n",
      "y,m,c values and isnan(y,c,m) and are: 554 -0.6404029719 842.791553383 False False False\n",
      "y,m,c values and isnan(y,c,m) and are: 1280 0.635856910608 10.426004776 False False False\n",
      "y,m,c values and isnan(y,c,m) and are: 648 0.635856910608 10.426004776 False False False\n"
     ]
    },
    {
     "name": "stderr",
     "output_type": "stream",
     "text": [
      "\u001b[A\u001b[A\u001b[A\u001b[A\n",
      "\n",
      "\n",
      "\n",
      " 55%|█████▍    | 137/251 [00:11<00:14,  7.89it/s]\u001b[A\u001b[A\u001b[A\u001b[A\n",
      "\n",
      "\n",
      "\n",
      " 55%|█████▍    | 138/251 [00:11<00:13,  8.14it/s]"
     ]
    },
    {
     "name": "stdout",
     "output_type": "stream",
     "text": [
      "Left and Right weight, m_left,c_left,m_right,c_right is -156 5 -0.646320461482 867.364017156 1.0 1.0\n",
      "y,m,c values and isnan(y,c,m) and are: 1280 -0.646320461482 867.364017156 False False False\n",
      "y,m,c values and isnan(y,c,m) and are: 612 -0.646320461482 867.364017156 False False False\n",
      "y,m,c values and isnan(y,c,m) and are: 1280 1.0 1.0 False False False\n",
      "y,m,c values and isnan(y,c,m) and are: 1280 1.0 1.0 False False False\n",
      "Left and Right weight, m_left,c_left,m_right,c_right is -176 5 -0.560591863159 822.587237631 1.0 1.0\n",
      "y,m,c values and isnan(y,c,m) and are: 1280 -0.560591863159 822.587237631 False False False\n",
      "y,m,c values and isnan(y,c,m) and are: 452 -0.560591863159 822.587237631 False False False\n",
      "y,m,c values and isnan(y,c,m) and are: 1280 1.0 1.0 False False False\n",
      "y,m,c values and isnan(y,c,m) and are: 1280 1.0 1.0 False False False\n"
     ]
    },
    {
     "name": "stderr",
     "output_type": "stream",
     "text": [
      "\u001b[A\u001b[A\u001b[A\u001b[A\n",
      "\n",
      "\n",
      "\n",
      " 55%|█████▌    | 139/251 [00:11<00:13,  8.26it/s]\u001b[A\u001b[A\u001b[A\u001b[A\n",
      "\n",
      "\n",
      "\n",
      " 56%|█████▌    | 140/251 [00:11<00:13,  8.24it/s]"
     ]
    },
    {
     "name": "stdout",
     "output_type": "stream",
     "text": [
      "Left and Right weight, m_left,c_left,m_right,c_right is -140 58 -0.639413078373 871.708747994 0.673645320197 0.804187192118\n",
      "y,m,c values and isnan(y,c,m) and are: 1280 -0.639413078373 871.708747994 False False False\n",
      "y,m,c values and isnan(y,c,m) and are: 618 -0.639413078373 871.708747994 False False False\n",
      "y,m,c values and isnan(y,c,m) and are: 1280 0.673645320197 0.804187192118 False False False\n",
      "y,m,c values and isnan(y,c,m) and are: 508 0.673645320197 0.804187192118 False False False\n",
      "Left and Right weight, m_left,c_left,m_right,c_right is -293 122 -0.59458826374 822.759759469 0.620990203025 25.1279714642\n",
      "y,m,c values and isnan(y,c,m) and are: 1280 -0.59458826374 822.759759469 False False False\n",
      "y,m,c values and isnan(y,c,m) and are: 470 -0.59458826374 822.759759469 False False False\n",
      "y,m,c values and isnan(y,c,m) and are: 1280 0.620990203025 25.1279714642 False False False\n",
      "y,m,c values and isnan(y,c,m) and are: 507 0.620990203025 25.1279714642 False False False\n"
     ]
    },
    {
     "name": "stderr",
     "output_type": "stream",
     "text": [
      "\u001b[A\u001b[A\u001b[A\u001b[A\n",
      "\n",
      "\n",
      "\n",
      " 56%|█████▌    | 141/251 [00:12<00:14,  7.71it/s]\u001b[A\u001b[A\u001b[A\u001b[A\n",
      "\n",
      "\n",
      "\n",
      " 57%|█████▋    | 142/251 [00:12<00:13,  8.22it/s]"
     ]
    },
    {
     "name": "stdout",
     "output_type": "stream",
     "text": [
      "Left and Right weight, m_left,c_left,m_right,c_right is -361 309 -0.585898805471 818.381120371 0.627853876406 15.5176827466\n",
      "y,m,c values and isnan(y,c,m) and are: 1280 -0.585898805471 818.381120371 False False False\n",
      "y,m,c values and isnan(y,c,m) and are: 458 -0.585898805471 818.381120371 False False False\n",
      "y,m,c values and isnan(y,c,m) and are: 1280 0.627853876406 15.5176827466 False False False\n",
      "y,m,c values and isnan(y,c,m) and are: 520 0.627853876406 15.5176827466 False False False\n",
      "Left and Right weight, m_left,c_left,m_right,c_right is -137 206 -0.525188738269 811.205388947 0.632338100706 13.6916692765\n",
      "y,m,c values and isnan(y,c,m) and are: 1280 -0.525188738269 811.205388947 False False False\n",
      "y,m,c values and isnan(y,c,m) and are: 454 -0.525188738269 811.205388947 False False False\n",
      "y,m,c values and isnan(y,c,m) and are: 1280 0.632338100706 13.6916692765 False False False\n",
      "y,m,c values and isnan(y,c,m) and are: 529 0.632338100706 13.6916692765 False False False\n"
     ]
    },
    {
     "name": "stderr",
     "output_type": "stream",
     "text": [
      "\u001b[A\u001b[A\u001b[A\u001b[A\n",
      "\n",
      "\n",
      "\n",
      " 57%|█████▋    | 143/251 [00:12<00:12,  8.46it/s]\u001b[A\u001b[A\u001b[A\u001b[A\n",
      "\n",
      "\n",
      "\n",
      " 57%|█████▋    | 144/251 [00:12<00:13,  8.07it/s]"
     ]
    },
    {
     "name": "stdout",
     "output_type": "stream",
     "text": [
      "Left and Right weight, m_left,c_left,m_right,c_right is -282 294 -1.8209708798 1525.57121092 0.635238095238 5.8643537415\n",
      "y,m,c values and isnan(y,c,m) and are: 1280 -1.8209708798 1525.57121092 False False False\n",
      "y,m,c values and isnan(y,c,m) and are: 469 -1.8209708798 1525.57121092 False False False\n",
      "y,m,c values and isnan(y,c,m) and are: 1280 0.635238095238 5.8643537415 False False False\n",
      "y,m,c values and isnan(y,c,m) and are: 543 0.635238095238 5.8643537415 False False False\n",
      "Left and Right weight, m_left,c_left,m_right,c_right is -356 219 -1.89647625205 1534.08753766 0.613026295072 29.5550055109\n",
      "y,m,c values and isnan(y,c,m) and are: 1280 -1.89647625205 1534.08753766 False False False\n",
      "y,m,c values and isnan(y,c,m) and are: 458 -1.89647625205 1534.08753766 False False False\n",
      "y,m,c values and isnan(y,c,m) and are: 1280 0.613026295072 29.5550055109 False False False\n",
      "y,m,c values and isnan(y,c,m) and are: 557 0.613026295072 29.5550055109 False False False\n"
     ]
    },
    {
     "name": "stderr",
     "output_type": "stream",
     "text": [
      "\u001b[A\u001b[A\u001b[A\u001b[A\n",
      "\n",
      "\n",
      "\n",
      " 58%|█████▊    | 145/251 [00:12<00:14,  7.50it/s]\u001b[A\u001b[A\u001b[A\u001b[A\n",
      "\n",
      "\n",
      "\n",
      " 58%|█████▊    | 146/251 [00:12<00:13,  7.62it/s]"
     ]
    },
    {
     "name": "stdout",
     "output_type": "stream",
     "text": [
      "Left and Right weight, m_left,c_left,m_right,c_right is -235 500 -0.557345078647 814.185881902 0.613841651421 24.6881209418\n",
      "y,m,c values and isnan(y,c,m) and are: 1280 -0.557345078647 814.185881902 False False False\n",
      "y,m,c values and isnan(y,c,m) and are: 452 -0.557345078647 814.185881902 False False False\n",
      "y,m,c values and isnan(y,c,m) and are: 1280 0.613841651421 24.6881209418 False False False\n",
      "y,m,c values and isnan(y,c,m) and are: 567 0.613841651421 24.6881209418 False False False\n",
      "Left and Right weight, m_left,c_left,m_right,c_right is -573 258 -0.603021342387 824.200753871 0.621871081702 25.5603497982\n",
      "y,m,c values and isnan(y,c,m) and are: 1280 -0.603021342387 824.200753871 False False False\n",
      "y,m,c values and isnan(y,c,m) and are: 464 -0.603021342387 824.200753871 False False False\n",
      "y,m,c values and isnan(y,c,m) and are: 1280 0.621871081702 25.5603497982 False False False\n",
      "y,m,c values and isnan(y,c,m) and are: 600 0.621871081702 25.5603497982 False False False\n"
     ]
    },
    {
     "name": "stderr",
     "output_type": "stream",
     "text": [
      "\u001b[A\u001b[A\u001b[A\u001b[A\n",
      "\n",
      "\n",
      "\n",
      " 59%|█████▊    | 147/251 [00:12<00:14,  7.34it/s]\u001b[A\u001b[A\u001b[A\u001b[A\n",
      "\n",
      "\n",
      "\n",
      " 59%|█████▉    | 148/251 [00:12<00:14,  7.23it/s]"
     ]
    },
    {
     "name": "stdout",
     "output_type": "stream",
     "text": [
      "Left and Right weight, m_left,c_left,m_right,c_right is -340 55 -0.607371117869 827.256209049 0.654450634112 14.32459405\n",
      "y,m,c values and isnan(y,c,m) and are: 1280 -0.607371117869 827.256209049 False False False\n",
      "y,m,c values and isnan(y,c,m) and are: 465 -0.607371117869 827.256209049 False False False\n",
      "y,m,c values and isnan(y,c,m) and are: 1280 0.654450634112 14.32459405 False False False\n",
      "y,m,c values and isnan(y,c,m) and are: 642 0.654450634112 14.32459405 False False False\n",
      "Left and Right weight, m_left,c_left,m_right,c_right is -701 5 -0.585388276786 808.976435465 1.0 1.0\n",
      "y,m,c values and isnan(y,c,m) and are: 1280 -0.585388276786 808.976435465 False False False\n",
      "y,m,c values and isnan(y,c,m) and are: 476 -0.585388276786 808.976435465 False False False\n",
      "y,m,c values and isnan(y,c,m) and are: 1280 1.0 1.0 False False False\n",
      "y,m,c values and isnan(y,c,m) and are: 1280 1.0 1.0 False False False\n"
     ]
    },
    {
     "name": "stderr",
     "output_type": "stream",
     "text": [
      "\u001b[A\u001b[A\u001b[A\u001b[A\n",
      "\n",
      "\n",
      "\n",
      " 59%|█████▉    | 149/251 [00:13<00:13,  7.41it/s]\u001b[A\u001b[A\u001b[A\u001b[A\n",
      "\n",
      "\n",
      "\n",
      " 60%|█████▉    | 150/251 [00:13<00:13,  7.47it/s]"
     ]
    },
    {
     "name": "stdout",
     "output_type": "stream",
     "text": [
      "Left and Right weight, m_left,c_left,m_right,c_right is -631 57 -0.620038265443 831.130656725 0.660546715626 14.2174622603\n",
      "y,m,c values and isnan(y,c,m) and are: 1280 -0.620038265443 831.130656725 False False False\n",
      "y,m,c values and isnan(y,c,m) and are: 471 -0.620038265443 831.130656725 False False False\n",
      "y,m,c values and isnan(y,c,m) and are: 1280 0.660546715626 14.2174622603 False False False\n",
      "y,m,c values and isnan(y,c,m) and are: 504 0.660546715626 14.2174622603 False False False\n",
      "Left and Right weight, m_left,c_left,m_right,c_right is -680 87 -0.634248588362 839.652136488 0.590781140042 59.6319493315\n",
      "y,m,c values and isnan(y,c,m) and are: 1280 -0.634248588362 839.652136488 False False False\n",
      "y,m,c values and isnan(y,c,m) and are: 478 -0.634248588362 839.652136488 False False False\n",
      "y,m,c values and isnan(y,c,m) and are: 1280 0.590781140042 59.6319493315 False False False\n",
      "y,m,c values and isnan(y,c,m) and are: 509 0.590781140042 59.6319493315 False False False\n"
     ]
    },
    {
     "name": "stderr",
     "output_type": "stream",
     "text": [
      "\u001b[A\u001b[A\u001b[A\u001b[A\n",
      "\n",
      "\n",
      "\n",
      " 60%|██████    | 151/251 [00:13<00:12,  8.08it/s]\u001b[A\u001b[A\u001b[A\u001b[A\n",
      "\n",
      "\n",
      "\n",
      " 61%|██████    | 152/251 [00:13<00:12,  7.95it/s]"
     ]
    },
    {
     "name": "stdout",
     "output_type": "stream",
     "text": [
      "Left and Right weight, m_left,c_left,m_right,c_right is -709 82 -0.610818603803 831.543157714 0.667367535744 0.904751892347\n",
      "y,m,c values and isnan(y,c,m) and are: 1280 -0.610818603803 831.543157714 False False False\n",
      "y,m,c values and isnan(y,c,m) and are: 469 -0.610818603803 831.543157714 False False False\n",
      "y,m,c values and isnan(y,c,m) and are: 1280 0.667367535744 0.904751892347 False False False\n",
      "y,m,c values and isnan(y,c,m) and are: 518 0.667367535744 0.904751892347 False False False\n",
      "Left and Right weight, m_left,c_left,m_right,c_right is -991 253 -0.606967275943 825.955546596 0.609440921973 35.9143467578\n",
      "y,m,c values and isnan(y,c,m) and are: 1280 -0.606967275943 825.955546596 False False False\n",
      "y,m,c values and isnan(y,c,m) and are: 471 -0.606967275943 825.955546596 False False False\n",
      "y,m,c values and isnan(y,c,m) and are: 1280 0.609440921973 35.9143467578 False False False\n",
      "y,m,c values and isnan(y,c,m) and are: 526 0.609440921973 35.9143467578 False False False\n"
     ]
    },
    {
     "name": "stderr",
     "output_type": "stream",
     "text": [
      "\u001b[A\u001b[A\u001b[A\u001b[A\n",
      "\n",
      "\n",
      "\n",
      " 61%|██████    | 153/251 [00:13<00:11,  8.43it/s]\u001b[A\u001b[A\u001b[A\u001b[A\n",
      "\n",
      "\n",
      "\n",
      " 61%|██████▏   | 154/251 [00:13<00:11,  8.39it/s]\u001b[A\u001b[A\u001b[A\u001b[A\n",
      "\n",
      "\n",
      "\n",
      " 62%|██████▏   | 155/251 [00:13<00:11,  8.31it/s]"
     ]
    },
    {
     "name": "stdout",
     "output_type": "stream",
     "text": [
      "Left and Right weight, m_left,c_left,m_right,c_right is -906 128 -0.620723778602 832.536073805 0.613616071429 41.1912946429\n",
      "y,m,c values and isnan(y,c,m) and are: 1280 -0.620723778602 832.536073805 False False False\n",
      "y,m,c values and isnan(y,c,m) and are: 473 -0.620723778602 832.536073805 False False False\n",
      "y,m,c values and isnan(y,c,m) and are: 1280 0.613616071429 41.1912946429 False False False\n",
      "y,m,c values and isnan(y,c,m) and are: 554 0.613616071429 41.1912946429 False False False\n",
      "Left and Right weight, m_left,c_left,m_right,c_right is -473 484 -0.624822732763 841.46106717 0.604617220199 39.2374630862\n",
      "y,m,c values and isnan(y,c,m) and are: 1280 -0.624822732763 841.46106717 False False False\n",
      "y,m,c values and isnan(y,c,m) and are: 529 -0.624822732763 841.46106717 False False False\n",
      "y,m,c values and isnan(y,c,m) and are: 1280 0.604617220199 39.2374630862 False False False\n",
      "y,m,c values and isnan(y,c,m) and are: 442 0.604617220199 39.2374630862 False False False\n",
      "Left and Right weight, m_left,c_left,m_right,c_right is -801 553 -0.628724368551 835.514515038 0.615080637781 26.3984160684\n",
      "y,m,c values and isnan(y,c,m) and are: 1280 -0.628724368551 835.514515038 False False False\n",
      "y,m,c values and isnan(y,c,m) and are: 476 -0.628724368551 835.514515038 False False False\n",
      "y,m,c values and isnan(y,c,m) and are: 1280 0.615080637781 26.3984160684 False False False\n",
      "y,m,c values and isnan(y,c,m) and are: 455 0.615080637781 26.3984160684 False False False\n"
     ]
    },
    {
     "name": "stderr",
     "output_type": "stream",
     "text": [
      "\u001b[A\u001b[A\u001b[A\u001b[A\n",
      "\n",
      "\n",
      "\n",
      " 63%|██████▎   | 157/251 [00:13<00:10,  9.29it/s]\u001b[A\u001b[A\u001b[A\u001b[A"
     ]
    },
    {
     "name": "stdout",
     "output_type": "stream",
     "text": [
      "Left and Right weight, m_left,c_left,m_right,c_right is -1126 118 -0.633357356085 837.027922926 0.627860809543 31.6292827539\n",
      "y,m,c values and isnan(y,c,m) and are: 1280 -0.633357356085 837.027922926 False False False\n",
      "y,m,c values and isnan(y,c,m) and are: 495 -0.633357356085 837.027922926 False False False\n",
      "y,m,c values and isnan(y,c,m) and are: 1280 0.627860809543 31.6292827539 False False False\n",
      "y,m,c values and isnan(y,c,m) and are: 592 0.627860809543 31.6292827539 False False False\n",
      "Left and Right weight, m_left,c_left,m_right,c_right is -803 297 -0.63726600585 840.805934979 0.63642723024 13.8615639891\n",
      "y,m,c values and isnan(y,c,m) and are: 1280 -0.63726600585 840.805934979 False False False\n",
      "y,m,c values and isnan(y,c,m) and are: 484 -0.63726600585 840.805934979 False False False\n",
      "y,m,c values and isnan(y,c,m) and are: 1280 0.63642723024 13.8615639891 False False False\n",
      "y,m,c values and isnan(y,c,m) and are: 619 0.63642723024 13.8615639891 False False False\n",
      "Left and Right weight, m_left,c_left,m_right,c_right is -844 5 -0.629138091067 832.195642454 1.0 1.0\n",
      "y,m,c values and isnan(y,c,m) and are: 1280 -0.629138091067 832.195642454 False False False\n",
      "y,m,c values and isnan(y,c,m) and are: 483 -0.629138091067"
     ]
    },
    {
     "name": "stderr",
     "output_type": "stream",
     "text": [
      "\n",
      "\n",
      "\n",
      "\n",
      " 63%|██████▎   | 158/251 [00:14<00:10,  9.10it/s]\u001b[A\u001b[A\u001b[A\u001b[A\n",
      "\n",
      "\n",
      "\n",
      " 64%|██████▎   | 160/251 [00:14<00:09, 10.08it/s]\u001b[A\u001b[A\u001b[A\u001b[A"
     ]
    },
    {
     "name": "stdout",
     "output_type": "stream",
     "text": [
      " 832.195642454 False False False\n",
      "y,m,c values and isnan(y,c,m) and are: 1280 1.0 1.0 False False False\n",
      "y,m,c values and isnan(y,c,m) and are: 1280 1.0 1.0 False False False\n",
      "Left and Right weight, m_left,c_left,m_right,c_right is -1086 5 -0.633046773037 829.814411007 1.0 1.0\n",
      "y,m,c values and isnan(y,c,m) and are: 1280 -0.633046773037 829.814411007 False False False\n",
      "y,m,c values and isnan(y,c,m) and are: 496 -0.633046773037 829.814411007 False False False\n",
      "y,m,c values and isnan(y,c,m) and are: 1280 1.0 1.0 False False False\n",
      "y,m,c values and isnan(y,c,m) and are: 1280 1.0 1.0 False False False\n",
      "Left and Right weight, m_left,c_left,m_right,c_right is -661 5 -0.618318134985 821.323846886 1.0 1.0\n",
      "y,m,c values and isnan(y,c,m) and are: 1280 -0.618318134985 821.323846886 False False False\n",
      "y,m,c values and isnan(y,c,m) and are: 457 -0.618318134985 821.323846886 False False False\n",
      "y,m,c values and isnan(y,c,m) and are: 1280 1.0 1.0 False False False\n",
      "y,m,c values and isnan(y,c,m) and are: 1280 1.0 1.0 False False False\n",
      "Left and Right weight, m_left,c_left,m_right,c_right is -771 109 -0.624852744799 826.881315475 0.707586606725 -47.770596432\n",
      "y,m,c values and isnan(y,c,m) and are: 1280 -0.624852744799 826.881315475 False False False\n",
      "y,m,c values and isnan(y,c,m) and are: 492 -0.624852744799 826.881315475 False False False\n",
      "y,m,c values and isnan(y,c,m) and are: 1280 0.707586606725 -47.770596432 False False False\n",
      "y,m,c values and isnan(y,c,m) and are: 499 0.707586606725 -47.770596432 False False False\n"
     ]
    },
    {
     "name": "stderr",
     "output_type": "stream",
     "text": [
      "\n",
      "\n",
      "\n",
      "\n",
      " 65%|██████▍   | 162/251 [00:14<00:08, 10.19it/s]\u001b[A\u001b[A\u001b[A\u001b[A\n",
      "\n",
      "\n",
      "\n",
      " 65%|██████▌   | 164/251 [00:14<00:07, 10.95it/s]"
     ]
    },
    {
     "name": "stdout",
     "output_type": "stream",
     "text": [
      "Left and Right weight, m_left,c_left,m_right,c_right is -878 63 -0.596548991652 814.583929914 0.694869400752 -25.6870645694\n",
      "y,m,c values and isnan(y,c,m) and are: 1280 -0.596548991652 814.583929914 False False False\n",
      "y,m,c values and isnan(y,c,m) and are: 453 -0.596548991652 814.583929914 False False False\n",
      "y,m,c values and isnan(y,c,m) and are: 1280 0.694869400752 -25.6870645694 False False False\n",
      "y,m,c values and isnan(y,c,m) and are: 506 0.694869400752 -25.6870645694 False False False\n",
      "Left and Right weight, m_left,c_left,m_right,c_right is -758 299 -0.575974864852 801.976337383 0.663958614512 -20.969187426\n",
      "y,m,c values and isnan(y,c,m) and are: 1280 -0.575974864852 801.976337383 False False False\n",
      "y,m,c values and isnan(y,c,m) and are: 447 -0.575974864852 801.976337383 False False False\n",
      "y,m,c values and isnan(y,c,m) and are: 1280 0.663958614512 -20.969187426 False False False\n",
      "y,m,c values and isnan(y,c,m) and are: 514 0.663958614512 -20.969187426 False False False\n",
      "Left and Right weight, m_left,c_left,m_right,c_right is -650 301 -0.553609957863 797.780267072 0.671156382797 -22.5957102185\n",
      "y,m,c values and isnan(y,c,m) and are: 1280 -0.553609957863 797.780267072 False False False\n",
      "y,m,c values and isnan(y,c,m) and are: 455 -0.553609957863 797.780267072 False False False\n",
      "y,m,c values and isnan(y,c,m) and are: 1280 0.671156382797 -22.5957102185 False False False\n",
      "y,m,c values and isnan(y,c,m) and are: 527 0.671156382797 -22.5957102185 False False False\n"
     ]
    },
    {
     "name": "stderr",
     "output_type": "stream",
     "text": [
      "\u001b[A\u001b[A\u001b[A\u001b[A\n",
      "\n",
      "\n",
      "\n",
      " 66%|██████▌   | 166/251 [00:14<00:07, 10.63it/s]"
     ]
    },
    {
     "name": "stdout",
     "output_type": "stream",
     "text": [
      "Left and Right weight, m_left,c_left,m_right,c_right is -672 330 -0.580022884489 815.576320214 0.650155212691 -5.2647346412\n",
      "y,m,c values and isnan(y,c,m) and are: 1280 -0.580022884489 815.576320214 False False False\n",
      "y,m,c values and isnan(y,c,m) and are: 465 -0.580022884489 815.576320214 False False False\n",
      "y,m,c values and isnan(y,c,m) and are: 1280 0.650155212691 -5.2647346412 False False False\n",
      "y,m,c values and isnan(y,c,m) and are: 456 0.650155212691 -5.2647346412 False False False\n",
      "Left and Right weight, m_left,c_left,m_right,c_right is -663 482 -0.574246132181 815.786702742 0.642403344416 -0.233568446079\n",
      "y,m,c values and isnan(y,c,m) and are: 1280 -0.574246132181 815.786702742 False False False\n",
      "y,m,c values and isnan(y,c,m) and are: 463 -0.574246132181 815.786702742 False False False\n",
      "y,m,c values and isnan(y,c,m) and are: 1280 0.642403344416 -0.233568446079 False False False\n",
      "y,m,c values and isnan(y,c,m) and are: 457 0.642403344416 -0.233568446079 False False False\n",
      "Left and Right weight, m_left,c_left,m_right,c_right is -1040 680 -0.593820230868 824.07990227 0.638656256894 3.45899564851\n",
      "y,m,c values and isnan(y,c,m) and are: 1280 -0.593820230868 824.07990227 False False False\n",
      "y,m,c values and isnan(y,c,m) and are: 472 -0.593820230868 824.07990227 False False False\n",
      "y,m,c values and isnan(y,c,m) and are: 1280 0.638656256894 3.45899564851 False False False\n",
      "y,m,c values and isnan(y,c,m) and are: 576 0.638656256894 3.45899564851 False False False\n"
     ]
    },
    {
     "name": "stderr",
     "output_type": "stream",
     "text": [
      "\u001b[A\u001b[A\u001b[A\u001b[A\n",
      "\n",
      "\n",
      "\n",
      " 67%|██████▋   | 168/251 [00:14<00:07, 10.93it/s]\u001b[A\u001b[A\u001b[A\u001b[A\n",
      "\n",
      "\n",
      "\n",
      " 68%|██████▊   | 170/251 [00:15<00:07, 10.89it/s]"
     ]
    },
    {
     "name": "stdout",
     "output_type": "stream",
     "text": [
      "Left and Right weight, m_left,c_left,m_right,c_right is -1008 527 -0.591903826896 825.313648771 0.643343186461 -2.86936724029\n",
      "y,m,c values and isnan(y,c,m) and are: 1280 -0.591903826896 825.313648771 False False False\n",
      "y,m,c values and isnan(y,c,m) and are: 464 -0.591903826896 825.313648771 False False False\n",
      "y,m,c values and isnan(y,c,m) and are: 1280 0.643343186461 -2.86936724029 False False False\n",
      "y,m,c values and isnan(y,c,m) and are: 599 0.643343186461 -2.86936724029 False False False\n",
      "Left and Right weight, m_left,c_left,m_right,c_right is -593 194 -0.573006942227 821.142688081 0.626321383717 18.9504584663\n",
      "y,m,c values and isnan(y,c,m) and are: 1280 -0.573006942227 821.142688081 False False False\n",
      "y,m,c values and isnan(y,c,m) and are: 451 -0.573006942227 821.142688081 False False False\n",
      "y,m,c values and isnan(y,c,m) and are: 1280 0.626321383717 18.9504584663 False False False\n",
      "y,m,c values and isnan(y,c,m) and are: 634 0.626321383717 18.9504584663 False False False\n",
      "Left and Right weight, m_left,c_left,m_right,c_right is -1451 5 -0.607385579374 837.844101302 1.0 1.0\n",
      "y,m,c values and isnan(y,c,m) and are: 1280 -0.607385579374 837.844101302 False False False\n",
      "y,m,c values and isnan(y,c,m) and are: 467 -0.607385579374 837.844101302 False False False\n",
      "y,m,c values and isnan(y,c,m) and are: 1280 1.0 1.0 False False False\n",
      "y,m,c values and isnan(y,c,m) and are: 1280 1.0 1.0 False False False\n"
     ]
    },
    {
     "name": "stderr",
     "output_type": "stream",
     "text": [
      "\u001b[A\u001b[A\u001b[A\u001b[A\n",
      "\n",
      "\n",
      "\n",
      " 69%|██████▊   | 172/251 [00:15<00:07, 10.59it/s]\u001b[A\u001b[A\u001b[A\u001b[A"
     ]
    },
    {
     "name": "stdout",
     "output_type": "stream",
     "text": [
      "Left and Right weight, m_left,c_left,m_right,c_right is -1123 5 -0.605575001451 840.3080988 1.0 1.0\n",
      "y,m,c values and isnan(y,c,m) and are: 1280 -0.605575001451 840.3080988 False False False\n",
      "y,m,c values and isnan(y,c,m) and are: 442 -0.605575001451 840.3080988 False False False\n",
      "y,m,c values and isnan(y,c,m) and are: 1280 1.0 1.0 False False False\n",
      "y,m,c values and isnan(y,c,m) and are: 1280 1.0 1.0 False False False\n",
      "Left and Right weight, m_left,c_left,m_right,c_right is -975 106 -0.640520424888 857.998844945 0.644714351456 -19.4803431727\n",
      "y,m,c values and isnan(y,c,m) and are: 1280 -0.640520424888 857.998844945 False False False\n",
      "y,m,c values and isnan(y,c,m) and are: 470 -0.640520424888 857.998844945 False False False\n",
      "y,m,c values and isnan(y,c,m) and are: 1280 0.644714351456 -19.4803431727 False False False\n",
      "y,m,c values and isnan(y,c,m) and are: 447 0.644714351456 -19.4803431727 False False False\n",
      "Left and Right weight, m_left,c_left,m_right,c_right is -1103 92 "
     ]
    },
    {
     "name": "stderr",
     "output_type": "stream",
     "text": [
      "\n",
      "\n",
      "\n",
      "\n",
      "\r",
      " 69%|██████▉   | 174/251 [00:15<00:07,  9.98it/s]"
     ]
    },
    {
     "name": "stdout",
     "output_type": "stream",
     "text": [
      "-0.648136513472 856.389739468 0.627994676131 25.4833629104\n",
      "y,m,c values and isnan(y,c,m) and are: 1280 -0.648136513472 856.389739468 False False False\n",
      "y,m,c values and isnan(y,c,m) and are: 451 -0.648136513472 856.389739468 False False False\n",
      "y,m,c values and isnan(y,c,m) and are: 1280 0.627994676131 25.4833629104 False False False\n",
      "y,m,c values and isnan(y,c,m) and are: 510 0.627994676131 25.4833629104 False False False\n",
      "Left and Right weight, m_left,c_left,m_right,c_right is -1319 106 -0.647759354007 854.91596201 0.650413249185 4.20207560073\n",
      "y,m,c values and isnan(y,c,m) and are: 1280 -0.647759354007 854.91596201 False False False\n",
      "y,m,c values and isnan(y,c,m) and are: 460 -0.647759354007 854.91596201 False False False\n",
      "y,m,c values and isnan(y,c,m) and are: 1280 0.650413249185 4.20207560073 False False False\n",
      "y,m,c values and isnan(y,c,m) and are: 517 0.650413249185 4.20207560073 False False False\n",
      "Left and Right weight, m_left,c_left,m_right,c_right is -737 135 -0.685826568042 878.139516355 0.65509943441 -4.62103630724\n",
      "y,m,c values and isnan(y,c,m) and are: 1280 -0.685826568042 878.139516355 False False False\n",
      "y,m,c values and isnan(y,c,m) and are: 478 -0.685826568042 878.139516355 False False False\n",
      "y,m,c values and isnan(y,c,m) and are: 1280 0.65509943441 -4.62103630724 False False False\n",
      "y,m,c values and isnan(y,c,m) and are: 523 0.65509943441 -4.62103630724 False False False\n"
     ]
    },
    {
     "name": "stderr",
     "output_type": "stream",
     "text": [
      "\u001b[A\u001b[A\u001b[A\u001b[A\n",
      "\n",
      "\n",
      "\n",
      " 70%|███████   | 176/251 [00:15<00:07, 10.22it/s]\u001b[A\u001b[A\u001b[A\u001b[A"
     ]
    },
    {
     "name": "stdout",
     "output_type": "stream",
     "text": [
      "Left and Right weight, m_left,c_left,m_right,c_right is -1183 343 -0.658871678632 858.122684651 0.627300646497 9.90850124681\n",
      "y,m,c values and isnan(y,c,m) and are: 1280 -0.658871678632 858.122684651 False False False\n",
      "y,m,c values and isnan(y,c,m) and are: 450 -0.658871678632 858.122684651 False False False\n",
      "y,m,c values and isnan(y,c,m) and are: 1280 0.627300646497 9.90850124681 False False False\n",
      "y,m,c values and isnan(y,c,m) and are: 531 0.627300646497 9.90850124681 False False False\n",
      "Left and Right weight, m_left,c_left,m_right,c_right is -787 466 -0.658712156443 861.832642635 0.636858535169 -0.776044115575\n",
      "y,m,c values and isnan(y,c,m) and are: 1280 -0.658712156443 861.832642635 False False False\n",
      "y,m,c values and isnan(y,c,m) and are: 441 -0.658712156443 861.832642635 False False False\n",
      "y,m,c values and isnan(y,c,m) and are: 1280 0.636858535169 -0.776044115575 False False False\n",
      "y,m,c values and isnan(y,c,m) and are: 441 0.636858535169 -0.776044115575 False False False\n",
      "Left and Right weight, m_left,c_left,m_right,c_right is -862 498 -0.691478782491 878.093658224 0.614842400719 17.1290036314\n",
      "y,m,c values and isnan(y,c,m) and are: 1280 -0.691478782491 878.093658224 False False False\n",
      "y,m,c values and isnan(y,c,m) and are: 457 -0.691478782491 878.093658224 False False False\n",
      "y,m,c values and isnan(y,c,m) and are:"
     ]
    },
    {
     "name": "stderr",
     "output_type": "stream",
     "text": [
      "\n",
      "\n",
      "\n",
      "\n",
      " 71%|███████   | 178/251 [00:15<00:07,  9.88it/s]\u001b[A\u001b[A\u001b[A\u001b[A"
     ]
    },
    {
     "name": "stdout",
     "output_type": "stream",
     "text": [
      " 1280 0.614842400719 17.1290036314 False False False\n",
      "y,m,c values and isnan(y,c,m) and are: 561 0.614842400719 17.1290036314 False False False\n",
      "Left and Right weight, m_left,c_left,m_right,c_right is -1244 375 -0.671275660845 867.749329367 0.627790408551 6.39153110754\n",
      "y,m,c values and isnan(y,c,m) and are: 1280 -0.671275660845 867.749329367 False False False\n",
      "y,m,c values and isnan(y,c,m) and are: 448 -0.671275660845 867.749329367 False False False\n",
      "y,m,c values and isnan(y,c,m) and are: 1280 0.627790408551 6.39153110754 False False False\n",
      "y,m,c values and isnan(y,c,m) and are: 443 0.627790408551 6.39153110754 False False False\n",
      "Left and Right weight, m_left,c_left,m_right,c_right is -730 328 -0.680432739788 874.281706836 0.589100742963 42.3138628396\n",
      "y,m,c values and isnan(y,c,m) and are: 1280 -0.680432739788 874.281706836 False False False\n",
      "y,m,c values and isnan(y,c,m) and are: 441 -0.680432739788 874.281706836 False False False\n",
      "y,m,c values and isnan(y,c,m) and are: 1280 0.589100742963 42.3138628396 False False False\n",
      "y,m,c values and isnan(y,c,m) and are: 612 0.589100742963 42.3138628396 False False False\n"
     ]
    },
    {
     "name": "stderr",
     "output_type": "stream",
     "text": [
      "\n",
      "\n",
      "\n",
      "\n",
      " 72%|███████▏  | 180/251 [00:16<00:08,  8.44it/s]\u001b[A\u001b[A\u001b[A\u001b[A\n",
      "\n",
      "\n",
      "\n",
      " 72%|███████▏  | 181/251 [00:16<00:09,  7.75it/s]\u001b[A\u001b[A\u001b[A\u001b[A"
     ]
    },
    {
     "name": "stdout",
     "output_type": "stream",
     "text": [
      "Left and Right weight, m_left,c_left,m_right,c_right is -1076 106 -0.677423448573 869.839047149 0.621447198299 22.0818157912\n",
      "y,m,c values and isnan(y,c,m) and are: 1280 -0.677423448573 869.839047149 False False False\n",
      "y,m,c values and isnan(y,c,m) and are: 442 -0.677423448573 869.839047149 False False False\n",
      "y,m,c values and isnan(y,c,m) and are: 1280 0.621447198299 22.0818157912 False False False\n",
      "y,m,c values and isnan(y,c,m) and are: 650 0.621447198299 22.0818157912 False False False\n",
      "Left and Right weight, m_left,c_left,m_right,c_right is -1066 5 -0.67373061773 868.516078386 1.0 1.0\n",
      "y,m,c values and isnan(y,c,m) and are: 1280 -0.67373061773 868.516078386 False False False\n",
      "y,m,c values and isnan(y,c,m) and are: 445 -0.67373061773 868.516078386 False False False\n",
      "y,m,c values and isnan(y,c,m) and are: 1280 1.0 1.0 False False False\n",
      "y,m,c values and isnan(y,c,m) and are: 1280 1.0 1.0 False False False\n"
     ]
    },
    {
     "name": "stderr",
     "output_type": "stream",
     "text": [
      "\n",
      "\n",
      "\n",
      "\n",
      " 73%|███████▎  | 183/251 [00:16<00:07,  9.12it/s]\u001b[A\u001b[A\u001b[A\u001b[A"
     ]
    },
    {
     "name": "stdout",
     "output_type": "stream",
     "text": [
      "Left and Right weight, m_left,c_left,m_right,c_right is -822 5 -0.663044100668 864.595920845 1.0 1.0\n",
      "y,m,c values and isnan(y,c,m) and are: 1280 -0.663044100668 864.595920845 False False False\n",
      "y,m,c values and isnan(y,c,m) and are: 447 -0.663044100668 864.595920845 False False False\n",
      "y,m,c values and isnan(y,c,m) and are: 1280 1.0 1.0 False False False\n",
      "y,m,c values and isnan(y,c,m) and are: 1280 1.0 1.0 False False False\n",
      "Left and Right weight, m_left,c_left,m_right,c_right is -841 57 -0.687703350154 877.652124167 0.660546715626 6.09179926561\n",
      "y,m,c values and isnan(y,c,m) and are: 1280 -0.687703350154 877.652124167 False False False\n",
      "y,m,c values and isnan(y,c,m) and are: 461 -0.687703350154 877.652124167 False False False\n",
      "y,m,c values and isnan(y,c,m) and are: 1280 0.660546715626 6.09179926561 False False False\n",
      "y,m,c values and isnan(y,c,m) and are: 502 0.660546715626 6.09179926561 False False False\n",
      "Left and Right weight, m_left,c_left,m_right,c_right is -728 27 -0.67699129966 874.082018988 0.712418300654 -12.9477124183\n",
      "y,m,c values and isnan(y,c,m) and are: 1280 -0.67699129966 874.082018988 False False False\n",
      "y,m,c values and isnan(y,c,m) and are: 465 -0.67699129966 874.082018988 False False False\n",
      "y,m,c values and isnan(y,c,m) and are: "
     ]
    },
    {
     "name": "stderr",
     "output_type": "stream",
     "text": [
      "\n",
      "\n",
      "\n",
      "\n",
      " 74%|███████▎  | 185/251 [00:16<00:07,  9.32it/s]\u001b[A\u001b[A\u001b[A\u001b[A"
     ]
    },
    {
     "name": "stdout",
     "output_type": "stream",
     "text": [
      "1280 0.712418300654 -12.9477124183 False False False\n",
      "y,m,c values and isnan(y,c,m) and are: 508 0.712418300654 -12.9477124183 False False False\n",
      "Left and Right weight, m_left,c_left,m_right,c_right is -911 126 -0.676470894216 871.527847153 0.604864433812 31.627667654\n",
      "y,m,c values and isnan(y,c,m) and are: 1280 -0.676470894216 871.527847153 False False False\n",
      "y,m,c values and isnan(y,c,m) and are: 434 -0.676470894216 871.527847153 False False False\n",
      "y,m,c values and isnan(y,c,m) and are: 1280 0.604864433812 31.627667654 False False False\n",
      "y,m,c values and isnan(y,c,m) and are: 515 0.604864433812 31.627667654 False False False\n",
      "Left and Right weight, m_left,c_left,m_right,c_right is -1413 259 -0.682195308776 876.669056571 0.636983861212 1.40149516211\n",
      "y,m,c values and isnan(y,c,m) and are: 1280 -0.682195308776 876.669056571 False False False\n",
      "y,m,c values and isnan(y,c,m) and are: 438 -0.682195308776 876.669056571 False False False\n",
      "y,m,c values and isnan(y,c,m) and are: 1280 0.636983861212 1.40149516211 False False False\n",
      "y,m,c values and isnan(y,c,m) and are: 448 0.636983861212 1.40149516211 False False False\n"
     ]
    },
    {
     "name": "stderr",
     "output_type": "stream",
     "text": [
      "\n",
      "\n",
      "\n",
      "\n",
      " 75%|███████▍  | 187/251 [00:17<00:08,  7.51it/s]\u001b[A\u001b[A\u001b[A\u001b[A\n",
      "\n",
      "\n",
      "\n",
      " 75%|███████▌  | 189/251 [00:17<00:06,  8.97it/s]\u001b[A\u001b[A\u001b[A\u001b[A"
     ]
    },
    {
     "name": "stdout",
     "output_type": "stream",
     "text": [
      "Left and Right weight, m_left,c_left,m_right,c_right is -1073 226 -0.681308727287 877.559167231 0.620779951713 16.4486907136\n",
      "y,m,c values and isnan(y,c,m) and are: 1280 -0.681308727287 877.559167231 False False False\n",
      "y,m,c values and isnan(y,c,m) and are: 435 -0.681308727287 877.559167231 False False False\n",
      "y,m,c values and isnan(y,c,m) and are: 1280 0.620779951713 16.4486907136 False False False\n",
      "y,m,c values and isnan(y,c,m) and are: 453 0.620779951713 16.4486907136 False False False\n",
      "Left and Right weight, m_left,c_left,m_right,c_right is -946 566 -0.689423976114 880.947787254 0.589882568654 39.4926335237\n",
      "y,m,c values and isnan(y,c,m) and are: 1280 -0.689423976114 880.947787254 False False False\n",
      "y,m,c values and isnan(y,c,m) and are: 438 -0.689423976114 880.947787254 False False False\n",
      "y,m,c values and isnan(y,c,m) and are: 1280 0.589882568654 39.4926335237 False False False\n",
      "y,m,c values and isnan(y,c,m) and are: 455 0.589882568654 39.4926335237 False False False\n",
      "Left and Right weight, m_left,c_left,m_right,c_right is -936 704 -0.676438555868 873.599239685 0.578221382141 48.0166978308\n",
      "y,m,c values and isnan(y,c,m) and are: 1280 -0.676438555868 873.599239685 False False False\n",
      "y,m,c values and isnan(y,c,m) and are: 434 -0.676438555868 873.599239685 False False False\n",
      "y,m,c values and isnan(y,c,m) and are: 1280 0.578221382141 48.0166978308 False False False\n",
      "y,m,c values and isnan(y,c,m) and are: 569 0.578221382141 48.0166978308 False False False\n"
     ]
    },
    {
     "name": "stderr",
     "output_type": "stream",
     "text": [
      "\n",
      "\n",
      "\n",
      "\n",
      " 76%|███████▌  | 191/251 [00:17<00:06,  9.65it/s]\u001b[A\u001b[A\u001b[A\u001b[A"
     ]
    },
    {
     "name": "stdout",
     "output_type": "stream",
     "text": [
      "Left and Right weight, m_left,c_left,m_right,c_right is -1271 531 -0.711061562642 891.862694383 0.591403300634 34.0597776001\n",
      "y,m,c values and isnan(y,c,m) and are: 1280 -0.711061562642 891.862694383 False False False\n",
      "y,m,c values and isnan(y,c,m) and are: 435 -0.711061562642 891.862694383 False False False\n",
      "y,m,c values and isnan(y,c,m) and are: 1280 0.591403300634 34.0597776001 False False False\n",
      "y,m,c values and isnan(y,c,m) and are: 590 0.591403300634 34.0597776001 False False False\n",
      "Left and Right weight, m_left,c_left,m_right,c_right is -1193 265 -0.706402447836 890.521729855 0.587907225366 41.5722506176\n",
      "y,m,c values and isnan(y,c,m) and are: 1280 -0.706402447836 890.521729855 False False False\n",
      "y,m,c values and isnan(y,c,m) and are: 432 -0.706402447836 890.521729855 False False False\n",
      "y,m,c values and isnan(y,c,m) and are: 1280 0.587907225366 41.5722506176 False False False\n",
      "y,m,c values and isnan(y,c,m) and are: 623 0.587907225366 41.5722506176 False False False\n"
     ]
    },
    {
     "name": "stderr",
     "output_type": "stream",
     "text": [
      "\n",
      "\n",
      "\n",
      "\n",
      "\r",
      " 77%|███████▋  | 193/251 [00:17<00:07,  7.61it/s]"
     ]
    },
    {
     "name": "stdout",
     "output_type": "stream",
     "text": [
      "Left and Right weight, m_left,c_left,m_right,c_right is -606 5 -0.703338736892 894.551632129 1.0 1.0\n",
      "y,m,c values and isnan(y,c,m) and are: 1280 -0.703338736892 894.551632129 False False False\n",
      "y,m,c values and isnan(y,c,m) and are: 447 -0.703338736892 894.551632129 False False False\n",
      "y,m,c values and isnan(y,c,m) and are: 1280 1.0 1.0 False False False\n",
      "y,m,c values and isnan(y,c,m) and are: 1280 1.0 1.0 False False False\n"
     ]
    },
    {
     "name": "stderr",
     "output_type": "stream",
     "text": [
      "\u001b[A\u001b[A\u001b[A\u001b[A\n",
      "\n",
      "\n",
      "\n",
      " 78%|███████▊  | 195/251 [00:18<00:07,  7.98it/s]"
     ]
    },
    {
     "name": "stdout",
     "output_type": "stream",
     "text": [
      "Left and Right weight, m_left,c_left,m_right,c_right is -619 5 -0.695671969006 884.063542709 1.0 1.0\n",
      "y,m,c values and isnan(y,c,m) and are: 1280 -0.695671969006 884.063542709 False False False\n",
      "y,m,c values and isnan(y,c,m) and are: 438 -0.695671969006 884.063542709 False False False\n",
      "y,m,c values and isnan(y,c,m) and are: 1280 1.0 1.0 False False False\n",
      "y,m,c values and isnan(y,c,m) and are: 1280 1.0 1.0 False False False\n",
      "Left and Right weight, m_left,c_left,m_right,c_right is -475 57 -0.677278866847 879.684250674 0.65246449457 3.0417710944\n",
      "y,m,c values and isnan(y,c,m) and are: 1280 -0.677278866847 879.684250674 False False False\n",
      "y,m,c values and isnan(y,c,m) and are: 438 -0.677278866847 879.684250674 False False False\n",
      "y,m,c values and isnan(y,c,m) and are: 1280 0.65246449457 3.0417710944 False False False\n",
      "y,m,c values and isnan(y,c,m) and are: 496 0.65246449457 3.0417710944 False False False\n"
     ]
    },
    {
     "name": "stderr",
     "output_type": "stream",
     "text": [
      "\u001b[A\u001b[A\u001b[A\u001b[A\n",
      "\n",
      "\n",
      "\n",
      " 78%|███████▊  | 197/251 [00:18<00:06,  8.96it/s]\u001b[A\u001b[A\u001b[A\u001b[A"
     ]
    },
    {
     "name": "stdout",
     "output_type": "stream",
     "text": [
      "Left and Right weight, m_left,c_left,m_right,c_right is -747 101 -0.695935564959 885.507596437 0.615819581958 22.3319691969\n",
      "y,m,c values and isnan(y,c,m) and are: 1280 -0.695935564959 885.507596437 False False False\n",
      "y,m,c values and isnan(y,c,m) and are: 433 -0.695935564959 885.507596437 False False False\n",
      "y,m,c values and isnan(y,c,m) and are: 1280 0.615819581958 22.3319691969 False False False\n",
      "y,m,c values and isnan(y,c,m) and are: 501 0.615819581958 22.3319691969 False False False\n",
      "Left and Right weight, m_left,c_left,m_right,c_right is -308 257 -0.709494282268 901.913720792 0.597892478348 27.9927238923\n",
      "y,m,c values and isnan(y,c,m) and are: 1280 -0.709494282268 901.913720792 False False False\n",
      "y,m,c values and isnan(y,c,m) and are: 443 -0.709494282268 901.913720792 False False False\n",
      "y,m,c values and isnan(y,c,m) and are: 1280 0.597892478348 27.9927238923 False False False\n",
      "y,m,c values and isnan(y,c,m) and are: 509 0.597892478348 27.9927238923 False False False\n",
      "Left and Right weight, m_left,c_left,m_right,c_right is -759 300 -0.717285038902 898.410964436 0.621095758622 10.1577202257\n",
      "y,m,c values and isnan(y,c,m) and are: 1280 -0.717285038902 898.410964436 False False False\n",
      "y,m,c values and isnan(y,c,m) and are: 467 -0.717285038902 898.410964436 False False False\n",
      "y,m,c values and isnan(y,c,m) and are: 1280 0.621095758622 10.1577202257 False False False\n",
      "y,m,c values and isnan(y,c,m) and are: 445 0.621095758622 10.1577202257 False False False\n"
     ]
    },
    {
     "name": "stderr",
     "output_type": "stream",
     "text": [
      "\n",
      "\n",
      "\n",
      "\n",
      "\r",
      " 79%|███████▉  | 199/251 [00:18<00:05,  8.73it/s]"
     ]
    },
    {
     "name": "stdout",
     "output_type": "stream",
     "text": [
      "Left and Right weight, m_left,c_left,m_right,c_right is -595 276 -0.707364338997 893.29151934 0.617545812931 13.2831606473\n",
      "y,m,c values and isnan(y,c,m) and are: 1280 -0.707364338997 893.29151934 False False False\n",
      "y,m,c values and isnan(y,c,m) and are: 432 -0.707364338997 893.29151934 False False False\n",
      "y,m,c values and isnan(y,c,m) and are: 1280 0.617545812931 13.2831606473 False False False\n",
      "y,m,c values and isnan(y,c,m) and are: 436 0.617545812931 13.2831606473 False False False\n",
      "Left and Right weight, m_left,c_left,m_right,c_right is -767 186 -0.694194324637 885.188149111 0.595292952022 36.1185551013\n",
      "y,m,c values and isnan(y,c,m) and are: 1280 -0.694194324637 885.188149111 False False False\n",
      "y,m,c values and isnan(y,c,m) and are: 437 -0.694194324637 885.188149111 False False False\n",
      "y,m,c values and isnan(y,c,m) and are: 1280 0.595292952022 36.1185551013 False False False\n",
      "y,m,c values and isnan(y,c,m) and are: 448 0.595292952022 36.1185551013 False False False\n"
     ]
    },
    {
     "name": "stderr",
     "output_type": "stream",
     "text": [
      "\u001b[A\u001b[A\u001b[A\u001b[A\n",
      "\n",
      "\n",
      "\n",
      " 80%|███████▉  | 200/251 [00:18<00:05,  8.53it/s]\u001b[A\u001b[A\u001b[A\u001b[A\n",
      "\n",
      "\n",
      "\n",
      " 80%|████████  | 201/251 [00:18<00:06,  8.18it/s]\u001b[A\u001b[A\u001b[A\u001b[A"
     ]
    },
    {
     "name": "stdout",
     "output_type": "stream",
     "text": [
      "Left and Right weight, m_left,c_left,m_right,c_right is -858 657 -0.702437201964 887.098853093 0.603779131877 22.6800227449\n",
      "y,m,c values and isnan(y,c,m) and are: 1280 -0.702437201964 887.098853093 False False False\n",
      "y,m,c values and isnan(y,c,m) and are: 433 -0.702437201964 887.098853093 False False False\n",
      "y,m,c values and isnan(y,c,m) and are: 1280 0.603779131877 22.6800227449 False False False\n",
      "y,m,c values and isnan(y,c,m) and are: 441 0.603779131877 22.6800227449 False False False\n",
      "Left and Right weight, m_left,c_left,m_right,c_right is -739 548 -0.727796710241 905.909329421 0.578928284628 43.8027687949\n",
      "y,m,c values and isnan(y,c,m) and are: 1280 -0.727796710241 905.909329421 False False False\n",
      "y,m,c values and isnan(y,c,m) and are: 437 -0.727796710241 905.909329421 False False False\n",
      "y,m,c values and isnan(y,c,m) and are: 1280 0.578928284628 43.8027687949 False False False\n",
      "y,m,c values and isnan(y,c,m) and are: 578 0.578928284628 43.8027687949 False False False\n"
     ]
    },
    {
     "name": "stderr",
     "output_type": "stream",
     "text": [
      "\n",
      "\n",
      "\n",
      "\n",
      " 81%|████████  | 203/251 [00:18<00:05,  8.91it/s]\u001b[A\u001b[A\u001b[A\u001b[A\n",
      "\n",
      "\n",
      "\n",
      " 81%|████████▏ | 204/251 [00:19<00:05,  8.00it/s]"
     ]
    },
    {
     "name": "stdout",
     "output_type": "stream",
     "text": [
      "Left and Right weight, m_left,c_left,m_right,c_right is -1010 258 -0.726187864772 899.421061525 0.564711262292 58.2637901117\n",
      "y,m,c values and isnan(y,c,m) and are: 1280 -0.726187864772 899.421061525 False False False\n",
      "y,m,c values and isnan(y,c,m) and are: 434 -0.726187864772 899.421061525 False False False\n",
      "y,m,c values and isnan(y,c,m) and are: 1280 0.564711262292 58.2637901117 False False False\n",
      "y,m,c values and isnan(y,c,m) and are: 604 0.564711262292 58.2637901117 False False False\n",
      "Left and Right weight, m_left,c_left,m_right,c_right is -914 69 -0.705075131924 887.438754366 0.59806763285 46.5845410628\n",
      "y,m,c values and isnan(y,c,m) and are: 1280 -0.705075131924 887.438754366 False False False\n",
      "y,m,c values and isnan(y,c,m) and are: 433 -0.705075131924 887.438754366 False False False\n",
      "y,m,c values and isnan(y,c,m) and are: 1280 0.59806763285 46.5845410628 False False False\n",
      "y,m,c values and isnan(y,c,m) and are: 640 0.59806763285 46.5845410628 False False False\n"
     ]
    },
    {
     "name": "stderr",
     "output_type": "stream",
     "text": [
      "\u001b[A\u001b[A\u001b[A\u001b[A\n",
      "\n",
      "\n",
      "\n",
      " 82%|████████▏ | 205/251 [00:19<00:05,  7.68it/s]\u001b[A\u001b[A\u001b[A\u001b[A"
     ]
    },
    {
     "name": "stdout",
     "output_type": "stream",
     "text": [
      "Left and Right weight, m_left,c_left,m_right,c_right is -1057 5 -0.709580577174 893.146174628 1.0 1.0\n",
      "y,m,c values and isnan(y,c,m) and are: 1280 -0.709580577174 893.146174628 False False False\n",
      "y,m,c values and isnan(y,c,m) and are: 432 -0.709580577174 893.146174628 False False False\n",
      "y,m,c values and isnan(y,c,m) and are: 1280 1.0 1.0 False False False\n",
      "y,m,c values and isnan(y,c,m) and are: 1280 1.0 1.0 False False False\n",
      "Left and Right weight, m_left,c_left,m_right,c_right is -994 101 -0.736405305585 907.96894704 0.624438541415 16.9265877807\n",
      "y,m,c values and isnan(y,c,m) and are: 1280 -0.736405305585 907.96894704 False False False\n",
      "y,m,c values and isnan(y,c,m) and are: 447 -0.736405305585 907.96894704 False False False\n",
      "y,m,c values and isnan(y,c,m) and are: 1280 0.624438541415 16.9265877807 False False False\n",
      "y,m,c values and isnan(y,c,m) and are: 495 0.624438541415 16.9265877807 False False False\n"
     ]
    },
    {
     "name": "stderr",
     "output_type": "stream",
     "text": [
      "\n",
      "\n",
      "\n",
      "\n",
      " 82%|████████▏ | 207/251 [00:19<00:05,  8.06it/s]\u001b[A\u001b[A\u001b[A\u001b[A\n",
      "\n",
      "\n",
      "\n",
      " 83%|████████▎ | 208/251 [00:19<00:05,  8.24it/s]"
     ]
    },
    {
     "name": "stdout",
     "output_type": "stream",
     "text": [
      "Left and Right weight, m_left,c_left,m_right,c_right is -500 153 -0.738945844668 912.805972443 0.635044095157 4.58124769288\n",
      "y,m,c values and isnan(y,c,m) and are: 1280 -0.738945844668 912.805972443 False False False\n",
      "y,m,c values and isnan(y,c,m) and are: 432 -0.738945844668 912.805972443 False False False\n",
      "y,m,c values and isnan(y,c,m) and are: 1280 0.635044095157 4.58124769288 False False False\n",
      "y,m,c values and isnan(y,c,m) and are: 501 0.635044095157 4.58124769288 False False False\n",
      "Left and Right weight, m_left,c_left,m_right,c_right is -694 129 -0.743287119697 913.48977833 0.642063514655 1.40917328475\n",
      "y,m,c values and isnan(y,c,m) and are: 1280 -0.743287119697 913.48977833 False False False\n",
      "y,m,c values and isnan(y,c,m) and are: 455 -0.743287119697 913.48977833 False False False\n",
      "y,m,c values and isnan(y,c,m) and are: 1280 0.642063514655 1.40917328475 False False False\n",
      "y,m,c values and isnan(y,c,m) and are: 508 0.642063514655 1.40917328475 False False False\n"
     ]
    },
    {
     "name": "stderr",
     "output_type": "stream",
     "text": [
      "\u001b[A\u001b[A\u001b[A\u001b[A\n",
      "\n",
      "\n",
      "\n",
      " 83%|████████▎ | 209/251 [00:19<00:04,  8.60it/s]\u001b[A\u001b[A\u001b[A\u001b[A\n",
      "\n",
      "\n",
      "\n",
      " 84%|████████▎ | 210/251 [00:19<00:04,  8.27it/s]"
     ]
    },
    {
     "name": "stdout",
     "output_type": "stream",
     "text": [
      "Left and Right weight, m_left,c_left,m_right,c_right is -508 147 -0.692790010581 888.519253229 0.649154719236 -5.63671554427\n",
      "y,m,c values and isnan(y,c,m) and are: 1280 -0.692790010581 888.519253229 False False False\n",
      "y,m,c values and isnan(y,c,m) and are: 435 -0.692790010581 888.519253229 False False False\n",
      "y,m,c values and isnan(y,c,m) and are: 1280 0.649154719236 -5.63671554427 False False False\n",
      "y,m,c values and isnan(y,c,m) and are: 517 0.649154719236 -5.63671554427 False False False\n",
      "Left and Right weight, m_left,c_left,m_right,c_right is -532 243 -0.732709220702 910.608263255 0.619022981448 14.5042808687\n",
      "y,m,c values and isnan(y,c,m) and are: 1280 -0.732709220702 910.608263255 False False False\n",
      "y,m,c values and isnan(y,c,m) and are: 432 -0.732709220702 910.608263255 False False False\n",
      "y,m,c values and isnan(y,c,m) and are: 1280 0.619022981448 14.5042808687 False False False\n",
      "y,m,c values and isnan(y,c,m) and are: 443 0.619022981448 14.5042808687 False False False\n"
     ]
    },
    {
     "name": "stderr",
     "output_type": "stream",
     "text": [
      "\u001b[A\u001b[A\u001b[A\u001b[A\n",
      "\n",
      "\n",
      "\n",
      " 84%|████████▍ | 212/251 [00:19<00:04,  8.72it/s]"
     ]
    },
    {
     "name": "stdout",
     "output_type": "stream",
     "text": [
      "Left and Right weight, m_left,c_left,m_right,c_right is -1272 246 -0.738711489007 911.042374552 0.624877447742 11.066044946\n",
      "y,m,c values and isnan(y,c,m) and are: 1280 -0.738711489007 911.042374552 False False False\n",
      "y,m,c values and isnan(y,c,m) and are: 436 -0.738711489007 911.042374552 False False False\n",
      "y,m,c values and isnan(y,c,m) and are: 1280 0.624877447742 11.066044946 False False False\n",
      "y,m,c values and isnan(y,c,m) and are: 538 0.624877447742 11.066044946 False False False\n",
      "Left and Right weight, m_left,c_left,m_right,c_right is -864 379 -0.735140299925 909.220132001 0.572628158201 47.3663643317\n",
      "y,m,c values and isnan(y,c,m) and are: 1280 -0.735140299925 909.220132001 False False False\n",
      "y,m,c values and isnan(y,c,m) and are: 442 -0.735140299925 909.220132001 False False False\n",
      "y,m,c values and isnan(y,c,m) and are: 1280 0.572628158201 47.3663643317 False False False\n",
      "y,m,c values and isnan(y,c,m) and are: 548 0.572628158201 47.3663643317 False False False\n"
     ]
    },
    {
     "name": "stderr",
     "output_type": "stream",
     "text": [
      "\u001b[A\u001b[A\u001b[A\u001b[A\n",
      "\n",
      "\n",
      "\n",
      " 85%|████████▍ | 213/251 [00:20<00:04,  8.04it/s]\u001b[A\u001b[A\u001b[A\u001b[A"
     ]
    },
    {
     "name": "stdout",
     "output_type": "stream",
     "text": [
      "Left and Right weight, m_left,c_left,m_right,c_right is -663 607 -0.713238131878 898.25429675 0.569223908043 51.1853099814\n",
      "y,m,c values and isnan(y,c,m) and are: 1280 -0.713238131878 898.25429675 False False False\n",
      "y,m,c values and isnan(y,c,m) and are: 435 -0.713238131878 898.25429675 False False False\n",
      "y,m,c values and isnan(y,c,m) and are: 1280 0.569223908043 51.1853099814 False False False\n",
      "y,m,c values and isnan(y,c,m) and are: 566 0.569223908043 51.1853099814 False False False\n",
      "Left and Right weight, m_left,c_left,m_right,c_right is -442 620 -0.754404538453 927.64159586 0.568538435292 50.8015375874\n",
      "y,m,c values and isnan(y,c,m) and are: 1280 -0.754404538453 927.64159586 False False False\n",
      "y,m,c values and isnan(y,c,m) and are: 435 -0.754404538453 927.64159586 False False False\n",
      "y,m,c values and isnan(y,c,m) and are: 1280 0.568538435292 50.8015375874 False False False\n",
      "y,m,c values and isnan(y,c,m) and are: 582 0.568538435292 50.8015375874 False False False\n"
     ]
    },
    {
     "name": "stderr",
     "output_type": "stream",
     "text": [
      "\n",
      "\n",
      "\n",
      "\n",
      " 86%|████████▌ | 215/251 [00:20<00:04,  8.67it/s]\u001b[A\u001b[A\u001b[A\u001b[A\n",
      "\n",
      "\n",
      "\n",
      " 86%|████████▌ | 216/251 [00:20<00:04,  8.27it/s]"
     ]
    },
    {
     "name": "stdout",
     "output_type": "stream",
     "text": [
      "Left and Right weight, m_left,c_left,m_right,c_right is -1195 313 -0.785847104294 935.562899216 0.584002966198 38.9988660871\n",
      "y,m,c values and isnan(y,c,m) and are: 1280 -0.785847104294 935.562899216 False False False\n",
      "y,m,c values and isnan(y,c,m) and are: 447 -0.785847104294 935.562899216 False False False\n",
      "y,m,c values and isnan(y,c,m) and are: 1280 0.584002966198 38.9988660871 False False False\n",
      "y,m,c values and isnan(y,c,m) and are: 620 0.584002966198 38.9988660871 False False False\n",
      "Left and Right weight, m_left,c_left,m_right,c_right is -1025 5 -0.77224484374 930.338031938 1.0 1.0\n",
      "y,m,c values and isnan(y,c,m) and are: 1280 -0.77224484374 930.338031938 False False False\n",
      "y,m,c values and isnan(y,c,m) and are: 468 -0.77224484374 930.338031938 False False False\n",
      "y,m,c values and isnan(y,c,m) and are: 1280 1.0 1.0 False False False\n",
      "y,m,c values and isnan(y,c,m) and are: 1280 1.0 1.0 False False False\n"
     ]
    },
    {
     "name": "stderr",
     "output_type": "stream",
     "text": [
      "\u001b[A\u001b[A\u001b[A\u001b[A\n",
      "\n",
      "\n",
      "\n",
      " 86%|████████▋ | 217/251 [00:20<00:03,  8.61it/s]\u001b[A\u001b[A\u001b[A\u001b[A\n",
      "\n",
      "\n",
      "\n",
      " 87%|████████▋ | 218/251 [00:20<00:03,  8.69it/s]"
     ]
    },
    {
     "name": "stdout",
     "output_type": "stream",
     "text": [
      "Left and Right weight, m_left,c_left,m_right,c_right is -1260 5 -0.76339043024 923.23438422 1.0 1.0\n",
      "y,m,c values and isnan(y,c,m) and are: 1280 -0.76339043024 923.23438422 False False False\n",
      "y,m,c values and isnan(y,c,m) and are: 435 -0.76339043024 923.23438422 False False False\n",
      "y,m,c values and isnan(y,c,m) and are: 1280 1.0 1.0 False False False\n",
      "y,m,c values and isnan(y,c,m) and are: 1280 1.0 1.0 False False False\n",
      "Left and Right weight, m_left,c_left,m_right,c_right is -887 54 -0.779850506952 936.790812215 0.623757904246 31.4534778681\n",
      "y,m,c values and isnan(y,c,m) and are: 1280 -0.779850506952 936.790812215 False False False\n",
      "y,m,c values and isnan(y,c,m) and are: 451 -0.779850506952 936.790812215 False False False\n",
      "y,m,c values and isnan(y,c,m) and are: 1280 0.623757904246 31.4534778681 False False False\n",
      "y,m,c values and isnan(y,c,m) and are: 497 0.623757904246 31.4534778681 False False False\n"
     ]
    },
    {
     "name": "stderr",
     "output_type": "stream",
     "text": [
      "\u001b[A\u001b[A\u001b[A\u001b[A\n",
      "\n",
      "\n",
      "\n",
      " 87%|████████▋ | 219/251 [00:20<00:04,  7.43it/s]\u001b[A\u001b[A\u001b[A\u001b[A"
     ]
    },
    {
     "name": "stdout",
     "output_type": "stream",
     "text": [
      "Left and Right weight, m_left,c_left,m_right,c_right is -410 90 -0.801811446789 953.062879217 0.607936507937 32.3174603175\n",
      "y,m,c values and isnan(y,c,m) and are: 1280 -0.801811446789 953.062879217 False False False\n",
      "y,m,c values and isnan(y,c,m) and are: 467 -0.801811446789 953.062879217 False False False\n",
      "y,m,c values and isnan(y,c,m) and are: 1280 0.607936507937 32.3174603175 False False False\n",
      "y,m,c values and isnan(y,c,m) and are: 501 0.607936507937 32.3174603175 False False False\n",
      "Left and Right weight, m_left,c_left,m_right,c_right is -477 248 -0.729818127131 909.648071645 0.550287079243 65.486509467\n",
      "y,m,c values and isnan(y,c,m) and are: 1280 -0.729818127131 909.648071645 False False False\n",
      "y,m,c values and isnan(y,c,m) and are: 432 -0.729818127131 909.648071645 False False False\n",
      "y,m,c values and isnan(y,c,m) and are: 1280 0.550287079243 65.486509467 False False False\n",
      "y,m,c values and isnan(y,c,m) and are: 508 0.550287079243 65.486509467 False False False\n"
     ]
    },
    {
     "name": "stderr",
     "output_type": "stream",
     "text": [
      "\n",
      "\n",
      "\n",
      "\n",
      " 88%|████████▊ | 221/251 [00:20<00:03,  8.16it/s]\u001b[A\u001b[A\u001b[A\u001b[A\n",
      "\n",
      "\n",
      "\n",
      " 88%|████████▊ | 222/251 [00:21<00:03,  8.45it/s]"
     ]
    },
    {
     "name": "stdout",
     "output_type": "stream",
     "text": [
      "Left and Right weight, m_left,c_left,m_right,c_right is -551 276 -0.765830116199 928.744064821 0.564118864558 55.9548537253\n",
      "y,m,c values and isnan(y,c,m) and are: 1280 -0.765830116199 928.744064821 False False False\n",
      "y,m,c values and isnan(y,c,m) and are: 439 -0.765830116199 928.744064821 False False False\n",
      "y,m,c values and isnan(y,c,m) and are: 1280 0.564118864558 55.9548537253 False False False\n",
      "y,m,c values and isnan(y,c,m) and are: 518 0.564118864558 55.9548537253 False False False\n",
      "Left and Right weight, m_left,c_left,m_right,c_right is -567 200 -0.722696800608 903.808965226 0.553602008457 66.768237315\n",
      "y,m,c values and isnan(y,c,m) and are: 1280 -0.722696800608 903.808965226 False False False\n",
      "y,m,c values and isnan(y,c,m) and are: 438 -0.722696800608 903.808965226 False False False\n",
      "y,m,c values and isnan(y,c,m) and are: 1280 0.553602008457 66.768237315 False False False\n",
      "y,m,c values and isnan(y,c,m) and are: 529 0.553602008457 66.768237315 False False False\n"
     ]
    },
    {
     "name": "stderr",
     "output_type": "stream",
     "text": [
      "\u001b[A\u001b[A\u001b[A\u001b[A\n",
      "\n",
      "\n",
      "\n",
      " 89%|████████▉ | 223/251 [00:21<00:03,  7.74it/s]\u001b[A\u001b[A\u001b[A\u001b[A"
     ]
    },
    {
     "name": "stdout",
     "output_type": "stream",
     "text": [
      "Left and Right weight, m_left,c_left,m_right,c_right is -550 353 -0.78009920903 937.285111069 0.552130768529 66.5589614241\n",
      "y,m,c values and isnan(y,c,m) and are: 1280 -0.78009920903 937.285111069 False False False\n",
      "y,m,c values and isnan(y,c,m) and are: 436 -0.78009920903 937.285111069 False False False\n",
      "y,m,c values and isnan(y,c,m) and are: 1280 0.552130768529 66.5589614241 False False False\n",
      "y,m,c values and isnan(y,c,m) and are: 542 0.552130768529 66.5589614241 False False False\n",
      "Left and Right weight, m_left,c_left,m_right,c_right is -439 638 -0.765186910841 929.766484101 0.547172098926 68.8345530248\n",
      "y,m,c values and isnan(y,c,m) and are: 1280 -0.765186910841 929.766484101 False False False\n",
      "y,m,c values and isnan(y,c,m) and are: 445 -0.765186910841 929.766484101 False False False\n",
      "y,m,c values and isnan(y,c,m) and are: 1280 0.547172098926 68.8345530248 False False False\n",
      "y,m,c values and isnan(y,c,m) and are: 558 0.547172098926 68.8345530248 False False False\n",
      "Left and Right weight, m_left,c_left,m_right,c_right is "
     ]
    },
    {
     "name": "stderr",
     "output_type": "stream",
     "text": [
      "\n",
      "\n",
      "\n",
      "\n",
      "\r",
      " 90%|████████▉ | 225/251 [00:21<00:03,  7.78it/s]"
     ]
    },
    {
     "name": "stdout",
     "output_type": "stream",
     "text": [
      "-461 619 -0.731170408101 908.40317425 0.549491635937 67.046358821\n",
      "y,m,c values and isnan(y,c,m) and are: 1280 -0.731170408101 908.40317425 False False False\n",
      "y,m,c values and isnan(y,c,m) and are: 432 -0.731170408101 908.40317425 False False False\n",
      "y,m,c values and isnan(y,c,m) and are: 1280 0.549491635937 67.046358821 False False False\n",
      "y,m,c values and isnan(y,c,m) and are: 577 0.549491635937 67.046358821 False False False\n",
      "Left and Right weight, m_left,c_left,m_right,c_right is -519 246 -0.72907821708 909.264794562 0.549321308271 74.6549082188\n",
      "y,m,c values and isnan(y,c,m) and are: 1280 -0.72907821708 909.264794562 False False False\n",
      "y,m,c values and isnan(y,c,m) and are: 439 -0.72907821708 909.264794562 False False False\n",
      "y,m,c values and isnan(y,c,m) and are: 1280 0.549321308271 74.6549082188 False False False\n",
      "y,m,c values and isnan(y,c,m) and are: 606 0.549321308271 74.6549082188 False False False\n"
     ]
    },
    {
     "name": "stderr",
     "output_type": "stream",
     "text": [
      "\u001b[A\u001b[A\u001b[A\u001b[A\n",
      "\n",
      "\n",
      "\n",
      " 90%|█████████ | 227/251 [00:21<00:02,  8.53it/s]\u001b[A\u001b[A\u001b[A\u001b[A\n",
      "\n",
      "\n",
      "\n",
      " 91%|█████████ | 228/251 [00:21<00:02,  8.48it/s]"
     ]
    },
    {
     "name": "stdout",
     "output_type": "stream",
     "text": [
      "Left and Right weight, m_left,c_left,m_right,c_right is -651 162 -0.757033592818 922.271569207 0.562666938427 67.3131803711\n",
      "y,m,c values and isnan(y,c,m) and are: 1280 -0.757033592818 922.271569207 False False False\n",
      "y,m,c values and isnan(y,c,m) and are: 437 -0.757033592818 922.271569207 False False False\n",
      "y,m,c values and isnan(y,c,m) and are: 1280 0.562666938427 67.3131803711 False False False\n",
      "y,m,c values and isnan(y,c,m) and are: 631 0.562666938427 67.3131803711 False False False\n",
      "Left and Right weight, m_left,c_left,m_right,c_right is -330 5 -0.784944651543 944.141566499 1.0 1.0\n",
      "y,m,c values and isnan(y,c,m) and are: 1280 -0.784944651543 944.141566499 False False False\n",
      "y,m,c values and isnan(y,c,m) and are: 444 -0.784944651543 944.141566499 False False False\n",
      "y,m,c values and isnan(y,c,m) and are: 1280 1.0 1.0 False False False\n",
      "y,m,c values and isnan(y,c,m) and are: 1280 1.0 1.0 False False False\n"
     ]
    },
    {
     "name": "stderr",
     "output_type": "stream",
     "text": [
      "\u001b[A\u001b[A\u001b[A\u001b[A\n",
      "\n",
      "\n",
      "\n",
      " 91%|█████████ | 229/251 [00:21<00:02,  8.58it/s]\u001b[A\u001b[A\u001b[A\u001b[A\n",
      "\n",
      "\n",
      "\n",
      " 92%|█████████▏| 230/251 [00:22<00:02,  8.14it/s]"
     ]
    },
    {
     "name": "stdout",
     "output_type": "stream",
     "text": [
      "Left and Right weight, m_left,c_left,m_right,c_right is -398 117 -0.771192001847 931.594323599 0.597503648113 42.1351417553\n",
      "y,m,c values and isnan(y,c,m) and are: 1280 -0.771192001847 931.594323599 False False False\n",
      "y,m,c values and isnan(y,c,m) and are: 451 -0.771192001847 931.594323599 False False False\n",
      "y,m,c values and isnan(y,c,m) and are: 1280 0.597503648113 42.1351417553 False False False\n",
      "y,m,c values and isnan(y,c,m) and are: 497 0.597503648113 42.1351417553 False False False\n",
      "Left and Right weight, m_left,c_left,m_right,c_right is -649 98 -0.756131556443 921.384256331 0.622448979592 22.9183673469\n",
      "y,m,c values and isnan(y,c,m) and are: 1280 -0.756131556443 921.384256331 False False False\n",
      "y,m,c values and isnan(y,c,m) and are: 439 -0.756131556443 921.384256331 False False False\n",
      "y,m,c values and isnan(y,c,m) and are: 1280 0.622448979592 22.9183673469 False False False\n",
      "y,m,c values and isnan(y,c,m) and are: 502 0.622448979592 22.9183673469 False False False\n"
     ]
    },
    {
     "name": "stderr",
     "output_type": "stream",
     "text": [
      "\u001b[A\u001b[A\u001b[A\u001b[A\n",
      "\n",
      "\n",
      "\n",
      " 92%|█████████▏| 232/251 [00:22<00:02,  8.44it/s]"
     ]
    },
    {
     "name": "stdout",
     "output_type": "stream",
     "text": [
      "Left and Right weight, m_left,c_left,m_right,c_right is -629 86 -0.748722053898 917.799690534 0.610472232501 37.951979733\n",
      "y,m,c values and isnan(y,c,m) and are: 1280 -0.748722053898 917.799690534 False False False\n",
      "y,m,c values and isnan(y,c,m) and are: 445 -0.748722053898 917.799690534 False False False\n",
      "y,m,c values and isnan(y,c,m) and are: 1280 0.610472232501 37.951979733 False False False\n",
      "y,m,c values and isnan(y,c,m) and are: 509 0.610472232501 37.951979733 False False False\n",
      "Left and Right weight, m_left,c_left,m_right,c_right is -753 230 -0.748654082791 913.84403045 0.592372394633 35.2174010895\n",
      "y,m,c values and isnan(y,c,m) and are: 1280 -0.748654082791 913.84403045 False False False\n",
      "y,m,c values and isnan(y,c,m) and are: 433 -0.748654082791 913.84403045 False False False\n",
      "y,m,c values and isnan(y,c,m) and are: 1280 0.592372394633 35.2174010895 False False False\n",
      "y,m,c values and isnan(y,c,m) and are: 514 0.592372394633 35.2174010895 False False False\n"
     ]
    },
    {
     "name": "stderr",
     "output_type": "stream",
     "text": [
      "\u001b[A\u001b[A\u001b[A\u001b[A\n",
      "\n",
      "\n",
      "\n",
      " 93%|█████████▎| 233/251 [00:22<00:02,  8.73it/s]\u001b[A\u001b[A\u001b[A\u001b[A\n",
      "\n",
      "\n",
      "\n",
      " 93%|█████████▎| 234/251 [00:22<00:02,  7.82it/s]"
     ]
    },
    {
     "name": "stdout",
     "output_type": "stream",
     "text": [
      "Left and Right weight, m_left,c_left,m_right,c_right is -1169 217 -0.737625255461 903.248875025 0.591752529969 37.6558017055\n",
      "y,m,c values and isnan(y,c,m) and are: 1280 -0.737625255461 903.248875025 False False False\n",
      "y,m,c values and isnan(y,c,m) and are: 433 -0.737625255461 903.248875025 False False False\n",
      "y,m,c values and isnan(y,c,m) and are: 1280 0.591752529969 37.6558017055 False False False\n",
      "y,m,c values and isnan(y,c,m) and are: 523 0.591752529969 37.6558017055 False False False\n",
      "Left and Right weight, m_left,c_left,m_right,c_right is -1092 187 -0.728733246647 898.128682858 0.604368732533 28.8320270571\n",
      "y,m,c values and isnan(y,c,m) and are: 1280 -0.728733246647 898.128682858 False False False\n",
      "y,m,c values and isnan(y,c,m) and are: 433 -0.728733246647 898.128682858 False False False\n",
      "y,m,c values and isnan(y,c,m) and are: 1280 0.604368732533 28.8320270571 False False False\n",
      "y,m,c values and isnan(y,c,m) and are: 536 0.604368732533 28.8320270571 False False False\n"
     ]
    },
    {
     "name": "stderr",
     "output_type": "stream",
     "text": [
      "\u001b[A\u001b[A\u001b[A\u001b[A\n",
      "\n",
      "\n",
      "\n",
      " 94%|█████████▎| 235/251 [00:22<00:02,  7.93it/s]\u001b[A\u001b[A\u001b[A\u001b[A\n",
      "\n",
      "\n",
      "\n",
      " 94%|█████████▍| 236/251 [00:22<00:01,  7.78it/s]"
     ]
    },
    {
     "name": "stdout",
     "output_type": "stream",
     "text": [
      "Left and Right weight, m_left,c_left,m_right,c_right is -1253 323 -0.742815450465 905.603594179 0.57231700197 50.9268193083\n",
      "y,m,c values and isnan(y,c,m) and are: 1280 -0.742815450465 905.603594179 False False False\n",
      "y,m,c values and isnan(y,c,m) and are: 432 -0.742815450465 905.603594179 False False False\n",
      "y,m,c values and isnan(y,c,m) and are: 1280 0.57231700197 50.9268193083 False False False\n",
      "y,m,c values and isnan(y,c,m) and are: 549 0.57231700197 50.9268193083 False False False\n",
      "Left and Right weight, m_left,c_left,m_right,c_right is -943 520 -0.748514559946 911.876692543 0.571741741154 52.2393110891\n",
      "y,m,c values and isnan(y,c,m) and are: 1280 -0.748514559946 911.876692543 False False False\n",
      "y,m,c values and isnan(y,c,m) and are: 435 -0.748514559946 911.876692543 False False False\n",
      "y,m,c values and isnan(y,c,m) and are: 1280 0.571741741154 52.2393110891 False False False\n",
      "y,m,c values and isnan(y,c,m) and are: 568 0.571741741154 52.2393110891 False False False\n"
     ]
    },
    {
     "name": "stderr",
     "output_type": "stream",
     "text": [
      "\u001b[A\u001b[A\u001b[A\u001b[A\n",
      "\n",
      "\n",
      "\n",
      " 94%|█████████▍| 237/251 [00:22<00:01,  7.25it/s]\u001b[A\u001b[A\u001b[A\u001b[A\n",
      "\n",
      "\n",
      "\n",
      " 95%|█████████▍| 238/251 [00:23<00:01,  7.40it/s]"
     ]
    },
    {
     "name": "stdout",
     "output_type": "stream",
     "text": [
      "Left and Right weight, m_left,c_left,m_right,c_right is -1157 355 -0.772776269823 925.279263503 0.586318022748 36.9982987037\n",
      "y,m,c values and isnan(y,c,m) and are: 1280 -0.772776269823 925.279263503 False False False\n",
      "y,m,c values and isnan(y,c,m) and are: 433 -0.772776269823 925.279263503 False False False\n",
      "y,m,c values and isnan(y,c,m) and are: 1280 0.586318022748 36.9982987037 False False False\n",
      "y,m,c values and isnan(y,c,m) and are: 597 0.586318022748 36.9982987037 False False False\n",
      "Left and Right weight, m_left,c_left,m_right,c_right is -488 186 -0.751299858177 918.820649327 0.595577273505 33.3467866069\n",
      "y,m,c values and isnan(y,c,m) and are: 1280 -0.751299858177 918.820649327 False False False\n",
      "y,m,c values and isnan(y,c,m) and are: 439 -0.751299858177 918.820649327 False False False\n",
      "y,m,c values and isnan(y,c,m) and are: 1280 0.595577273505 33.3467866069 False False False\n",
      "y,m,c values and isnan(y,c,m) and are: 626 0.595577273505 33.3467866069 False False False\n"
     ]
    },
    {
     "name": "stderr",
     "output_type": "stream",
     "text": [
      "\u001b[A\u001b[A\u001b[A\u001b[A\n",
      "\n",
      "\n",
      "\n",
      " 95%|█████████▌| 239/251 [00:23<00:01,  7.32it/s]\u001b[A\u001b[A\u001b[A\u001b[A\n",
      "\n",
      "\n",
      "\n",
      " 96%|█████████▌| 240/251 [00:23<00:01,  7.08it/s]"
     ]
    },
    {
     "name": "stdout",
     "output_type": "stream",
     "text": [
      "Left and Right weight, m_left,c_left,m_right,c_right is -924 5 -0.739045661824 906.154029907 1.0 1.0\n",
      "y,m,c values and isnan(y,c,m) and are: 1280 -0.739045661824 906.154029907 False False False\n",
      "y,m,c values and isnan(y,c,m) and are: 432 -0.739045661824 906.154029907 False False False\n",
      "y,m,c values and isnan(y,c,m) and are: 1280 1.0 1.0 False False False\n",
      "y,m,c values and isnan(y,c,m) and are: 1280 1.0 1.0 False False False\n",
      "Left and Right weight, m_left,c_left,m_right,c_right is -753 5 -0.711780131255 893.51590531 1.0 1.0\n",
      "y,m,c values and isnan(y,c,m) and are: 1280 -0.711780131255 893.51590531 False False False\n",
      "y,m,c values and isnan(y,c,m) and are: 437 -0.711780131255 893.51590531 False False False\n",
      "y,m,c values and isnan(y,c,m) and are: 1280 1.0 1.0 False False False\n",
      "y,m,c values and isnan(y,c,m) and are: 1280 1.0 1.0 False False False\n"
     ]
    },
    {
     "name": "stderr",
     "output_type": "stream",
     "text": [
      "\u001b[A\u001b[A\u001b[A\u001b[A\n",
      "\n",
      "\n",
      "\n",
      " 96%|█████████▌| 241/251 [00:23<00:01,  7.72it/s]\u001b[A\u001b[A\u001b[A\u001b[A"
     ]
    },
    {
     "name": "stdout",
     "output_type": "stream",
     "text": [
      "Left and Right weight, m_left,c_left,m_right,c_right is -897 114 -0.72834930881 898.838251082 0.606433719959 31.2760437916\n",
      "y,m,c values and isnan(y,c,m) and are: 1280 -0.72834930881 898.838251082 False False False\n",
      "y,m,c values and isnan(y,c,m) and are: 432 -0.72834930881 898.838251082 False False False\n",
      "y,m,c values and isnan(y,c,m) and are: 1280 0.606433719959 31.2760437916 False False False\n",
      "y,m,c values and isnan(y,c,m) and are: 498 0.606433719959 31.2760437916 False False False\n",
      "Left and Right weight, m_left,c_left,m_right,c_right is -714 139 -0.734528275746 909.333807204 0.60947121091 28.7870600489\n",
      "y,m,c values and isnan(y,c,m) and are: 1280 -0.734528275746 909.333807204 False False False\n",
      "y,m,c values and isnan(y,c,m) and are: 432 -0.734528275746 909.333807204 False False False\n",
      "y,m,c values and isnan(y,c,m) and are: 1280 0.60947121091 28.7870600489 False False False\n",
      "y,m,c values and isnan(y,c,m) and are: 508 0.60947121091 28.7870600489 False False False\n"
     ]
    },
    {
     "name": "stderr",
     "output_type": "stream",
     "text": [
      "\n",
      "\n",
      "\n",
      "\n",
      " 96%|█████████▋| 242/251 [00:23<00:01,  6.90it/s]\u001b[A\u001b[A\u001b[A\u001b[A\n",
      "\n",
      "\n",
      "\n",
      " 97%|█████████▋| 243/251 [00:23<00:01,  7.54it/s]\u001b[A\u001b[A\u001b[A\u001b[A\n",
      "\n",
      "\n",
      "\n",
      " 97%|█████████▋| 244/251 [00:23<00:00,  7.82it/s]"
     ]
    },
    {
     "name": "stdout",
     "output_type": "stream",
     "text": [
      "Left and Right weight, m_left,c_left,m_right,c_right is -423 300 -0.70211798617 890.245470097 0.582134162134 44.108997669\n",
      "y,m,c values and isnan(y,c,m) and are: 1280 -0.70211798617 890.245470097 False False False\n",
      "y,m,c values and isnan(y,c,m) and are: 432 -0.70211798617 890.245470097 False False False\n",
      "y,m,c values and isnan(y,c,m) and are: 1280 0.582134162134 44.108997669 False False False\n",
      "y,m,c values and isnan(y,c,m) and are: 513 0.582134162134 44.108997669 False False False\n",
      "Left and Right weight, m_left,c_left,m_right,c_right is -400 216 -0.702301133806 893.00694798 0.598967495939 34.0282399623\n",
      "y,m,c values and isnan(y,c,m) and are: 1280 -0.702301133806 893.00694798 False False False\n",
      "y,m,c values and isnan(y,c,m) and are: 433 -0.702301133806 893.00694798 False False False\n",
      "y,m,c values and isnan(y,c,m) and are: 1280 0.598967495939 34.0282399623 False False False\n",
      "y,m,c values and isnan(y,c,m) and are: 525 0.598967495939 34.0282399623 False False False\n"
     ]
    },
    {
     "name": "stderr",
     "output_type": "stream",
     "text": [
      "\u001b[A\u001b[A\u001b[A\u001b[A\n",
      "\n",
      "\n",
      "\n",
      " 98%|█████████▊| 245/251 [00:23<00:00,  7.92it/s]\u001b[A\u001b[A\u001b[A\u001b[A"
     ]
    },
    {
     "name": "stdout",
     "output_type": "stream",
     "text": [
      "Left and Right weight, m_left,c_left,m_right,c_right is -501 211 -0.724677193493 903.090246607 0.618521102705 16.7954608463\n",
      "y,m,c values and isnan(y,c,m) and are: 1280 -0.724677193493 903.090246607 False False False\n",
      "y,m,c values and isnan(y,c,m) and are: 434 -0.724677193493 903.090246607 False False False\n",
      "y,m,c values and isnan(y,c,m) and are: 1280 0.618521102705 16.7954608463 False False False\n",
      "y,m,c values and isnan(y,c,m) and are: 451 0.618521102705 16.7954608463 False False False\n",
      "Left and Right weight, m_left,c_left,m_right,c_right is -973 473 -0.719344908188 895.694257298 0.582060924 43.8382829538\n",
      "y,m,c values and isnan(y,c,m) and are: 1280 -0.719344908188 895.694257298 False False False\n",
      "y,m,c values and isnan(y,c,m) and are: 435 -0.719344908188 895.694257298 False False False\n",
      "y,m,c values and isnan(y,c,m) and are: 1280 0.582060924 43.8382829538 False False False\n",
      "y,m,c values and isnan(y,c,m) and are: 547 0.582060924 43.8382829538 False False False\n",
      "Left and Right weight, m_left,c_left,m_right,c_right is -668 659 -0.71320677423 897.035468437 0.576194947447 50.0414769676\n",
      "y,m,c values and isnan(y,c,m) and are: 1280 -0.71320677423 897.035468437 False False False\n",
      "y,m,c values and isnan(y,c,m) and are: 433 -0.71320677423 897.035468437 False False False\n",
      "y,m,c values and isnan(y,c,m) and are: 1280 0.576194947447 50.0414769676 False False False\n"
     ]
    },
    {
     "name": "stderr",
     "output_type": "stream",
     "text": [
      "\n",
      "\n",
      "\n",
      "\n",
      " 98%|█████████▊| 247/251 [00:24<00:00,  8.70it/s]\u001b[A\u001b[A\u001b[A\u001b[A\n",
      "\n",
      "\n",
      "\n",
      " 99%|█████████▉| 249/251 [00:24<00:00,  8.87it/s]"
     ]
    },
    {
     "name": "stdout",
     "output_type": "stream",
     "text": [
      "y,m,c values and isnan(y,c,m) and are: 563 0.576194947447 50.0414769676 False False False\n",
      "Left and Right weight, m_left,c_left,m_right,c_right is -479 710 -0.740841134096 914.208853068 0.575098413156 50.0315376436\n",
      "y,m,c values and isnan(y,c,m) and are: 1280 -0.740841134096 914.208853068 False False False\n",
      "y,m,c values and isnan(y,c,m) and are: 439 -0.740841134096 914.208853068 False False False\n",
      "y,m,c values and isnan(y,c,m) and are: 1280 0.575098413156 50.0315376436 False False False\n",
      "y,m,c values and isnan(y,c,m) and are: 585 0.575098413156 50.0315376436 False False False\n",
      "Left and Right weight, m_left,c_left,m_right,c_right is -747 305 -0.729000894005 904.130964187 0.591964802314 36.5786282546\n",
      "y,m,c values and isnan(y,c,m) and are: 1280 -0.729000894005 904.130964187 False False False\n",
      "y,m,c values and isnan(y,c,m) and are: 437 -0.729000894005 904.130964187 False False False\n",
      "y,m,c values and isnan(y,c,m) and are: 1280 0.591964802314 36.5786282546 False False False\n",
      "y,m,c values and isnan(y,c,m) and are: 615 0.591964802314 36.5786282546 False False False\n"
     ]
    },
    {
     "name": "stderr",
     "output_type": "stream",
     "text": [
      "\u001b[A\u001b[A\u001b[A\u001b[A\n",
      "\n",
      "\n",
      "\n",
      "100%|█████████▉| 250/251 [00:24<00:00,  8.71it/s]\u001b[A\u001b[A\u001b[A\u001b[A\n",
      "\n",
      "\n",
      "\n",
      "100%|██████████| 251/251 [00:24<00:00, 10.21it/s]"
     ]
    },
    {
     "name": "stdout",
     "output_type": "stream",
     "text": [
      "Left and Right weight, m_left,c_left,m_right,c_right is -1044 5 -0.713769826825 891.610689083 1.0 1.0\n",
      "y,m,c values and isnan(y,c,m) and are: 1280 -0.713769826825 891.610689083 False False False\n",
      "y,m,c values and isnan(y,c,m) and are: 437 -0.713769826825 891.610689083 False False False\n",
      "y,m,c values and isnan(y,c,m) and are: 1280 1.0 1.0 False False False\n",
      "y,m,c values and isnan(y,c,m) and are: 1280 1.0 1.0 False False False\n",
      "Left and Right weight, m_left,c_left,m_right,c_right is -959 5 -0.732780615305 904.272296465 1.0 1.0\n",
      "y,m,c values and isnan(y,c,m) and are: 1280 -0.732780615305 904.272296465 False False False\n",
      "y,m,c values and isnan(y,c,m) and are: 445 -0.732780615305 904.272296465 False False False\n",
      "y,m,c values and isnan(y,c,m) and are: 1280 1.0 1.0 False False False\n",
      "y,m,c values and isnan(y,c,m) and are: 1280 1.0 1.0 False False False\n"
     ]
    },
    {
     "name": "stderr",
     "output_type": "stream",
     "text": [
      "\u001b[A\u001b[A\u001b[A\u001b[A"
     ]
    },
    {
     "name": "stdout",
     "output_type": "stream",
     "text": [
      "[MoviePy] Done.\n",
      "[MoviePy] >>>> Video ready: test_videos_output/challenge.mp4 \n",
      "\n",
      "CPU times: user 11.2 s, sys: 4.05 s, total: 15.2 s\n",
      "Wall time: 27.5 s\n"
     ]
    }
   ],
   "source": [
    "challenge_output = 'test_videos_output/challenge.mp4'\n",
    "clip2 = VideoFileClip('test_videos/challenge.mp4')\n",
    "challenge_clip = clip2.fl_image(process_image)\n",
    "%time challenge_clip.write_videofile(challenge_output, audio=False)"
   ]
  },
  {
   "cell_type": "code",
   "execution_count": null,
   "metadata": {
    "collapsed": true,
    "deletable": true,
    "editable": true
   },
   "outputs": [],
   "source": [
    "HTML(\"\"\"\n",
    "<video width=\"960\" height=\"540\" controls>\n",
    "  <source src=\"{0}\">\n",
    "</video>\n",
    "\"\"\".format(challenge_output))"
   ]
  }
 ],
 "metadata": {
  "anaconda-cloud": {},
  "kernelspec": {
   "display_name": "Python 3",
   "language": "python",
   "name": "python3"
  },
  "language_info": {
   "codemirror_mode": {
    "name": "ipython",
    "version": 3
   },
   "file_extension": ".py",
   "mimetype": "text/x-python",
   "name": "python",
   "nbconvert_exporter": "python",
   "pygments_lexer": "ipython3",
   "version": "3.5.2"
  },
  "widgets": {
   "state": {},
   "version": "1.1.2"
  }
 },
 "nbformat": 4,
 "nbformat_minor": 0
}
